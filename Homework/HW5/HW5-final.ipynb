{
 "cells": [
  {
   "cell_type": "markdown",
   "metadata": {},
   "source": [
    "## Problem 1\n",
    "### Part 1 \n",
    "Created `cs207test` repo and cloned to my local machine."
   ]
  },
  {
   "cell_type": "markdown",
   "metadata": {},
   "source": [
    "### Part 2\n",
    "Created `roots.py` and `test_roots.py` in `cs207test`."
   ]
  },
  {
   "cell_type": "code",
   "execution_count": null,
   "metadata": {
    "collapsed": true
   },
   "outputs": [],
   "source": [
    "%%file cs207test/roots.py\n",
    "def linear_roots(a=1.0, b=0.0):\n",
    "    \"\"\"Returns the roots of a linear equation: ax+ b = 0.\n",
    "    \n",
    "    INPUTS\n",
    "    =======\n",
    "    a: float, optional, default value is 1\n",
    "       Coefficient of linear term\n",
    "    b: float, optional, default value is 0\n",
    "       Coefficient of constant term\n",
    "    \n",
    "    RETURNS\n",
    "    ========\n",
    "    roots: 1-tuple of real floats\n",
    "       Has the form (root) unless a = 0 \n",
    "       in which case a ValueError exception is raised\n",
    "    \n",
    "    EXAMPLES\n",
    "    =========\n",
    "    >>> linear_roots(1.0, 2.0)\n",
    "    -2.0\n",
    "    \"\"\"\n",
    "    if a == 0:\n",
    "        raise ValueError(\"The linear coefficient is zero.  This is not a linear equation.\")\n",
    "    else:\n",
    "        return ((-b / a))\n",
    "\n",
    "def quad_roots(a=1.0, b=2.0, c=0.0):\n",
    "    \"\"\"Returns the roots of a quadratic equation: ax^2 + bx + c = 0.\n",
    "    \n",
    "    INPUTS\n",
    "    =======\n",
    "    a: float, optional, default value is 1\n",
    "       Coefficient of quadratic term\n",
    "    b: float, optional, default value is 2\n",
    "       Coefficient of linear term\n",
    "    c: float, optional, default value is 0\n",
    "       Constant term\n",
    "    \n",
    "    RETURNS\n",
    "    ========\n",
    "    roots: 2-tuple of complex floats\n",
    "       Has the form (root1, root2) unless a = 0 \n",
    "       in which case a ValueError exception is raised\n",
    "    \n",
    "    EXAMPLES\n",
    "    =========\n",
    "    >>> quad_roots(1.0, 1.0, -12.0)\n",
    "    ((3+0j), (-4+0j))\n",
    "    \"\"\"\n",
    "    import cmath # Can return complex numbers from square roots\n",
    "    if a == 0:\n",
    "        raise ValueError(\"The quadratic coefficient is zero.  This is not a quadratic equation.\")\n",
    "    else:\n",
    "        sqrtdisc = cmath.sqrt(b * b - 4.0 * a * c)\n",
    "        r1 = -b + sqrtdisc\n",
    "        r2 = -b - sqrtdisc\n",
    "        return (r1 / 2.0 / a, r2 / 2.0 / a)"
   ]
  },
  {
   "cell_type": "code",
   "execution_count": null,
   "metadata": {
    "collapsed": true
   },
   "outputs": [],
   "source": [
    "%%file cs207test/test_roots.py\n",
    "import roots\n",
    "\n",
    "def test_quadroots_result():\n",
    "    assert roots.quad_roots(1.0, 1.0, -12.0) == ((3+0j), (-4+0j))\n",
    "\n",
    "def test_quadroots_types():\n",
    "    try:\n",
    "        roots.quad_roots(\"\", \"green\", \"hi\")\n",
    "    except TypeError as err:\n",
    "        assert(type(err) == TypeError)\n",
    "\n",
    "def test_quadroots_zerocoeff():\n",
    "    try:\n",
    "        roots.quad_roots(a=0.0)\n",
    "    except ValueError as err:\n",
    "        assert(type(err) == ValueError)\n",
    "\n",
    "def test_linearoots_result():\n",
    "    assert roots.linear_roots(2.0, -3.0) == 1.5\n",
    "\n",
    "def test_linearroots_types():\n",
    "    try:\n",
    "        roots.linear_roots(\"ocean\", 6.0)\n",
    "    except TypeError as err:\n",
    "        assert(type(err) == TypeError)\n",
    "\n",
    "def test_linearroots_zerocoeff():\n",
    "    try:\n",
    "        roots.linear_roots(a=0.0)\n",
    "    except ValueError as err:\n",
    "        assert(type(err) == ValueError)"
   ]
  },
  {
   "cell_type": "markdown",
   "metadata": {},
   "source": [
    "### Part 3 \n",
    "Created Travis CI account and started building."
   ]
  },
  {
   "cell_type": "markdown",
   "metadata": {},
   "source": [
    "--> Creat .travis.yml"
   ]
  },
  {
   "cell_type": "code",
   "execution_count": null,
   "metadata": {
    "collapsed": true
   },
   "outputs": [],
   "source": [
    "%%file cs207test/.travis.yml\n",
    "language: python\n",
    "python:\n",
    "    - \"3.5\"\n",
    "before_install:\n",
    "    - pip install pytest pytest-cov\n",
    "script:\n",
    "    - pytest"
   ]
  },
  {
   "cell_type": "markdown",
   "metadata": {},
   "source": [
    "--> Creat setup.cfg"
   ]
  },
  {
   "cell_type": "code",
   "execution_count": null,
   "metadata": {
    "collapsed": true
   },
   "outputs": [],
   "source": [
    "%%file cs207test/setup.cfg\n",
    "[tool:pytest]\n",
    "addopts = --doctest-modules --cov-report term-missing --cov roots"
   ]
  },
  {
   "cell_type": "markdown",
   "metadata": {},
   "source": [
    "### Part 4"
   ]
  },
  {
   "cell_type": "code",
   "execution_count": null,
   "metadata": {
    "collapsed": true
   },
   "outputs": [],
   "source": [
    "%%file cs207test/.travis.yml\n",
    "language: python\n",
    "python:\n",
    "    - \"3.5\"\n",
    "before_install:\n",
    "    - pip install pytest pytest-cov\n",
    "    - pip install coveralls\n",
    "script:\n",
    "    - py.test\n",
    "after_success:\n",
    "    - coveralls"
   ]
  },
  {
   "cell_type": "markdown",
   "metadata": {},
   "source": [
    "## Problem 2"
   ]
  },
  {
   "cell_type": "code",
   "execution_count": 1,
   "metadata": {},
   "outputs": [
    {
     "name": "stdout",
     "output_type": "stream",
     "text": [
      "Writing reaction_coeffs.py\n"
     ]
    }
   ],
   "source": [
    "%%file reaction_coeffs.py\n",
    "import numpy as np\n",
    "import math\n",
    "import warnings\n",
    "\n",
    "# Return constant value of k\n",
    "def const_k(k):\n",
    "    \"\"\"Returns the constant value of k.\n",
    "    \n",
    "    INPUTS\n",
    "    =======\n",
    "    k: float\n",
    "    \n",
    "    RETURNS\n",
    "    ========\n",
    "    constant value of k: float\n",
    "    \n",
    "    NOTES\n",
    "    =====\n",
    "    PRE: \n",
    "         - k has numeric type\n",
    "         \n",
    "    POST:\n",
    "         - returns a float for the constant value of k\n",
    "\n",
    "    EXAMPLES\n",
    "    =========\n",
    "    >>> const_k(0.5)\n",
    "    0.5\n",
    "    \"\"\"\n",
    "    return k\n",
    "\n",
    "# Return Arrhenius reaction rate \n",
    "def arr_k(T, params, R=8.314):\n",
    "    \"\"\"Returns the value of k determined by the Arrhenius rate.\n",
    "    \n",
    "    INPUTS\n",
    "    =======\n",
    "    T: float\n",
    "       Temperature in a Kelvin scale\n",
    "    params: list, length = 2\n",
    "       params[0]: A\n",
    "       params[1]: E\n",
    "    R: float, optional, default value is 8.314\n",
    "       Constant term, should never be changed except to convert units\n",
    "    \n",
    "    RETURNS\n",
    "    ========\n",
    "    the Arrhenius rate k: float\n",
    "\n",
    "    NOTES\n",
    "    =====\n",
    "    PRE: \n",
    "         - T, params[0], params[1] have numeric type\n",
    "         - three or fewer inputs\n",
    "    POST:\n",
    "         - T and each entry of parmas are not changed by this function\n",
    "         - raises a ValueError if T <= 0\n",
    "         - raises an Exception if the length of params is not 2\n",
    "         - raises a ValueError if params[0] <= 0\n",
    "         - raises a warning if R is modified\n",
    "         - returns the value of k determined by the Arrhenius rate\n",
    "\n",
    "    EXAMPLES\n",
    "    =========\n",
    "    >>> arr_k(1000, [4, 100])\n",
    "    3.9521765654534593\n",
    "    \"\"\"\n",
    "    if T <= 0: \n",
    "        raise ValueError('Error: Temperature T must be positive.')\n",
    "    if len(params) != 2:\n",
    "        raise Exception('Error: The length of params must be 2 in the order of [A, E].')\n",
    "    if params[0] <= 0:\n",
    "        raise ValueError('Error: The Arrhenius prefactor A must be positive.')\n",
    "    if R != 8.314:\n",
    "        warnings.warn('Warning: R = 8.314, the ideal gas constant should never be changed except to convert units.')\n",
    "    A = params[0]\n",
    "    E = params[1]\n",
    "    try:\n",
    "        ans = A * math.exp((-1)*E/(R*T))\n",
    "        if ans == 0: \n",
    "            warnings.warn('Underflow: k is too close to 0, return value is set to 0.')\n",
    "    except OverflowError:\n",
    "        warnings.warn('Overflow: k is too large, return value is set to float(\\'inf\\').')\n",
    "        ans = float('inf')\n",
    "    return ans\n",
    "\n",
    "# Return modified Arrhenius reaction rate \n",
    "def modified_arr_k(T, params, R=8.314):\n",
    "    \"\"\"Returns the value of k determined by the Arrhenius rate.\n",
    "    \n",
    "    INPUTS\n",
    "    =======\n",
    "    T: float\n",
    "       Temperature in a Kelvin scale\n",
    "    params: list, length = 3\n",
    "       params[0]: A\n",
    "       params[1]: b\n",
    "       params[2]: E\n",
    "    R: float, optional, default value is 8.314\n",
    "       Constant term, should never be changed except to convert units\n",
    "    \n",
    "    RETURNS\n",
    "    ========\n",
    "    the modified Arrhenius rate k: float\n",
    "\n",
    "    NOTES\n",
    "    =====\n",
    "    PRE: \n",
    "         - T, params[0], params[1], params[2] have numeric type\n",
    "         - three or fewer inputs\n",
    "    POST:\n",
    "         - T and each entry of parmas are not changed by this function\n",
    "         - raises a ValueError if T <= 0\n",
    "         - raises an Exception if the length of params is not 3\n",
    "         - raises a ValueError if params[0] <= 0\n",
    "         - raises a ValueError if params[1] is a complex number\n",
    "         - raises a warning if R is modified\n",
    "         - returns the value of k determined by the modified Arrhenius rate\n",
    "\n",
    "    EXAMPLES\n",
    "    =========\n",
    "    >>> modified_arr_k(100, [2, 1, 100])\n",
    "    177.33459568242117\n",
    "    \"\"\"\n",
    "    if T <= 0: \n",
    "        raise ValueError('Temperature T must be positive.')\n",
    "    if len(params) != 3:\n",
    "        raise Exception('To get modified Arrhenius reaction rate, the length of params must be 3 in the order of [A, b, E].')\n",
    "    if params[0] <= 0:\n",
    "        raise ValueError('The Arrhenius prefactor A must be positive.')\n",
    "    if isinstance(params[1], complex) and params[1].imag != 0:\n",
    "        raise ValueError('The modified Arrhenius parameter b must be real.')\n",
    "    if R != 8.314:\n",
    "        warnings.warn('Warning: R = 8.314, the ideal gas constant should never be changed except to convert units.')\n",
    "    A = params[0]\n",
    "    b = params[1]\n",
    "    E = params[2]\n",
    "    try:\n",
    "        ans = A * pow(T, b) * math.exp((-1)*E/(R*T))\n",
    "        if ans == 0: \n",
    "            warnings.warn('Underflow: k is too close to 0, return value is set to 0.')\n",
    "    except OverflowError:\n",
    "        warnings.warn('Overflow: k is too large, return value is set to float(\\'inf\\').')\n",
    "        ans = float('inf')\n",
    "    return ans\n",
    "    "
   ]
  },
  {
   "cell_type": "code",
   "execution_count": 2,
   "metadata": {},
   "outputs": [
    {
     "data": {
      "text/plain": [
       "30035490.88963961"
      ]
     },
     "execution_count": 2,
     "metadata": {},
     "output_type": "execute_result"
    }
   ],
   "source": [
    "# Test reaction_coeffs module\n",
    "import reaction_coeffs\n",
    "A = 1e7\n",
    "b = 0.5\n",
    "E = 1e3\n",
    "T = 1e2\n",
    "reaction_coeffs.modified_arr_k(T, [A, b, E])"
   ]
  },
  {
   "cell_type": "markdown",
   "metadata": {},
   "source": [
    "## Problem 3"
   ]
  },
  {
   "cell_type": "code",
   "execution_count": 3,
   "metadata": {
    "collapsed": true
   },
   "outputs": [],
   "source": [
    "def get_progress_rate(k, c_species, v_reactants):\n",
    "    \"\"\"Returns the progress rate for a reaction of the form: va*A+vb*B --> vc*C.\n",
    "    \n",
    "    INPUTS\n",
    "    =======\n",
    "    k: float\n",
    "       Reaction rate coefficient\n",
    "    c_species: 1D list of floats\n",
    "       Concentration of all species\n",
    "    v_reactants: 1D list of floats\n",
    "       Stoichiometric coefficients of reactants\n",
    "    \n",
    "    RETURNS\n",
    "    ========\n",
    "    w: float\n",
    "       prgress rate of this reaction\n",
    "\n",
    "    NOTES\n",
    "    =====\n",
    "    PRE: \n",
    "         - k, each entry of c_species and v_reactants have numeric type\n",
    "         - c_species and v_reactants have the same length\n",
    "    POST:\n",
    "         - k, c_species and v_reactants are not changed by this function\n",
    "         - raises a ValueError if k <= 0\n",
    "         - raises an Exception if c_species and v_reactants have different length\n",
    "         - returns the prgress rate w for the reaction\n",
    "\n",
    "    EXAMPLES\n",
    "    =========\n",
    "    >>> get_progress_rate(10, [1.0, 2.0, 3.0], [2.0, 1.0, 0.0])\n",
    "    20.0\n",
    "    \"\"\"\n",
    "    if k <= 0:\n",
    "        raise ValueError('k must be positive.')\n",
    "    if len(c_species) != len(v_reactants):\n",
    "        raise Exception('List c_species and list v_reactants must have same length.')\n",
    "    w = k\n",
    "    for c, v in zip(c_species, v_reactants):\n",
    "        w *= pow(c, v)\n",
    "    return w"
   ]
  },
  {
   "cell_type": "code",
   "execution_count": 4,
   "metadata": {},
   "outputs": [
    {
     "data": {
      "text/plain": [
       "20.0"
      ]
     },
     "execution_count": 4,
     "metadata": {},
     "output_type": "execute_result"
    }
   ],
   "source": [
    "# Test get_progress_rate\n",
    "k_3 = 10\n",
    "c_3 = [1.0, 2.0, 3.0]\n",
    "v_r_3 = [2.0, 1.0, 0]\n",
    "get_progress_rate(k_3, c_3, v_r_3)"
   ]
  },
  {
   "cell_type": "code",
   "execution_count": 5,
   "metadata": {},
   "outputs": [
    {
     "name": "stdout",
     "output_type": "stream",
     "text": [
      "Finding tests in NoName\n",
      "Trying:\n",
      "    get_progress_rate(10, [1.0, 2.0, 3.0], [2.0, 1.0, 0.0])\n",
      "Expecting:\n",
      "    20.0\n",
      "ok\n"
     ]
    }
   ],
   "source": [
    "# Doctest: get_progress_rate()\n",
    "import doctest\n",
    "doctest.run_docstring_examples(get_progress_rate, globals(), verbose = True)"
   ]
  },
  {
   "cell_type": "code",
   "execution_count": 6,
   "metadata": {
    "collapsed": true
   },
   "outputs": [],
   "source": [
    "# Unittests: get_progress_rate()\n",
    "def test_get_progress_rate_result():\n",
    "    assert get_progress_rate(3, [1.0, 2.0, 1.0], [1.0, 1.0, 3.0]) == 6\n",
    "\n",
    "def test_get_progress_rate_non_positive_k():\n",
    "    try:\n",
    "        get_progress_rate(-1, [1.0, 2.0, 1.0], [1.0, 1.0, 3.0])\n",
    "    except ValueError as err:\n",
    "        assert(type(err) == ValueError)\n",
    "\n",
    "def test_get_progress_rate_type():\n",
    "    try:\n",
    "        get_progress_rate('hahaha', [1.0, 2.0, 1.0], [1.0, 1.0, 3.0])\n",
    "    except TypeError as err:\n",
    "        assert(type(err) == TypeError)\n",
    "\n",
    "def test_get_progress_rate_diff_length():\n",
    "    try:\n",
    "        get_progress_rate(3, [1.0, 2.0, 1.0], [1.0, 1.0])\n",
    "    except Exception as err:\n",
    "        assert(type(err) == Exception)"
   ]
  },
  {
   "cell_type": "code",
   "execution_count": 7,
   "metadata": {},
   "outputs": [],
   "source": [
    "test_get_progress_rate_result()\n",
    "test_get_progress_rate_non_positive_k()\n",
    "test_get_progress_rate_type()\n",
    "test_get_progress_rate_diff_length()"
   ]
  },
  {
   "cell_type": "markdown",
   "metadata": {},
   "source": [
    "## Problem 4"
   ]
  },
  {
   "cell_type": "code",
   "execution_count": 8,
   "metadata": {
    "collapsed": true
   },
   "outputs": [],
   "source": [
    "def get_progress_rate_list(k, c_species, v_reactants, v_products):\n",
    "    \"\"\"Returns the list of progress rate for a list of reactions.\n",
    "    \n",
    "    INPUTS\n",
    "    =======\n",
    "    k: 1D list of floats\n",
    "       k[i] is the reaction rate coefficient for the i-th reaction\n",
    "    c_species: 1D list of floats\n",
    "       Concentration of all species\n",
    "    v_reactants: 2D list of floats\n",
    "       v_reactants[i] are the list of stoichiometric coefficients of reactants of the i-th reaction\n",
    "    v_products: 2D list of floats\n",
    "       v_products[i] are the list of stoichiometric coefficients of products of the i-th reaction\n",
    "    \n",
    "    RETURNS\n",
    "    ========\n",
    "    w: 1D list of floats\n",
    "       The list of prgress rates of the list of reactions\n",
    "\n",
    "    NOTES\n",
    "    =====\n",
    "    PRE: \n",
    "         - each entry of k, c_species and v_reactants have numeric type\n",
    "         - c_species and v_reactants[i] have the same length\n",
    "         - v_reactants and v_products have the same shape\n",
    "    POST:\n",
    "         - k, c_species and v_reactants are not changed by this function\n",
    "         - raises an Exception if k and v_reactants (or v_products) have different length\n",
    "         - raises a ValueError if any k[i] <= 0\n",
    "         - raises an Exception if c_species and v_reactants[i] have different length\n",
    "         - returns the list of prgress rates for the list of reactions\n",
    "\n",
    "    EXAMPLES\n",
    "    =========\n",
    "    >>> get_progress_rate_list([10, 10], [1.0, 2.0, 1.0], [[1.0, 2.0, 0.0], [2.0, 0.0, 2.0]], [[0.0, 0.0, 2.0], [0.0, 1.0, 1.0]])\n",
    "    [40.0, 10.0]\n",
    "    \"\"\"\n",
    "    if len(v_reactants) != len(v_products):\n",
    "        raise Exception('1st dimension of v_reactants and v_products must have same lenth.')\n",
    "    \n",
    "    num_reactions = len(v_reactants)\n",
    "    if num_reactions != len(k):\n",
    "        raise Exception('Length of k must equal the number of reactions.')\n",
    "    \n",
    "    w_list = []\n",
    "    for i in range(num_reactions):\n",
    "        w = k[i]\n",
    "        if w <= 0:\n",
    "            raise ValueError('k must be positive.')\n",
    "        \n",
    "        vi_r = v_reactants[i]\n",
    "        vi_p = v_products[i]\n",
    "        if len(vi_r) != len(vi_p):\n",
    "            raise Exception('2nd dimension of v_reactants and v_products must have same lenth.')\n",
    "        if len(vi_r) != len(c_species):\n",
    "            raise Exception('c_species and the 2nd dimension of v_reactants must have same length.')\n",
    "        \n",
    "        w = get_progress_rate(k[i], c_species, vi_r)\n",
    "        w_list.append(w)\n",
    "    return w_list"
   ]
  },
  {
   "cell_type": "code",
   "execution_count": 9,
   "metadata": {},
   "outputs": [
    {
     "name": "stdout",
     "output_type": "stream",
     "text": [
      "[40.0, 10.0]\n"
     ]
    }
   ],
   "source": [
    "k_4 = [10, 10]\n",
    "c_4 = [1.0, 2.0, 1.0]\n",
    "v_r_4 = [[1.0, 2.0, 0.0], [2.0, 0.0, 2.0]]\n",
    "v_p_4 = [[0.0, 0.0, 2.0], [0.0, 1.0, 1.0]]\n",
    "w_li_4 = get_progress_rate_list(k_4, c_4, v_r_4, v_p_4)\n",
    "print(w_li_4)"
   ]
  },
  {
   "cell_type": "code",
   "execution_count": 10,
   "metadata": {},
   "outputs": [
    {
     "name": "stdout",
     "output_type": "stream",
     "text": [
      "Finding tests in NoName\n",
      "Trying:\n",
      "    get_progress_rate_list([10, 10], [1.0, 2.0, 1.0], [[1.0, 2.0, 0.0], [2.0, 0.0, 2.0]], [[0.0, 0.0, 2.0], [0.0, 1.0, 1.0]])\n",
      "Expecting:\n",
      "    [40.0, 10.0]\n",
      "ok\n"
     ]
    }
   ],
   "source": [
    "# Doctest: get_progress_rate\n",
    "doctest.run_docstring_examples(get_progress_rate_list, globals(), verbose = True)"
   ]
  },
  {
   "cell_type": "code",
   "execution_count": 11,
   "metadata": {
    "collapsed": true
   },
   "outputs": [],
   "source": [
    "# Unittests: get_progress_rate_list()\n",
    "def test_get_progress_rate_list_result():\n",
    "    assert get_progress_rate_list([10, 10], [1.0, 2.0, 1.0], [[1.0, 2.0, 0.0], [2.0, 0.0, 2.0]], [[0.0, 0.0, 2.0], [0.0, 1.0, 1.0]]) == [40.0, 10.0]\n",
    "\n",
    "def test_get_progress_rate_list_non_positive_k():\n",
    "    try:\n",
    "        get_progress_rate_list([1, -1], c_4, v_r_4, v_p_4)\n",
    "    except ValueError as err:\n",
    "        assert(type(err) == ValueError)\n",
    "\n",
    "def test_get_progress_rate_list_type():\n",
    "    try:\n",
    "        get_progress_rate_list(['hahaha', 'hahaha'], c_4, v_r_4, v_p_4)\n",
    "    except TypeError as err:\n",
    "        assert(type(err) == TypeError)\n",
    "\n",
    "def test_get_progress_rate_list_diff_length():\n",
    "    try:\n",
    "        get_progress_rate_list([10, 10], [1.0, 2.0], v_r_4, v_p_4)\n",
    "    except Exception as err:\n",
    "        assert(type(err) == Exception)\n",
    "\n",
    "def test_get_progress_rate_list_diff_shape_1d():\n",
    "    try:\n",
    "        get_progress_rate_list([10, 10], c_4, v_r_4, [1, 2, 3])\n",
    "    except Exception as err:\n",
    "        assert(type(err) == Exception)\n",
    "\n",
    "def test_get_progress_rate_list_diff_shape_2d():\n",
    "    try:\n",
    "        get_progress_rate_list([10, 10], c_4, [[1, 2, 3], [1, 2, 3]], [[1, 2, 3], [1, 2]])\n",
    "    except Exception as err:\n",
    "        assert(type(err) == Exception)\n",
    "\n",
    "def test_get_progress_rate_list_wrong_k_length():\n",
    "    try:\n",
    "        get_progress_rate_list([10], c_4, v_r_4, v_p_4)\n",
    "    except Exception as err:\n",
    "        assert(type(err) == Exception)"
   ]
  },
  {
   "cell_type": "code",
   "execution_count": 12,
   "metadata": {},
   "outputs": [],
   "source": [
    "test_get_progress_rate_list_result()\n",
    "test_get_progress_rate_list_non_positive_k()\n",
    "test_get_progress_rate_list_type()\n",
    "test_get_progress_rate_list_diff_length()\n",
    "test_get_progress_rate_list_diff_shape_1d()\n",
    "test_get_progress_rate_list_diff_shape_2d()\n",
    "test_get_progress_rate_list_wrong_k_length()"
   ]
  },
  {
   "cell_type": "markdown",
   "metadata": {},
   "source": [
    "## Problem 5"
   ]
  },
  {
   "cell_type": "code",
   "execution_count": 13,
   "metadata": {
    "collapsed": true
   },
   "outputs": [],
   "source": [
    "import numpy as np\n",
    "def get_reaction_rate(k, c_species, v_reactants, v_products):\n",
    "    \"\"\"Returns the list of progress rate for a list of reactions.\n",
    "    \n",
    "    INPUTS\n",
    "    =======\n",
    "    k: 1D list of floats\n",
    "       k[i] is the reaction rate coefficient for the i-th reaction\n",
    "    c_species: 1D list of floats\n",
    "       Concentration of all species\n",
    "    v_reactants: 2D list of floats\n",
    "       v_reactants[i] are the list of stoichiometric coefficients of reactants of the i-th reaction\n",
    "    v_products: 2D list of floats\n",
    "       v_products[i] are the list of stoichiometric coefficients of products of the i-th reaction\n",
    "    \n",
    "    RETURNS\n",
    "    ========\n",
    "    w: 1D list of floats\n",
    "       The list of prgress rates of the list of reactions\n",
    "\n",
    "    NOTES\n",
    "    =====\n",
    "    PRE: \n",
    "         - each entry of k, c_species and v_reactants have numeric type\n",
    "         - c_species and v_reactants[i] have the same length\n",
    "         - v_reactants and v_products have the same shape\n",
    "    POST:\n",
    "         - k, c_species and v_reactants are not changed by this function\n",
    "         - raises an Exception if k and v_reactants (or v_products) have different length\n",
    "         - raises a ValueError if any k[i] <= 0\n",
    "         - raises an Exception if c_species and v_reactants[i] have different length\n",
    "         - returns the list of prgress rates for the list of reactions\n",
    "\n",
    "    EXAMPLES\n",
    "    =========\n",
    "    >>> get_reaction_rate([10, 10], [1.0, 2.0, 1.0], [[1.0, 2.0, 0.0], [0.0, 0.0, 2.0]], [[0.0, 0.0, 1.0], [1.0, 2.0, 0.0]])\n",
    "    array([[-30.],\n",
    "           [-60.],\n",
    "           [ 20.]])\n",
    "    \"\"\"\n",
    "    w_list = get_progress_rate_list(k, c_species, v_reactants, v_products)\n",
    "    w_matrix = np.asarray(w_list).reshape(len(w_list), 1)\n",
    "    \n",
    "    v_r_matrix = np.asarray(v_reactants).transpose()\n",
    "    v_p_matrix = np.asarray(v_products).transpose()\n",
    "    v_matrix = v_p_matrix - v_r_matrix\n",
    "    \n",
    "    reaction_rate_matrix = np.dot(v_matrix, w_matrix)\n",
    "    return reaction_rate_matrix\n",
    "    "
   ]
  },
  {
   "cell_type": "code",
   "execution_count": 14,
   "metadata": {},
   "outputs": [
    {
     "data": {
      "text/plain": [
       "array([[-30.],\n",
       "       [-60.],\n",
       "       [ 20.]])"
      ]
     },
     "execution_count": 14,
     "metadata": {},
     "output_type": "execute_result"
    }
   ],
   "source": [
    "k_5 = [10, 10]\n",
    "c_5 = [1.0, 2.0, 1.0]\n",
    "v_r_5 = [[1.0, 2.0, 0.0], [0.0, 0.0, 2.0]]\n",
    "v_p_5 = [[0.0, 0.0, 1.0], [1.0, 2.0, 0.0]]\n",
    "get_reaction_rate(k_5, c_5, v_r_5, v_p_5)"
   ]
  },
  {
   "cell_type": "code",
   "execution_count": 15,
   "metadata": {},
   "outputs": [
    {
     "name": "stdout",
     "output_type": "stream",
     "text": [
      "Finding tests in NoName\n",
      "Trying:\n",
      "    get_reaction_rate([10, 10], [1.0, 2.0, 1.0], [[1.0, 2.0, 0.0], [0.0, 0.0, 2.0]], [[0.0, 0.0, 1.0], [1.0, 2.0, 0.0]])\n",
      "Expecting:\n",
      "    array([[-30.],\n",
      "           [-60.],\n",
      "           [ 20.]])\n",
      "ok\n"
     ]
    }
   ],
   "source": [
    "# Doctest: get_reaction_rate\n",
    "doctest.run_docstring_examples(get_reaction_rate, globals(), verbose = True)"
   ]
  },
  {
   "cell_type": "code",
   "execution_count": 16,
   "metadata": {},
   "outputs": [],
   "source": [
    "# Unittests: get_reaction_rate()\n",
    "def test_get_reaction_rate_result():\n",
    "    ret = get_reaction_rate([1, 1], [1.0, 2.0, 1.0], [[1.0, 2.0, 0.0], [0.0, 0.0, 2.0]], [[0.0, 0.0, 1.0], [1.0, 2.0, 0.0]])\n",
    "    ret = ret.reshape(ret.shape[0])\n",
    "    ret_0 = ret[0]\n",
    "    ret_1 = ret[1]\n",
    "    ret_2 = ret[2]\n",
    "    assert (ret_0 == -3 and ret_1 == -6 and ret_2 == 2)\n",
    "\n",
    "def test_get_reaction_rate_non_positive_k():\n",
    "    try:\n",
    "        get_reaction_rate([1, -1], c_5, v_r_5, v_p_5)\n",
    "    except ValueError as err:\n",
    "        assert(type(err) == ValueError)\n",
    "\n",
    "def test_get_reaction_rate_type():\n",
    "    try:\n",
    "        get_reaction_rate(['hahaha', 'hahaha'], c_5, v_r_5, v_p_5)\n",
    "    except TypeError as err:\n",
    "        assert(type(err) == TypeError)\n",
    "\n",
    "def test_get_reaction_rate_diff_length():\n",
    "    try:\n",
    "        get_reaction_rate([10, 10], [1.0, 2.0], v_r_5, v_p_5)\n",
    "    except Exception as err:\n",
    "        assert(type(err) == Exception)\n",
    "\n",
    "def test_get_reaction_rate_diff_shape_1d():\n",
    "    try:\n",
    "        get_reaction_rate([10, 10], c_5, v_r_5, [1, 2, 3])\n",
    "    except Exception as err:\n",
    "        assert(type(err) == Exception)\n",
    "\n",
    "def test_get_reaction_rate_diff_shape_2d():\n",
    "    try:\n",
    "        get_reaction_rate([10, 10], c_5, [[1, 2, 3], [1, 2, 3]], [[1, 2, 3], [1, 2]])\n",
    "    except Exception as err:\n",
    "        assert(type(err) == Exception)\n",
    "\n",
    "def test_get_reaction_rate_wrong_k_length():\n",
    "    try:\n",
    "        get_reaction_rate([10], c_5, v_r_5, v_p_5)\n",
    "    except Exception as err:\n",
    "        assert(type(err) == Exception)"
   ]
  },
  {
   "cell_type": "code",
   "execution_count": 17,
   "metadata": {},
   "outputs": [],
   "source": [
    "test_get_reaction_rate_result()\n",
    "test_get_reaction_rate_non_positive_k()\n",
    "test_get_reaction_rate_type()\n",
    "test_get_reaction_rate_diff_length()\n",
    "test_get_reaction_rate_diff_shape_1d()\n",
    "test_get_reaction_rate_diff_shape_2d()\n",
    "test_get_reaction_rate_wrong_k_length()"
   ]
  },
  {
   "cell_type": "markdown",
   "metadata": {},
   "source": [
    "## Problem 6"
   ]
  },
  {
   "cell_type": "code",
   "execution_count": 18,
   "metadata": {},
   "outputs": [
    {
     "name": "stdout",
     "output_type": "stream",
     "text": [
      "Writing chemkin.py\n"
     ]
    }
   ],
   "source": [
    "%%file chemkin.py\n",
    "import numpy as np\n",
    "\n",
    "def get_progress_rate(k, c_species, v_reactants):\n",
    "    \"\"\"Returns the progress rate for a reaction of the form: va*A+vb*B --> vc*C.\n",
    "    \n",
    "    INPUTS\n",
    "    =======\n",
    "    k: float\n",
    "       Reaction rate coefficient\n",
    "    c_species: 1D list of floats\n",
    "       Concentration of all species\n",
    "    v_reactants: 1D list of floats\n",
    "       Stoichiometric coefficients of reactants\n",
    "    \n",
    "    RETURNS\n",
    "    ========\n",
    "    w: float\n",
    "       prgress rate of this reaction\n",
    "\n",
    "    NOTES\n",
    "    =====\n",
    "    PRE: \n",
    "         - k, each entry of c_species and v_reactants have numeric type\n",
    "         - c_species and v_reactants have the same length\n",
    "    POST:\n",
    "         - k, c_species and v_reactants are not changed by this function\n",
    "         - raises a ValueError if k <= 0\n",
    "         - raises an Exception if c_species and v_reactants have different length\n",
    "         - returns the prgress rate w for the reaction\n",
    "\n",
    "    EXAMPLES\n",
    "    =========\n",
    "    >>> get_progress_rate(10, [1.0, 2.0, 3.0], [2.0, 1.0, 0.0])\n",
    "    20.0\n",
    "    \"\"\"\n",
    "    if k <= 0:\n",
    "        raise ValueError('k must be positive.')\n",
    "    if len(c_species) != len(v_reactants):\n",
    "        raise Exception('List c_species and list v_reactants must have same length.')\n",
    "    w = k\n",
    "    for c, v in zip(c_species, v_reactants):\n",
    "        w *= pow(c, v)\n",
    "    return w\n",
    "\n",
    "\n",
    "def get_progress_rate_list(k, c_species, v_reactants, v_products):\n",
    "    \"\"\"Returns the list of progress rate for a list of reactions.\n",
    "    \n",
    "    INPUTS\n",
    "    =======\n",
    "    k: 1D list of floats\n",
    "       k[i] is the reaction rate coefficient for the i-th reaction\n",
    "    c_species: 1D list of floats\n",
    "       Concentration of all species\n",
    "    v_reactants: 2D list of floats\n",
    "       v_reactants[i] are the list of stoichiometric coefficients of reactants of the i-th reaction\n",
    "    v_products: 2D list of floats\n",
    "       v_products[i] are the list of stoichiometric coefficients of products of the i-th reaction\n",
    "    \n",
    "    RETURNS\n",
    "    ========\n",
    "    w: 1D list of floats\n",
    "       The list of prgress rates of the list of reactions\n",
    "\n",
    "    NOTES\n",
    "    =====\n",
    "    PRE: \n",
    "         - each entry of k, c_species and v_reactants have numeric type\n",
    "         - c_species and v_reactants[i] have the same length\n",
    "         - v_reactants and v_products have the same shape\n",
    "    POST:\n",
    "         - k, c_species and v_reactants are not changed by this function\n",
    "         - raises an Exception if k and v_reactants (or v_products) have different length\n",
    "         - raises a ValueError if any k[i] <= 0\n",
    "         - raises an Exception if c_species and v_reactants[i] have different length\n",
    "         - returns the list of prgress rates for the list of reactions\n",
    "\n",
    "    EXAMPLES\n",
    "    =========\n",
    "    >>> get_progress_rate_list([10, 10], [1.0, 2.0, 1.0], [[1.0, 2.0, 0.0], [2.0, 0.0, 2.0]], [[0.0, 0.0, 2.0], [0.0, 1.0, 1.0]])\n",
    "    [40.0, 10.0]\n",
    "    \"\"\"\n",
    "    if len(v_reactants) != len(v_products):\n",
    "        raise Exception('1st dimension of v_reactants and v_products must have same lenth.')\n",
    "    \n",
    "    num_reactions = len(v_reactants)\n",
    "    if num_reactions != len(k):\n",
    "        raise Exception('Length of k must equal the number of reactions.')\n",
    "    \n",
    "    w_list = []\n",
    "    for i in range(num_reactions):\n",
    "        w = k[i]\n",
    "        if w <= 0:\n",
    "            raise ValueError('k must be positive.')\n",
    "        \n",
    "        vi_r = v_reactants[i]\n",
    "        vi_p = v_products[i]\n",
    "        if len(vi_r) != len(vi_p):\n",
    "            raise Exception('2nd dimension of v_reactants and v_products must have same lenth.')\n",
    "        if len(vi_r) != len(c_species):\n",
    "            raise Exception('c_species and the 2nd dimension of v_reactants must have same length.')\n",
    "        \n",
    "        w = get_progress_rate(k[i], c_species, vi_r)\n",
    "        w_list.append(w)\n",
    "    return w_list\n",
    "\n",
    "\n",
    "def get_reaction_rate(k, c_species, v_reactants, v_products):\n",
    "    \"\"\"Returns the list of progress rate for a list of reactions.\n",
    "    \n",
    "    INPUTS\n",
    "    =======\n",
    "    k: 1D list of floats\n",
    "       k[i] is the reaction rate coefficient for the i-th reaction\n",
    "    c_species: 1D list of floats\n",
    "       Concentration of all species\n",
    "    v_reactants: 2D list of floats\n",
    "       v_reactants[i] are the list of stoichiometric coefficients of reactants of the i-th reaction\n",
    "    v_products: 2D list of floats\n",
    "       v_products[i] are the list of stoichiometric coefficients of products of the i-th reaction\n",
    "    \n",
    "    RETURNS\n",
    "    ========\n",
    "    w: 1D list of floats\n",
    "       The list of prgress rates of the list of reactions\n",
    "\n",
    "    NOTES\n",
    "    =====\n",
    "    PRE: \n",
    "         - each entry of k, c_species and v_reactants have numeric type\n",
    "         - c_species and v_reactants[i] have the same length\n",
    "         - v_reactants and v_products have the same shape\n",
    "    POST:\n",
    "         - k, c_species and v_reactants are not changed by this function\n",
    "         - raises an Exception if k and v_reactants (or v_products) have different length\n",
    "         - raises a ValueError if any k[i] <= 0\n",
    "         - raises an Exception if c_species and v_reactants[i] have different length\n",
    "         - returns the list of prgress rates for the list of reactions\n",
    "\n",
    "    EXAMPLES\n",
    "    =========\n",
    "    >>> get_reaction_rate([10, 10], [1.0, 2.0, 1.0], [[1.0, 2.0, 0.0], [0.0, 0.0, 2.0]], [[0.0, 0.0, 1.0], [1.0, 2.0, 0.0]])\n",
    "    array([[-30.],\n",
    "           [-60.],\n",
    "           [ 20.]])\n",
    "    \"\"\"\n",
    "    w_list = get_progress_rate_list(k, c_species, v_reactants, v_products)\n",
    "    w_matrix = np.asarray(w_list).reshape(len(w_list), 1)\n",
    "    \n",
    "    v_r_matrix = np.asarray(v_reactants).transpose()\n",
    "    v_p_matrix = np.asarray(v_products).transpose()\n",
    "    v_matrix = v_p_matrix - v_r_matrix\n",
    "    \n",
    "    reaction_rate_matrix = np.dot(v_matrix, w_matrix)\n",
    "    return reaction_rate_matrix\n",
    "    \n"
   ]
  },
  {
   "cell_type": "code",
   "execution_count": 19,
   "metadata": {},
   "outputs": [
    {
     "name": "stdout",
     "output_type": "stream",
     "text": [
      "Reaction_rate for H2, O2, OH, HO2, H2O at Temperature 750 K is\n",
      "-3607077.8728040615\n",
      "-5613545.1836207891\n",
      "9220623.0564248506\n",
      "2006467.3108167278\n",
      "-2006467.3108167278\n",
      "------------------\n",
      "\n",
      "Reaction_rate for H2, O2, OH, HO2, H2O at Temperature 1500 K is\n",
      "-281117620.7648701668\n",
      "-285597559.2380453944\n",
      "566715180.0029155016\n",
      "4479938.4731752202\n",
      "-4479938.4731752202\n",
      "------------------\n",
      "\n",
      "Reaction_rate for H2, O2, OH, HO2, H2O at Temperature 2500 K is\n",
      "-1804261425.9632477760\n",
      "-1810437356.9389050007\n",
      "3614698782.9021530151\n",
      "6175930.9756572321\n",
      "-6175930.9756572321\n",
      "------------------\n",
      "\n"
     ]
    }
   ],
   "source": [
    "import numpy as np\n",
    "import sys\n",
    "import chemkin\n",
    "import reaction_coeffs\n",
    "\n",
    "# Plug in given parameters\n",
    "c_species_6 = [2.0, 1.0, 0.5, 1.0, 1.0]\n",
    "T_list = [750, 1500, 2500]\n",
    "\n",
    "A1 = 1e8\n",
    "b1 = 0.5\n",
    "E1 = 5e4\n",
    "\n",
    "k2_value = 1e4\n",
    "\n",
    "A3 = 1e7\n",
    "E3 = 1e4\n",
    "\n",
    "# Build Stoichiometric coefficient matrices for reactants and products\n",
    "v_r_6 = [\n",
    "    [2.0, 1.0, 0.0, 0.0, 0.0],\n",
    "    [0.0, 0.0, 1.0, 1.0, 0.0],\n",
    "    [0.0, 1.0, 0.0, 0.0, 1.0]\n",
    "]\n",
    "v_p_6 = [\n",
    "    [1.0, 0.0, 2.0, 0.0, 0.0],\n",
    "    [0.0, 1.0, 0.0, 0.0, 1.0],\n",
    "    [0.0, 0.0, 1.0, 1.0, 0.0]\n",
    "]\n",
    "\n",
    "# Compute the reaction rates\n",
    "for i in range(len(T_list)):\n",
    "    T = T_list[i]\n",
    "    k1 = reaction_coeffs.modified_arr_k(T, [A1, b1, E1])\n",
    "    k2 = reaction_coeffs.const_k(k2_value)\n",
    "    k3 = reaction_coeffs.arr_k(T, [A3, E3])\n",
    "    \n",
    "    reaction_rate = chemkin.get_reaction_rate(list([k1, k2, k3]), c_species_6, v_r_6, v_p_6)\n",
    "    print('Reaction_rate for H2, O2, OH, HO2, H2O at Temperature %d K is' % T)\n",
    "    np.savetxt(sys.stdout, reaction_rate, '%12.10f')\n",
    "    print('------------------\\n')"
   ]
  },
  {
   "cell_type": "code",
   "execution_count": 20,
   "metadata": {},
   "outputs": [
    {
     "name": "stdout",
     "output_type": "stream",
     "text": [
      "\u001b[1m============================= test session starts ==============================\u001b[0m\n",
      "platform darwin -- Python 3.6.1, pytest-3.0.7, py-1.4.33, pluggy-0.4.0\n",
      "rootdir: /Users/jasminetong/Documents/Master@Harvard-MIT/2017_Fall/CS207/cs207_Jiawen_Tong/homeworks/HW5, inifile:\n",
      "plugins: cov-2.5.1\n",
      "collected 18 items \u001b[0m\u001b[1m\n",
      "\u001b[0m\n",
      "test_chemkin.py ..................\n",
      "\n",
      "---------- coverage: platform darwin, python 3.6.1-final-0 -----------\n",
      "Name              Stmts   Miss  Cover   Missing\n",
      "-----------------------------------------------\n",
      "chemkin.py           38      0   100%\n",
      "test_chemkin.py      88      0   100%\n",
      "-----------------------------------------------\n",
      "TOTAL               126      0   100%\n",
      "\n",
      "\n",
      "\u001b[32m\u001b[1m========================== 18 passed in 0.32 seconds ===========================\u001b[0m\n"
     ]
    }
   ],
   "source": [
    "!pytest test_chemkin.py --doctest-modules --cov --cov-report term-missing"
   ]
  },
  {
   "cell_type": "code",
   "execution_count": null,
   "metadata": {
    "collapsed": true
   },
   "outputs": [],
   "source": []
  }
 ],
 "metadata": {
  "kernelspec": {
   "display_name": "Python 3",
   "language": "python",
   "name": "python3"
  },
  "language_info": {
   "codemirror_mode": {
    "name": "ipython",
    "version": 3
   },
   "file_extension": ".py",
   "mimetype": "text/x-python",
   "name": "python",
   "nbconvert_exporter": "python",
   "pygments_lexer": "ipython3",
   "version": "3.6.1"
  }
 },
 "nbformat": 4,
 "nbformat_minor": 2
}
