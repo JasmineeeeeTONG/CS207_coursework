{
 "cells": [
  {
   "cell_type": "markdown",
   "metadata": {},
   "source": [
    "# Homework 6\n",
    "## Due:  Tuesday, October 10 at 11:59 PM"
   ]
  },
  {
   "cell_type": "markdown",
   "metadata": {},
   "source": [
    "# Problem 1: Bank Account Revisited\n",
    "\n",
    "We are going to rewrite the bank account closure problem we had a few assignments ago, only this time developing a formal class for a Bank User and Bank Account to use in our closure (recall previously we just had a nonlocal variable amount that we changed). "
   ]
  },
  {
   "cell_type": "markdown",
   "metadata": {},
   "source": [
    "### Some Preliminaries:\n",
    "First we are going to define two types of bank accounts.  Use the code below to do this:"
   ]
  },
  {
   "cell_type": "code",
   "execution_count": 1,
   "metadata": {
    "collapsed": true
   },
   "outputs": [],
   "source": [
    "from enum import Enum\n",
    "class AccountType(Enum):\n",
    "    SAVINGS = 1\n",
    "    CHECKING = 2"
   ]
  },
  {
   "cell_type": "markdown",
   "metadata": {},
   "source": [
    "An Enum stands for an enumeration, it's a convenient way for you to define lists of things. Typing:"
   ]
  },
  {
   "cell_type": "code",
   "execution_count": 2,
   "metadata": {},
   "outputs": [
    {
     "data": {
      "text/plain": [
       "<AccountType.SAVINGS: 1>"
      ]
     },
     "execution_count": 2,
     "metadata": {},
     "output_type": "execute_result"
    }
   ],
   "source": [
    "AccountType.SAVINGS"
   ]
  },
  {
   "cell_type": "code",
   "execution_count": 3,
   "metadata": {},
   "outputs": [
    {
     "data": {
      "text/plain": [
       "1"
      ]
     },
     "execution_count": 3,
     "metadata": {},
     "output_type": "execute_result"
    }
   ],
   "source": [
    "AccountType.SAVINGS.value"
   ]
  },
  {
   "cell_type": "markdown",
   "metadata": {},
   "source": [
    "returns a Python representation of an enumeration. You can compare these account types:"
   ]
  },
  {
   "cell_type": "code",
   "execution_count": 4,
   "metadata": {},
   "outputs": [
    {
     "data": {
      "text/plain": [
       "True"
      ]
     },
     "execution_count": 4,
     "metadata": {},
     "output_type": "execute_result"
    }
   ],
   "source": [
    "AccountType.SAVINGS == AccountType.SAVINGS"
   ]
  },
  {
   "cell_type": "code",
   "execution_count": 5,
   "metadata": {},
   "outputs": [
    {
     "data": {
      "text/plain": [
       "False"
      ]
     },
     "execution_count": 5,
     "metadata": {},
     "output_type": "execute_result"
    }
   ],
   "source": [
    "AccountType.SAVINGS == AccountType.CHECKING"
   ]
  },
  {
   "cell_type": "markdown",
   "metadata": {},
   "source": [
    "To get a string representation of an Enum, you can use:"
   ]
  },
  {
   "cell_type": "code",
   "execution_count": 6,
   "metadata": {},
   "outputs": [
    {
     "data": {
      "text/plain": [
       "'SAVINGS'"
      ]
     },
     "execution_count": 6,
     "metadata": {},
     "output_type": "execute_result"
    }
   ],
   "source": [
    "AccountType.SAVINGS.name"
   ]
  },
  {
   "cell_type": "markdown",
   "metadata": {},
   "source": [
    "### Part 1: Create a BankAccount class with the following specification:\n",
    "\n",
    "Constructor is `BankAccount(self, owner, accountType)` where `owner` is a string representing the name of the account owner and `accountType` is one of the AccountType enums\n",
    "\n",
    "Methods `withdraw(self, amount)` and `deposit(self, amount)` to modify the account balance of the account\n",
    "\n",
    "Override methods `__str__` to write an informative string of the account owner and the type of account, and `__len__` to return the balance of the account"
   ]
  },
  {
   "cell_type": "code",
   "execution_count": 7,
   "metadata": {
    "collapsed": true
   },
   "outputs": [],
   "source": [
    "class BankAccount():\n",
    "    \n",
    "    def __init__(self, owner, accountType):\n",
    "        self.owner = owner\n",
    "        self.accountType = accountType\n",
    "        self.balance = 0 # The initial balance of a BankAccount should be 0\n",
    "    \n",
    "    def withdraw(self, amount):\n",
    "        if amount > self.balance:\n",
    "            raise Exception('BankAccount_withdraw Error: In %s , you are attempting to withdraw more than the current balance. \\n' % self.accountType.name)\n",
    "        self.balance = self.balance - amount\n",
    "        print('BankAccount_withdraw Sucessful: \\n In %s , current balance: %f \\n' % (self.accountType.name, self.balance))\n",
    "    \n",
    "    def deposit(self, amount):\n",
    "        self.balance = self.balance + amount\n",
    "        print('BankAccount_deposit Sucessful: \\n In %s , current balance: %f \\n' % (self.accountType.name, self.balance))\n",
    "    \n",
    "    def __str__(self):\n",
    "        return ('-----BankAccount-----\\n owner: %s \\n Accont Type: %s \\n---------------------\\n' % (self.owner, self.accountType.name))\n",
    "    \n",
    "    def __len__(self):\n",
    "        return self.balance\n",
    "        \n",
    "        "
   ]
  },
  {
   "cell_type": "markdown",
   "metadata": {},
   "source": [
    "### Part 2:  Write a class BankUser with the following specification:\n",
    "\n",
    "Constructor `BankUser(self, owner)` where `owner` is the name of the account.\n",
    "\n",
    "Method `addAccount(self, accountType)` - to start, a user will have no accounts when the BankUser object is created. `addAccount` will add a new account to the user of the `accountType` specified. **Only one savings/checking account per user, return appropriate error otherwise**\n",
    "\n",
    "Methods `getBalance(self, accountType)`, `deposit(self, accountType, amount)`, and `withdraw(self, accountType, amount)` for a specific AccountType.\n",
    "\n",
    "Override `__str__` to have an informative summary of user's accounts."
   ]
  },
  {
   "cell_type": "code",
   "execution_count": 8,
   "metadata": {
    "collapsed": true
   },
   "outputs": [],
   "source": [
    "class BankUser():\n",
    "    \n",
    "    def __init__(self, owner):\n",
    "        self.owner = owner\n",
    "        self.savings_account = None\n",
    "        self.checking_account = None\n",
    "        \n",
    "    def addAccount(self, accountType):\n",
    "        if accountType == AccountType.SAVINGS: # Add a savings account\n",
    "            if self.savings_account != None:\n",
    "                raise Exception('BankUser_addAccount Limit Error: You can have only 1 SAVINGS account. \\n')\n",
    "            else:\n",
    "                self.savings_account = BankAccount(self.owner, AccountType.SAVINGS)\n",
    "                print('BankUser_addAccount Successful: \\n AccountType: SAVINGS \\n')\n",
    "        \n",
    "        elif accountType == AccountType.CHECKING: # Add a checking account\n",
    "            if self.checking_account != None:\n",
    "                raise Exception('BankUser_addAccount Limit Error: You can have only 1 CHECKING account. \\n')\n",
    "            else:\n",
    "                self.checking_account = BankAccount(self.owner, AccountType.CHECKING)\n",
    "                print('BankUser_addAccount Successful: \\n AccountType: CHECKING \\n')\n",
    "         \n",
    "        else: # Add some other non-specified type of account. Exception raised.\n",
    "            raise Exception('BankUser_addAccount Type Error: You can add either a SAVINGS or CHECKING account. \\n')\n",
    "    \n",
    "    \n",
    "    def getBalance(self, accountType):\n",
    "        if accountType == AccountType.SAVINGS: # Get balance of the savings account\n",
    "            if self.savings_account != None:\n",
    "                print('BankUser_getBalance: \\n In %s , current balance: %f \\n' % (accountType.name, self.savings_account.balance))\n",
    "                return self.savings_account.balance\n",
    "            else:\n",
    "                raise Exception('BankUser_getBalance Error: You do not have a SAVINGS account yet. \\n')\n",
    "        \n",
    "        elif accountType == AccountType.CHECKING: # Get balance of the checking account\n",
    "            if self.checking_account != None:\n",
    "                print('BankUser_getBalance: \\n In %s , current balance: %f \\n' % (accountType.name, self.checking_account.balance))\n",
    "                return self.checking_account.balance\n",
    "            else:\n",
    "                raise Exception('BankUser_getBalance Error: You do not have a CHECKING account yet. \\n')\n",
    "        \n",
    "        else: # Get balance of some other non-specified type of account. Exception raised.\n",
    "            raise Exception('BankUser_getBalance Type Error: You can get balance from either your SAVINGS or CHECKING account. \\n')\n",
    "     \n",
    "    \n",
    "    def deposit(self, accountType, amount):\n",
    "        if accountType == AccountType.SAVINGS: # Deposit to the savings account\n",
    "            if self.savings_account != None:\n",
    "                self.savings_account.deposit(amount)\n",
    "            else:\n",
    "                raise Exception('BankUser_deposit Error: You do not have a SAVINGS account yet. \\n')\n",
    "        elif accountType == AccountType.CHECKING: # Deposit to the checking account\n",
    "            if self.checking_account != None:\n",
    "                self.checking_account.deposit(amount)\n",
    "            else:\n",
    "                raise Exception('BankUser_deposit Error: You do not have a CHECKING account yet. \\n')\n",
    "        else: # Deposit to some other non-specified type of account. Exception raised.\n",
    "            raise Exception('BankUser_deposit Type Error: You can deposit to either your SAVINGS or CHECKING account. \\n')\n",
    "    \n",
    "    \n",
    "    def withdraw(self, accountType, amount):\n",
    "        if accountType == AccountType.SAVINGS: # Withdraw from the savings account\n",
    "            if self.savings_account != None:\n",
    "                self.savings_account.withdraw(amount)\n",
    "            else:\n",
    "                raise Exception('BankUser_withdraw Error: You do not have a SAVINGS account yet. \\n')\n",
    "        elif accountType == AccountType.CHECKING: # Withdraw from the checking account\n",
    "            if self.checking_account != None:\n",
    "                self.checking_account.withdraw(amount)\n",
    "            else:\n",
    "                raise Exception('BankUser_withdraw Error: You do not have a CHECKING account yet. \\n')\n",
    "        else: # Withdraw from some other non-specified type of account. Exception raised.\n",
    "            raise Exception('BankUser_withdraw Type Error: You can withdraw from either your SAVINGS or CHECKING account. \\n')\n",
    "    \n",
    "    def __str__(self):\n",
    "        description = '-----BankUser-----\\n owner: %s \\n' % self.owner\n",
    "        if self.savings_account != None:\n",
    "            description += ' SAVINGS current balance: %f \\n' % self.savings_account.balance\n",
    "        if self.checking_account != None:\n",
    "            description += ' CHECKING current balance: %f \\n' % self.checking_account.balance\n",
    "        description += '-------------------\\n'\n",
    "        return description\n",
    "        "
   ]
  },
  {
   "cell_type": "markdown",
   "metadata": {},
   "source": [
    "Write some simple tests to make sure this is working. Think of edge scenarios a user might try to do."
   ]
  },
  {
   "cell_type": "code",
   "execution_count": 9,
   "metadata": {},
   "outputs": [
    {
     "name": "stdout",
     "output_type": "stream",
     "text": [
      "Pooh is trying to get balance when he has not yet opend any account...\n",
      "[Error Msg] BankUser_getBalance Error: You do not have a SAVINGS account yet. \n",
      "\n",
      "BankUser_addAccount Successful: \n",
      " AccountType: SAVINGS \n",
      "\n",
      "BankUser_addAccount Successful: \n",
      " AccountType: CHECKING \n",
      "\n",
      "Pooh is trying to add a neither SAVINGS nor CHECKING account...\n",
      "[Error Msg] BankUser_addAccount Type Error: You can add either a SAVINGS or CHECKING account. \n",
      "\n",
      "Pooh is trying to add more than 1 SAVINGS account...\n",
      "[Error Msg] BankUser_addAccount Limit Error: You can have only 1 SAVINGS account. \n",
      "\n",
      "Once again, pooh is trying to add more than 1 SAVINGS account...\n",
      "[Error Msg] BankUser_addAccount Limit Error: You can have only 1 SAVINGS account. \n",
      "\n",
      "BankAccount_deposit Sucessful: \n",
      " In SAVINGS , current balance: 100.000000 \n",
      "\n",
      "BankAccount_deposit Sucessful: \n",
      " In CHECKING , current balance: 100.000000 \n",
      "\n",
      "BankAccount_deposit Sucessful: \n",
      " In CHECKING , current balance: 110.000000 \n",
      "\n",
      "BankAccount_withdraw Sucessful: \n",
      " In SAVINGS , current balance: 80.000000 \n",
      "\n",
      "BankAccount_withdraw Sucessful: \n",
      " In CHECKING , current balance: 90.000000 \n",
      "\n",
      "BankUser_getBalance: \n",
      " In SAVINGS , current balance: 80.000000 \n",
      "\n",
      "len(pooh.savings_account) = 80.000000\n",
      "\n",
      "BankUser_getBalance: \n",
      " In CHECKING , current balance: 90.000000 \n",
      "\n",
      "len(pooh.checking_account) = 90.000000\n",
      "\n",
      "Pooh is trying to over withdraw from his CHECKING account...\n",
      "[Error Msg] BankAccount_withdraw Error: In CHECKING , you are attempting to withdraw more than the current balance. \n",
      "\n",
      "-----BankUser-----\n",
      " owner: Winnie the Pooh \n",
      " SAVINGS current balance: 80.000000 \n",
      " CHECKING current balance: 90.000000 \n",
      "-------------------\n",
      "\n",
      "-----BankAccount-----\n",
      " owner: Winnie the Pooh \n",
      " Accont Type: SAVINGS \n",
      "---------------------\n",
      "\n",
      "-----BankAccount-----\n",
      " owner: Winnie the Pooh \n",
      " Accont Type: CHECKING \n",
      "---------------------\n",
      "\n"
     ]
    }
   ],
   "source": [
    "# Test scenarios\n",
    "pooh = BankUser('Winnie the Pooh')\n",
    "\n",
    "try:\n",
    "    pooh.getBalance(AccountType.SAVINGS)\n",
    "except Exception as err:\n",
    "    print('Pooh is trying to get balance when he has not yet opend any account...')\n",
    "    print('[Error Msg] '+str(err))\n",
    "\n",
    "pooh.addAccount(AccountType.SAVINGS) # opened SAVINGS account\n",
    "pooh.addAccount(AccountType.CHECKING) # opened CHECKING account\n",
    "\n",
    "try:\n",
    "    pooh.addAccount(-1)\n",
    "except Exception as err:\n",
    "    print('Pooh is trying to add a neither SAVINGS nor CHECKING account...')\n",
    "    print('[Error Msg] '+str(err))\n",
    "\n",
    "try:\n",
    "    pooh.addAccount(AccountType.SAVINGS)\n",
    "except Exception as err:\n",
    "    print('Pooh is trying to add more than 1 SAVINGS account...')\n",
    "    print('[Error Msg] '+str(err))\n",
    "\n",
    "try:\n",
    "    pooh.addAccount(AccountType.SAVINGS)\n",
    "except Exception as err:\n",
    "    print('Once again, pooh is trying to add more than 1 SAVINGS account...')\n",
    "    print('[Error Msg] '+str(err))\n",
    "\n",
    "pooh.deposit(AccountType.SAVINGS, 100) # SAVINGS = 100\n",
    "pooh.deposit(AccountType.CHECKING, 100) # CHECKING = 100\n",
    "pooh.deposit(AccountType.CHECKING, 10) # CHECKING = 110\n",
    "pooh.withdraw(AccountType.SAVINGS, 20) # SAVINGS = 80\n",
    "pooh.withdraw(AccountType.CHECKING, 20) # CHECKING = 90\n",
    "\n",
    "pooh.getBalance(AccountType.SAVINGS) # SAVINGS = 80\n",
    "print('len(pooh.savings_account) = %f\\n' % len(pooh.savings_account))\n",
    "pooh.getBalance(AccountType.CHECKING) # CHECKING = 90\n",
    "print('len(pooh.checking_account) = %f\\n' % len(pooh.checking_account))\n",
    "\n",
    "\n",
    "try:\n",
    "    pooh.withdraw(AccountType.CHECKING, 100)\n",
    "except Exception as err:\n",
    "    print('Pooh is trying to over withdraw from his CHECKING account...')\n",
    "    print('[Error Msg] '+str(err))\n",
    "\n",
    "print(pooh)\n",
    "print(pooh.savings_account)\n",
    "print(pooh.checking_account)"
   ]
  },
  {
   "cell_type": "markdown",
   "metadata": {},
   "source": [
    "### Part 3:  ATM Closure\n",
    "\n",
    "Finally, we are going to rewrite a closure to use our bank account. We will make use of the [input function](http://anh.cs.luc.edu/python/hands-on/3.1/handsonHtml/io.html) which takes user input to decide what actions to take.\n",
    "\n",
    "Write a closure called ATMSession(bankUser) which takes in a BankUser object. Return a method called Interface that when called, would provide the following interface:\n",
    "\n",
    "First screen for user will look like:\n",
    "\n",
    "\n",
    "**Enter Option:**\n",
    "\n",
    "**1)Exit**\n",
    "\n",
    "**2)Create Account**\n",
    "\n",
    "**3)Check Balance**\n",
    "\n",
    "**4)Deposit**\n",
    "\n",
    "**5)Withdraw**\n",
    "\n",
    "\n",
    "Pressing 1 will exit, any other option will show the options:\n",
    "\n",
    "\n",
    "\n",
    "**Enter Option:**\n",
    "\n",
    "**1)Checking**\n",
    "\n",
    "**2)Savings**\n",
    "\n",
    "\n",
    "If a deposit or withdraw was chosen, then there must be a third screen:\n",
    "\n",
    "\n",
    "\n",
    "**Enter Integer Amount, Cannot Be Negative:**\n",
    "\n",
    "This is to keep the code relatively simple, if you'd like you can also curate the options depending on the BankUser object (for example, if user has no accounts then only show the Create Account option), but this is up to you. In any case, you must handle any input from the user in a reasonable way that an actual bank would be okay with, and give the user a proper response to the action specified.\n",
    "\n",
    "Upon finishing a transaction or viewing balance, it should go back to the original screen"
   ]
  },
  {
   "cell_type": "code",
   "execution_count": 10,
   "metadata": {
    "collapsed": true
   },
   "outputs": [],
   "source": [
    "def ATMSession(bankUser):\n",
    "    def Interface():\n",
    "        option = input('Enter Option: \\n1)Exit \\n2)Create Account \\n3)Check Balance \\n4)Deposit \\n5)Withdraw \\n')\n",
    "        while option != '1' and option != '2' and option != '3' and option != '4' and option != '5':\n",
    "            option = input('Invalid Input... \\nEnter option: \\n1)Exit \\n2)Create Account \\n3)Check Balance \\n4)Deposit \\n5)Withdraw \\n')\n",
    "        \n",
    "        if option == '1':\n",
    "            print('=> Exiting ATMSession...')\n",
    "            return\n",
    "        \n",
    "        # Option 2, 3, 4, 5\n",
    "        account_option = input('Enter option: \\n1)Checking \\n2)Savings \\n')\n",
    "        while account_option != '1' and account_option != '2':\n",
    "            account_option = input('Invalid Input... \\nEnter option: \\n1)Checking \\n2)Savings \\n')\n",
    "        \n",
    "        if account_option == '1':\n",
    "            accountType = (AccountType.CHECKING)\n",
    "        elif account_option == '2':\n",
    "            accountType = (AccountType.SAVINGS)\n",
    "        \n",
    "        if option == '2': # Create Account\n",
    "            try:\n",
    "                bankUser.addAccount(accountType)\n",
    "            except Exception as err:\n",
    "                print('[Error Msg] '+str(err))\n",
    "            \n",
    "        if option == '3': # Check Balance\n",
    "            try:\n",
    "                bankUser.getBalance(accountType)\n",
    "            except Exception as err:\n",
    "                print('[Error Msg] '+str(err))\n",
    "        \n",
    "        if option == '4': # Deposit\n",
    "            amount = input('Enter Integer Amount, Cannot Be Negative: \\n')\n",
    "            while int(amount) < 0:\n",
    "                amount = input('Invalid Input... \\nEnter Integer Amount, Cannot Be Negative: \\n')\n",
    "            try:\n",
    "                bankUser.deposit(accountType, int(amount))\n",
    "            except Exception as err:\n",
    "                print('[Error Msg] '+str(err))\n",
    "            \n",
    "        if option == '5': \n",
    "            \n",
    "            amount = input('Enter Integer Amount, Cannot Be Negative: \\n')\n",
    "            while int(amount) < 0:\n",
    "                amount = input('Invalid Input... \\nEnter Integer Amount, Cannot Be Negative: \\n')\n",
    "            try:\n",
    "                bankUser.withdraw(accountType, int(amount))\n",
    "            except Exception as err:\n",
    "                print('[Error Msg] '+str(err))\n",
    "        \n",
    "        Interface() # Show the main interface again until the user hit 1 for 1)Exit\n",
    "        \n",
    "    return Interface"
   ]
  },
  {
   "cell_type": "markdown",
   "metadata": {},
   "source": [
    "### Part 4:  Put everything in a module Bank.py\n",
    "\n",
    "We will be grading this problem with a test suite. Put the enum, classes, and closure in a single file named Bank.py. It is very important that the class and method specifications we provided are used (with the same capitalization), otherwise you will receive no credit."
   ]
  },
  {
   "cell_type": "code",
   "execution_count": 11,
   "metadata": {},
   "outputs": [
    {
     "name": "stdout",
     "output_type": "stream",
     "text": [
      "Enter Option: \n",
      "1)Exit \n",
      "2)Create Account \n",
      "3)Check Balance \n",
      "4)Deposit \n",
      "5)Withdraw \n",
      "2\n",
      "Enter option: \n",
      "1)Checking \n",
      "2)Savings \n",
      "1\n",
      "BankUser_addAccount Successful: \n",
      " AccountType: CHECKING \n",
      "\n",
      "Enter Option: \n",
      "1)Exit \n",
      "2)Create Account \n",
      "3)Check Balance \n",
      "4)Deposit \n",
      "5)Withdraw \n",
      "4\n",
      "Enter option: \n",
      "1)Checking \n",
      "2)Savings \n",
      "1\n",
      "Enter Integer Amount, Cannot Be Negative: \n",
      "-50\n",
      "Invalid Input... \n",
      "Enter Integer Amount, Cannot Be Negative: \n",
      "100\n",
      "BankAccount_deposit Sucessful: \n",
      " In CHECKING , current balance: 100.000000 \n",
      "\n",
      "Enter Option: \n",
      "1)Exit \n",
      "2)Create Account \n",
      "3)Check Balance \n",
      "4)Deposit \n",
      "5)Withdraw \n",
      "5\n",
      "Enter option: \n",
      "1)Checking \n",
      "2)Savings \n",
      "1\n",
      "Enter Integer Amount, Cannot Be Negative: \n",
      "10\n",
      "BankAccount_withdraw Sucessful: \n",
      " In CHECKING , current balance: 90.000000 \n",
      "\n",
      "Enter Option: \n",
      "1)Exit \n",
      "2)Create Account \n",
      "3)Check Balance \n",
      "4)Deposit \n",
      "5)Withdraw \n",
      "1\n",
      "=> Exiting ATMSession...\n"
     ]
    }
   ],
   "source": [
    "# Test scenario:\n",
    "from Bank import *\n",
    "\n",
    "piglet = BankUser('Piglet')\n",
    "session_interface = ATMSession(piglet)\n",
    "session_interface()"
   ]
  },
  {
   "cell_type": "markdown",
   "metadata": {},
   "source": [
    "---"
   ]
  },
  {
   "cell_type": "markdown",
   "metadata": {},
   "source": [
    "## Problem 2:  Linear Regression Class\n",
    "\n",
    "Let's say you want to create Python classes for three related types of linear regression: Ordinary Least Squares Linear Regression, Ridge Regression, and Lasso Regression. "
   ]
  },
  {
   "cell_type": "markdown",
   "metadata": {},
   "source": [
    "Consider the multivariate linear model:\n",
    "\n",
    "$$y = X\\beta + \\epsilon$$\n",
    "\n",
    "where $y$ is a length $n$ vector, $X$ is an $m \\times p$ matrix, and $\\beta$\n",
    "is a $p$ length vector of coefficients.\n",
    "\n",
    "#### Ordinary Least Squares Linear Regression\n",
    "\n",
    "[OLS Regression](https://en.wikipedia.org/wiki/Ordinary_least_squares) seeks to minimize the following cost function:\n",
    "\n",
    "$$\\|y - \\beta\\mathbf {X}\\|^{2}$$\n",
    "\n",
    "The best fit coefficients can be obtained by:\n",
    "\n",
    "$$\\hat{\\beta} = (X^T X)^{-1}X^Ty$$\n",
    "\n",
    "where $X^T$ is the transpose of the matrix $X$ and $X^{-1}$ is the inverse of the matrix $X$.\n",
    "\n",
    "#### Ridge Regression\n",
    "\n",
    "[Ridge Regression](https://en.wikipedia.org/wiki/Tikhonov_regularization) introduces an L2 regularization term to the cost function:\n",
    "\n",
    "$$\\|y - \\beta\\mathbf {X}\\|^{2}+\\|\\Gamma \\mathbf {x} \\|^{2}$$\n",
    "\n",
    "Where $\\Gamma = \\alpha I$ for some constant $\\alpha$ and the identity matrix $I$.\n",
    "\n",
    "The best fit coefficients can be obtained by:\n",
    "$$\\hat{\\beta} = (X^T X+\\Gamma^T\\Gamma)^{-1}X^Ty$$\n",
    "\n",
    "#### Lasso Regression\n",
    "\n",
    "[Lasso Regression](https://en.wikipedia.org/wiki/Lasso_%28statistics%29) introduces an L1 regularization term and restricts the total number of predictor variables in the model.\n",
    "The following cost function:\n",
    "$${\\displaystyle \\min _{\\beta _{0},\\beta }\\left\\{{\\frac {1}{m}}\\left\\|y-\\beta _{0}-X\\beta \\right\\|_{2}^{2}\\right\\}{\\text{ subject to }}\\|\\beta \\|_{1}\\leq \\alpha.}$$\n",
    "\n",
    "does not have a nice closed form solution. For the sake of this exercise, you may use the [sklearn.linear_model.Lasso](http://scikit-learn.org/stable/modules/generated/sklearn.linear_model.Lasso.html) class, which uses a coordinate descent algorithm to find the best fit. You should only use the class in the fit() method of this exercise (ie. do not re-use the sklearn for other methods in your class).\n",
    "\n",
    "#### $R^2$ score\n",
    "\n",
    "The $R^2$ score is defined as:\n",
    "$${R^{2} = {1-{SS_E \\over SS_T}}}$$\n",
    "\n",
    "Where:\n",
    "\n",
    "$$SS_T=\\sum_i (y_i-\\bar{y})^2, SS_R=\\sum_i (\\hat{y_i}-\\bar{y})^2, SS_E=\\sum_i (y_i - \\hat{y_i})^2$$\n",
    "\n",
    "where  ${y_i}$ are the original data values, $\\hat{y_i}$ are the predicted values, and $\\bar{y_i}$ is the mean of the original data values."
   ]
  },
  {
   "cell_type": "markdown",
   "metadata": {},
   "source": [
    "### Part 1:  Base Class\n",
    "Write a class called `Regression` with the following methods:\n",
    "\n",
    "$fit(X, y)$: Fits linear model to $X$ and $y$.\n",
    "\n",
    "$get\\_params()$: Returns $\\hat{\\beta}$ for the fitted model. The parameters should be stored in a dictionary.\n",
    "\n",
    "$predict(X)$: Predict new values with the fitted model given $X$.\n",
    "\n",
    "$score(X, y)$: Returns $R^2$ value of the fitted model.\n",
    "\n",
    "$set\\_params()$: Manually set the parameters of the linear model.\n",
    "\n",
    "This parent class should throw a `NotImplementedError` for methods that are intended to be implemented by subclasses."
   ]
  },
  {
   "cell_type": "code",
   "execution_count": 20,
   "metadata": {
    "collapsed": true
   },
   "outputs": [],
   "source": [
    "import numpy as np\n",
    "from sklearn.datasets import load_boston\n",
    "from sklearn.model_selection import train_test_split"
   ]
  },
  {
   "cell_type": "code",
   "execution_count": 21,
   "metadata": {
    "collapsed": true
   },
   "outputs": [],
   "source": [
    "class Regression():\n",
    "    \n",
    "    def __init__(self):\n",
    "        self.params = {}\n",
    "    \n",
    "    def fit(self, X, y):\n",
    "        raise NotImplementedError('Subclass must implement this method: fit(self, X, y)')\n",
    "    \n",
    "    def get_params(self): # get betas\n",
    "        return self.params\n",
    "    \n",
    "    def predict(self, X):\n",
    "        raise NotImplementedError('Subclass must implement this method: predict(self, X)')\n",
    "    \n",
    "    def score(self, X, y):\n",
    "        raise NotImplementedError('Subclass must implement this method: score(self, X, y)')\n",
    "    \n",
    "    def set_params(self): # set hyper_params: alpha for Ridge & Lasso\n",
    "        raise NotImplementedError('Subclass must implement this method: set_params(self)')\n",
    "    "
   ]
  },
  {
   "cell_type": "markdown",
   "metadata": {},
   "source": [
    "### Part 2: OLS Linear Regression\n",
    "\n",
    "Write a class called `OLSRegression` that implements the OLS Regression model described above and inherits the `Regression` class."
   ]
  },
  {
   "cell_type": "code",
   "execution_count": 22,
   "metadata": {
    "collapsed": true
   },
   "outputs": [],
   "source": [
    "class OLSRegression(Regression):\n",
    "    \n",
    "    def fit(self, X, y):\n",
    "        X = np.append(np.ones((X.shape[0], 1)), X, axis=1) # Add constant column to X\n",
    "        betas = np.dot(np.dot(np.linalg.inv(np.dot(X.T, X)), X.T), y)\n",
    "        self.params['intercept'] = betas[0]\n",
    "        self.params['slopes'] = np.array(betas[1:])\n",
    "    \n",
    "    def predict(self, X):\n",
    "        X = np.append(np.ones((X.shape[0], 1)), X, axis=1) # Add constant column to X\n",
    "        intercept = self.params['intercept']\n",
    "        slopes = self.params['slopes']\n",
    "        betas = np.append(intercept, slopes)\n",
    "        y_hat = np.dot(X, betas)\n",
    "        return y_hat\n",
    "    \n",
    "    def score(self, X, y):\n",
    "        y_hat = self.predict(X)\n",
    "        y_mean_value = np.mean(y)\n",
    "        SSE = np.sum(np.square(y - y_hat))\n",
    "        SST = np.sum(np.square(y - y_mean_value))\n",
    "        return 1- SSE/SST"
   ]
  },
  {
   "cell_type": "markdown",
   "metadata": {},
   "source": [
    "### Part 3: Ridge Regression\n",
    "\n",
    "Write a class called `RidgeRegression` that implements Ridge Regression and inherits the `OLSRegression` class."
   ]
  },
  {
   "cell_type": "code",
   "execution_count": 23,
   "metadata": {
    "collapsed": true
   },
   "outputs": [],
   "source": [
    "class RidgeRegression(OLSRegression):\n",
    "    \n",
    "    def __init__(self, alpha=0): # Default ridge alpha = 0\n",
    "        self.params = {}\n",
    "        self.alpha = alpha\n",
    "    \n",
    "    def fit(self, X, y):\n",
    "        X = np.append(np.ones((X.shape[0], 1)), X, axis=1) # Add constant column to X\n",
    "        alpha_M = self.alpha * np.eye(X.shape[1])\n",
    "        betas = np.dot(np.dot(np.linalg.inv(np.dot(X.T, X)+np.dot(alpha_M.T, alpha_M)), X.T), y)\n",
    "        self.params['intercept'] = betas[0]\n",
    "        self.params['slopes'] = np.array(betas[1:]) \n",
    "    \n",
    "    def set_params(self, alpha):\n",
    "        self.alpha = alpha"
   ]
  },
  {
   "cell_type": "markdown",
   "metadata": {},
   "source": [
    "### Part 3: Lasso Regression\n",
    "\n",
    "Write a class called `LassoRegression` that implements Lasso Regression and inherits the `OLSRegression` class. You should only use Lasso(), Lasso.fit(), Lasso.coef_, and Lasso._intercept from the `sklearn.linear_model.Lasso` class."
   ]
  },
  {
   "cell_type": "code",
   "execution_count": 24,
   "metadata": {
    "collapsed": true
   },
   "outputs": [],
   "source": [
    "from sklearn.linear_model import Lasso\n",
    "\n",
    "class LassoRegression(OLSRegression):\n",
    "    \n",
    "    def __init__(self, alpha=0): # Default lasso alpha = 0\n",
    "        self.params = {}\n",
    "        self.alpha = alpha\n",
    "    \n",
    "    def fit(self, X, y):\n",
    "        lasso_model = Lasso(alpha=self.alpha, fit_intercept=True)\n",
    "        lasso_model.fit(X, y)\n",
    "        betas = np.append(np.array(lasso_model.intercept_), lasso_model.coef_)\n",
    "        self.params['intercept'] = betas[0]\n",
    "        self.params['slopes'] = np.array(betas[1:])\n",
    "\n",
    "    def set_params(self, alpha):\n",
    "        self.alpha = alpha"
   ]
  },
  {
   "cell_type": "markdown",
   "metadata": {},
   "source": [
    "### Part 4: Model Scoring\n",
    "You will use the [Boston dataset](http://scikit-learn.org/stable/modules/generated/sklearn.datasets.load_boston.html) for this part.\n",
    "\n",
    "Instantiate each of the three models above.  Using a for loop, fit (on the training data) and score (on the testing data) each model on the Boston dataset.  \n",
    "\n",
    "Print out the $R^2$ value for each model and the parameters for the best model using the `get_params()` method. Use an $\\alpha$ value of 0.1.\n",
    "\n",
    "**Hint:**  You can consider using the `sklearn.model_selection.train_test_split` method to create the training and test datasets."
   ]
  },
  {
   "cell_type": "code",
   "execution_count": 25,
   "metadata": {},
   "outputs": [
    {
     "name": "stdout",
     "output_type": "stream",
     "text": [
      "R2_test on the OLS model is 0.756863\n",
      "params of the OLS model: \n",
      "intercept:  33.2999667078\n",
      "slopes:  [ -1.00698446e-01   4.18496274e-02  -1.14457548e-02   3.50365700e+00\n",
      "  -1.48008249e+01   3.52711618e+00  -4.71094669e-04  -1.42391574e+00\n",
      "   2.69763418e-01  -9.74233647e-03  -8.07561839e-01   1.13470365e-02\n",
      "  -5.66072576e-01]\n",
      "---------------------------------\n",
      "\n",
      "R2_test on the Ridge model is 0.756559\n",
      "params of the Ridge model: \n",
      "intercept:  32.6559475016\n",
      "slopes:  [ -1.00091689e-01   4.18712257e-02  -1.23235940e-02   3.50111181e+00\n",
      "  -1.44547764e+01   3.56089537e+00  -6.64054435e-04  -1.41397847e+00\n",
      "   2.67436465e-01  -9.70649738e-03  -7.97692684e-01   1.14389484e-02\n",
      "  -5.64854693e-01]\n",
      "---------------------------------\n",
      "\n",
      "R2_test on the Lasso model is 0.739963\n",
      "params of the Lasso model: \n",
      "intercept:  24.2474991293\n",
      "slopes:  [-0.08731119  0.04428356 -0.0654687   1.50717375 -0.          3.38657121\n",
      " -0.00971912 -1.15581226  0.24018932 -0.0113363  -0.63619539  0.01222608\n",
      " -0.60888076]\n",
      "---------------------------------\n",
      "\n"
     ]
    }
   ],
   "source": [
    "# Load Boston Data \n",
    "boston = load_boston()\n",
    "X_boston = boston.data\n",
    "y_boston = boston.target\n",
    "\n",
    "# Split Boston Data into Training and Test set\n",
    "X_train, X_test, y_train, y_test = train_test_split(X_boston, y_boston, test_size=0.3, random_state=22)\n",
    "\n",
    "# Build the three models\n",
    "models = [OLSRegression(), RidgeRegression(0.1), LassoRegression(0.1)]\n",
    "model_names = ['OLS', 'Ridge', 'Lasso']\n",
    "\n",
    "R2_test_list = []\n",
    "for model, name in zip(models, model_names):\n",
    "    model.fit(X_train, y_train) # Fit on training data\n",
    "    R2_test = model.score(X_test, y_test) # Score on testing data\n",
    "    R2_test_list.append(R2_test) # Record R2_test of each model in a list\n",
    "    print('R2_test on the %s model is %f' % (name, R2_test))\n",
    "    print('params of the %s model: ' % name)\n",
    "    print('intercept: ', model.get_params()['intercept'])\n",
    "    print('slopes: ', model.get_params()['slopes'])\n",
    "    print('---------------------------------\\n')\n"
   ]
  },
  {
   "cell_type": "code",
   "execution_count": 26,
   "metadata": {},
   "outputs": [
    {
     "name": "stdout",
     "output_type": "stream",
     "text": [
      "The best model is:  OLS\n",
      "intercept:  33.2999667078\n",
      "slopes:  [ -1.00698446e-01   4.18496274e-02  -1.14457548e-02   3.50365700e+00\n",
      "  -1.48008249e+01   3.52711618e+00  -4.71094669e-04  -1.42391574e+00\n",
      "   2.69763418e-01  -9.74233647e-03  -8.07561839e-01   1.13470365e-02\n",
      "  -5.66072576e-01]\n"
     ]
    }
   ],
   "source": [
    "i = np.argmax(R2_test_list)\n",
    "print('The best model is: ', model_names[i])\n",
    "print('intercept: ', models[i].get_params()['intercept'])\n",
    "print('slopes: ', models[i].get_params()['slopes'])"
   ]
  },
  {
   "cell_type": "markdown",
   "metadata": {},
   "source": [
    "### Part 5: Visualize Model Performance\n",
    "\n",
    "We can evaluate how the models perform for various values of $\\alpha$. Calculate the $R^2$ scores for each model for  $\\alpha \\in [0.05, 1]$ and plot the three lines on the same graph. To change the parameters, use the `set_params()` method. Be sure to label each line and add axis labels."
   ]
  },
  {
   "cell_type": "code",
   "execution_count": 27,
   "metadata": {},
   "outputs": [
    {
     "data": {
      "image/png": "[encoded data removed]",
      "text/plain": [
       "<matplotlib.figure.Figure at 0x114c40cc0>"
      ]
     },
     "metadata": {},
     "output_type": "display_data"
    }
   ],
   "source": [
    "%matplotlib inline\n",
    "import matplotlib.pyplot as plt\n",
    "\n",
    "N = 50\n",
    "alphas = np.linspace(0.05, 1, N)\n",
    "R2_test_matrix = np.ndarray([N, 3])\n",
    "\n",
    "my_model_names = ['OLS', 'Ridge', 'Lasso']\n",
    "colors = ['r', 'g', 'b']\n",
    "my_linear = OLSRegression()\n",
    "my_ridge = RidgeRegression()\n",
    "my_lasso = LassoRegression()\n",
    "\n",
    "for i, a in enumerate(alphas):\n",
    "    my_ridge.set_params(a) # change hyper param (alpha) of ridge\n",
    "    my_lasso.set_params(a) # change hyper param (alpha) of lasso\n",
    "    my_models = [my_linear, my_ridge, my_lasso]\n",
    "    \n",
    "    for j, my_model in enumerate(my_models):\n",
    "        my_model.fit(X_train, y_train) # Fit on training data\n",
    "        R2_test_matrix[i,j] = my_model.score(X_test, y_test) # Score on testing data\n",
    "        \n",
    "for j, name in enumerate(model_names): # Plot R2_test three lines \n",
    "    plt.plot(alphas, R2_test_matrix[:,j], colors[j], label=name)\n",
    "\n",
    "plt.title('$R2_{test}$ on my_OLS, my_Ridge, my_Lasso', fontsize=16)\n",
    "plt.xlabel('alpha', fontsize=16)\n",
    "plt.ylabel('$R2_{test}$', fontsize=16)\n",
    "plt.legend()\n",
    "plt.show()"
   ]
  },
  {
   "cell_type": "code",
   "execution_count": null,
   "metadata": {
    "collapsed": true
   },
   "outputs": [],
   "source": []
  }
 ],
 "metadata": {
  "kernelspec": {
   "display_name": "Python 3",
   "language": "python",
   "name": "python3"
  },
  "language_info": {
   "codemirror_mode": {
    "name": "ipython",
    "version": 3
   },
   "file_extension": ".py",
   "mimetype": "text/x-python",
   "name": "python",
   "nbconvert_exporter": "python",
   "pygments_lexer": "ipython3",
   "version": "3.6.1"
  }
 },
 "nbformat": 4,
 "nbformat_minor": 2
}
