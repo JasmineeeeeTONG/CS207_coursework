{
 "cells": [
  {
   "cell_type": "markdown",
   "metadata": {},
   "source": [
    "## Problem 1\n",
    "### Part 1 \n",
    "Created `cs207test` repo and cloned to my local machine."
   ]
  },
  {
   "cell_type": "markdown",
   "metadata": {},
   "source": [
    "### Part 2\n",
    "Created `roots.py` and `test_roots.py` in `cs207test`."
   ]
  },
  {
   "cell_type": "code",
   "execution_count": 1,
   "metadata": {},
   "outputs": [
    {
     "name": "stdout",
     "output_type": "stream",
     "text": [
      "Writing cs207test/roots.py\n"
     ]
    }
   ],
   "source": [
    "%%file cs207test/roots.py\n",
    "def linear_roots(a=1.0, b=0.0):\n",
    "    \"\"\"Returns the roots of a linear equation: ax+ b = 0.\n",
    "    \n",
    "    INPUTS\n",
    "    =======\n",
    "    a: float, optional, default value is 1\n",
    "       Coefficient of linear term\n",
    "    b: float, optional, default value is 0\n",
    "       Coefficient of constant term\n",
    "    \n",
    "    RETURNS\n",
    "    ========\n",
    "    roots: 1-tuple of real floats\n",
    "       Has the form (root) unless a = 0 \n",
    "       in which case a ValueError exception is raised\n",
    "    \n",
    "    EXAMPLES\n",
    "    =========\n",
    "    >>> linear_roots(1.0, 2.0)\n",
    "    -2.0\n",
    "    \"\"\"\n",
    "    if a == 0:\n",
    "        raise ValueError(\"The linear coefficient is zero.  This is not a linear equation.\")\n",
    "    else:\n",
    "        return ((-b / a))\n",
    "\n",
    "def quad_roots(a=1.0, b=2.0, c=0.0):\n",
    "    \"\"\"Returns the roots of a quadratic equation: ax^2 + bx + c = 0.\n",
    "    \n",
    "    INPUTS\n",
    "    =======\n",
    "    a: float, optional, default value is 1\n",
    "       Coefficient of quadratic term\n",
    "    b: float, optional, default value is 2\n",
    "       Coefficient of linear term\n",
    "    c: float, optional, default value is 0\n",
    "       Constant term\n",
    "    \n",
    "    RETURNS\n",
    "    ========\n",
    "    roots: 2-tuple of complex floats\n",
    "       Has the form (root1, root2) unless a = 0 \n",
    "       in which case a ValueError exception is raised\n",
    "    \n",
    "    EXAMPLES\n",
    "    =========\n",
    "    >>> quad_roots(1.0, 1.0, -12.0)\n",
    "    ((3+0j), (-4+0j))\n",
    "    \"\"\"\n",
    "    import cmath # Can return complex numbers from square roots\n",
    "    if a == 0:\n",
    "        raise ValueError(\"The quadratic coefficient is zero.  This is not a quadratic equation.\")\n",
    "    else:\n",
    "        sqrtdisc = cmath.sqrt(b * b - 4.0 * a * c)\n",
    "        r1 = -b + sqrtdisc\n",
    "        r2 = -b - sqrtdisc\n",
    "        return (r1 / 2.0 / a, r2 / 2.0 / a)"
   ]
  },
  {
   "cell_type": "code",
   "execution_count": 2,
   "metadata": {},
   "outputs": [
    {
     "name": "stdout",
     "output_type": "stream",
     "text": [
      "Writing cs207test/test_roots.py\n"
     ]
    }
   ],
   "source": [
    "%%file cs207test/test_roots.py\n",
    "import roots\n",
    "\n",
    "def test_quadroots_result():\n",
    "    assert roots.quad_roots(1.0, 1.0, -12.0) == ((3+0j), (-4+0j))\n",
    "\n",
    "def test_quadroots_types():\n",
    "    try:\n",
    "        roots.quad_roots(\"\", \"green\", \"hi\")\n",
    "    except TypeError as err:\n",
    "        assert(type(err) == TypeError)\n",
    "\n",
    "def test_quadroots_zerocoeff():\n",
    "    try:\n",
    "        roots.quad_roots(a=0.0)\n",
    "    except ValueError as err:\n",
    "        assert(type(err) == ValueError)\n",
    "\n",
    "def test_linearoots_result():\n",
    "    assert roots.linear_roots(2.0, -3.0) == 1.5\n",
    "\n",
    "def test_linearroots_types():\n",
    "    try:\n",
    "        roots.linear_roots(\"ocean\", 6.0)\n",
    "    except TypeError as err:\n",
    "        assert(type(err) == TypeError)\n",
    "\n",
    "def test_linearroots_zerocoeff():\n",
    "    try:\n",
    "        roots.linear_roots(a=0.0)\n",
    "    except ValueError as err:\n",
    "        assert(type(err) == ValueError)"
   ]
  },
  {
   "cell_type": "markdown",
   "metadata": {},
   "source": [
    "### Part 3 \n",
    "Created Travis CI account and started building."
   ]
  },
  {
   "cell_type": "markdown",
   "metadata": {},
   "source": [
    "--> Creat .travis.yml"
   ]
  },
  {
   "cell_type": "code",
   "execution_count": 4,
   "metadata": {},
   "outputs": [
    {
     "name": "stdout",
     "output_type": "stream",
     "text": [
      "Writing cs207test/.travis.yml\n"
     ]
    }
   ],
   "source": [
    "%%file cs207test/.travis.yml\n",
    "language: python\n",
    "python:\n",
    "    - \"3.5\"\n",
    "before_install:\n",
    "    - pip install pytest pytest-cov\n",
    "script:\n",
    "    - pytest"
   ]
  },
  {
   "cell_type": "markdown",
   "metadata": {},
   "source": [
    "--> Creat setup.cfg"
   ]
  },
  {
   "cell_type": "code",
   "execution_count": 5,
   "metadata": {},
   "outputs": [
    {
     "name": "stdout",
     "output_type": "stream",
     "text": [
      "Writing cs207test/setup.cfg\n"
     ]
    }
   ],
   "source": [
    "%%file cs207test/setup.cfg\n",
    "[tool:pytest]\n",
    "addopts = --doctest-modules --cov-report term-missing --cov roots"
   ]
  },
  {
   "cell_type": "markdown",
   "metadata": {},
   "source": [
    "### Part 4"
   ]
  },
  {
   "cell_type": "code",
   "execution_count": 6,
   "metadata": {},
   "outputs": [
    {
     "name": "stdout",
     "output_type": "stream",
     "text": [
      "Overwriting cs207test/.travis.yml\n"
     ]
    }
   ],
   "source": [
    "%%file cs207test/.travis.yml\n",
    "language: python\n",
    "python:\n",
    "    - \"3.5\"\n",
    "before_install:\n",
    "    - pip install pytest pytest-cov\n",
    "    - pip install coveralls\n",
    "script:\n",
    "    - py.test\n",
    "after_success:\n",
    "    - coveralls"
   ]
  },
  {
   "cell_type": "markdown",
   "metadata": {},
   "source": [
    "## Problem 2"
   ]
  },
  {
   "cell_type": "code",
   "execution_count": 44,
   "metadata": {
    "collapsed": true
   },
   "outputs": [],
   "source": [
    "import numpy as np\n",
    "import math\n",
    "import warnings\n",
    "\n",
    "# Return constant value of k\n",
    "def const_k(k):\n",
    "    \"\"\"Returns the constant value of k.\n",
    "    \n",
    "    INPUTS\n",
    "    =======\n",
    "    k: float\n",
    "    \n",
    "    RETURNS\n",
    "    ========\n",
    "    constant value of k: float\n",
    "    \n",
    "    NOTES\n",
    "    =====\n",
    "    PRE: \n",
    "         - k has numeric type\n",
    "         \n",
    "    POST:\n",
    "         - returns a float for the constant value of k\n",
    "\n",
    "    EXAMPLES\n",
    "    =========\n",
    "    >>> const_k(0.5)\n",
    "    0.5\n",
    "    \"\"\"\n",
    "    return k\n",
    "\n",
    "# Return Arrhenius reaction rate \n",
    "def arr_k(T, params, R=8.314):\n",
    "    \"\"\"Returns the value of k determined by the Arrhenius rate.\n",
    "    \n",
    "    INPUTS\n",
    "    =======\n",
    "    T: float\n",
    "       Temperature in a Kelvin scale\n",
    "    params: list, length = 2\n",
    "       params[0]: A\n",
    "       params[1]: E\n",
    "    R: float, optional, default value is 8.314\n",
    "       Constant term, should never be changed except to convert units\n",
    "    \n",
    "    RETURNS\n",
    "    ========\n",
    "    the Arrhenius rate k: float\n",
    "\n",
    "    NOTES\n",
    "    =====\n",
    "    PRE: \n",
    "         - T, params[0], params[1] have numeric type\n",
    "         - three or fewer inputs\n",
    "    POST:\n",
    "         - T and each entry of parmas are not changed by this function\n",
    "         - raises a ValueError if T <= 0\n",
    "         - raises an Exception if the length of params is not 2\n",
    "         - raises a ValueError if params[0] <= 0\n",
    "         - raises a warning if R is modified\n",
    "         - returns the value of k determined by the Arrhenius rate\n",
    "\n",
    "    EXAMPLES\n",
    "    =========\n",
    "    >>> arr_k(1000, [4, 100])\n",
    "    3.9521765654534593\n",
    "    \"\"\"\n",
    "    if T <= 0: \n",
    "        raise ValueError('Error: Temperature T must be positive.')\n",
    "    if len(params) != 2:\n",
    "        raise Exception('Error: The length of params must be 2 in the order of [A, E].')\n",
    "    if params[0] <= 0:\n",
    "        raise ValueError('Error: The Arrhenius prefactor A must be positive.')\n",
    "    if R != 8.314:\n",
    "        warnings.warn('Warning: R = 8.314, the ideal gas constant should never be changed except to convert units.')\n",
    "    A = params[0]\n",
    "    E = params[1]\n",
    "    try:\n",
    "        ans = A * math.exp((-1)*E/(R*T))\n",
    "        if ans == 0: \n",
    "            warnings.warn('Underflow: k is too close to 0, return value is set to 0.')\n",
    "    except OverflowError:\n",
    "        warnings.warn('Overflow: k is too large, return value is set to float(\\'inf\\').')\n",
    "        ans = float('inf')\n",
    "    return ans\n",
    "\n",
    "# Return modified Arrhenius reaction rate \n",
    "def modified_arr_k(T, params, R=8.314):\n",
    "    \"\"\"Returns the value of k determined by the Arrhenius rate.\n",
    "    \n",
    "    INPUTS\n",
    "    =======\n",
    "    T: float\n",
    "       Temperature in a Kelvin scale\n",
    "    params: list, length = 3\n",
    "       params[0]: A\n",
    "       params[1]: b\n",
    "       params[2]: E\n",
    "    R: float, optional, default value is 8.314\n",
    "       Constant term, should never be changed except to convert units\n",
    "    \n",
    "    RETURNS\n",
    "    ========\n",
    "    the modified Arrhenius rate k: float\n",
    "\n",
    "    NOTES\n",
    "    =====\n",
    "    PRE: \n",
    "         - T, params[0], params[1], params[2] have numeric type\n",
    "         - three or fewer inputs\n",
    "    POST:\n",
    "         - T and each entry of parmas are not changed by this function\n",
    "         - raises a ValueError if T <= 0\n",
    "         - raises an Exception if the length of params is not 3\n",
    "         - raises a ValueError if params[0] <= 0\n",
    "         - raises a ValueError if params[1] is a complex number\n",
    "         - raises a warning if R is modified\n",
    "         - returns the value of k determined by the modified Arrhenius rate\n",
    "\n",
    "    EXAMPLES\n",
    "    =========\n",
    "    >>> modified_arr_k(100, [2, 1, 100])\n",
    "    177.33459568242117\n",
    "    \"\"\"\n",
    "    if T <= 0: \n",
    "        raise ValueError('Temperature T must be positive.')\n",
    "    if len(params) != 3:\n",
    "        raise Exception('To get modified Arrhenius reaction rate, the length of params must be 3 in the order of [A, b, E].')\n",
    "    if params[0] <= 0:\n",
    "        raise ValueError('The Arrhenius prefactor A must be positive.')\n",
    "    if isinstance(params[1], complex) and params[1].imag != 0:\n",
    "        raise ValueError('The modified Arrhenius parameter b must be real.')\n",
    "    if R != 8.314:\n",
    "        warnings.warn('Warning: R = 8.314, the ideal gas constant should never be changed except to convert units.')\n",
    "    A = params[0]\n",
    "    b = params[1]\n",
    "    E = params[2]\n",
    "    try:\n",
    "        ans = A * pow(T, b) * math.exp((-1)*E/(R*T))\n",
    "        if ans == 0: \n",
    "            warnings.warn('Underflow: k is too close to 0, return value is set to 0.')\n",
    "    except OverflowError:\n",
    "        warnings.warn('Overflow: k is too large, return value is set to float(\\'inf\\').')\n",
    "        ans = float('inf')\n",
    "    return ans\n",
    "    "
   ]
  },
  {
   "cell_type": "code",
   "execution_count": 52,
   "metadata": {},
   "outputs": [
    {
     "data": {
      "text/plain": [
       "30035490.88963961"
      ]
     },
     "execution_count": 52,
     "metadata": {},
     "output_type": "execute_result"
    }
   ],
   "source": [
    "# Test\n",
    "modified_arr_k(1e2, [1e7, 0.5, 1e3])"
   ]
  },
  {
   "cell_type": "markdown",
   "metadata": {},
   "source": [
    "## Problem 3"
   ]
  },
  {
   "cell_type": "code",
   "execution_count": 51,
   "metadata": {},
   "outputs": [
    {
     "data": {
      "text/plain": [
       "1000.0"
      ]
     },
     "execution_count": 51,
     "metadata": {},
     "output_type": "execute_result"
    }
   ],
   "source": [
    "import numpy as np\n",
    "\n",
    "def get_reaction_rate(k, reactant_concentration, reactant_volumns):\n",
    "    w = k\n",
    "    for c, v in zip(reactant_concentration, reactant_volumns):\n",
    "        w *= pow(c, v)\n",
    "    return w\n",
    "\n",
    "def get_progress_rate(k, species_concentration, species_volumns):\n",
    "    reactant_len = 2\n",
    "    species_len = len(species_concentration)\n",
    "    w = get_reaction_rate(k, species_concentration[0 : reactant_len], species_volumns[0 : reactant_len])\n",
    "    pr = np.zeros((species_len, 1))\n",
    "    for i in range(reactant_len):\n",
    "        "
   ]
  },
  {
   "cell_type": "code",
   "execution_count": null,
   "metadata": {
    "collapsed": true
   },
   "outputs": [],
   "source": []
  }
 ],
 "metadata": {
  "kernelspec": {
   "display_name": "Python 3",
   "language": "python",
   "name": "python3"
  },
  "language_info": {
   "codemirror_mode": {
    "name": "ipython",
    "version": 3
   },
   "file_extension": ".py",
   "mimetype": "text/x-python",
   "name": "python",
   "nbconvert_exporter": "python",
   "pygments_lexer": "ipython3",
   "version": "3.6.1"
  }
 },
 "nbformat": 4,
 "nbformat_minor": 2
}
