{
 "cells": [
  {
   "cell_type": "markdown",
   "metadata": {},
   "source": [
    "# Homework 9: Getting Familiar with NASA Polynomials\n",
    "## Due Date:  Tuesday, November 7th at 11:59 PM"
   ]
  },
  {
   "cell_type": "markdown",
   "metadata": {},
   "source": [
    "Read the NASA Polynomial dataset in raw format and parse and store the data into an .xml file."
   ]
  },
  {
   "cell_type": "markdown",
   "metadata": {},
   "source": [
    "### Review of the NASA Polynomials\n",
    "You can find the NASA Polynomial file in `thermo.txt`.\n",
    "\n",
    "You can find some details on the NASA Polynomials [at this site](http://combustion.berkeley.edu/gri_mech/data/nasa_plnm.html) in addition to the Lecture 16 notes.\n",
    "\n",
    "\n",
    "The NASA polynomials for specie $i$ have the form:\n",
    "$$\n",
    "    \\frac{C_{p,i}}{R}= a_{i1} + a_{i2} T + a_{i3} T^2 + a_{i4} T^3 + a_{i5} T^4\n",
    "$$\n",
    "\n",
    "$$\n",
    "    \\frac{H_{i}}{RT} = a_{i1} + a_{i2} \\frac{T}{2} + a_{i3} \\frac{T^2}{3} + a_{i4} \\frac{T^3}{4} + a_{i5} \\frac{T^4}{5} + \\frac{a_{i6}}{T}\n",
    "$$\n",
    "\n",
    "$$\n",
    "    \\frac{S_{i}}{R}  = a_{i1} \\ln(T) + a_{i2} T + a_{i3} \\frac{T^2}{2} + a_{i4} \\frac{T^3}{3} + a_{i5} \\frac{T^4}{4} + a_{i7}\n",
    "$$\n",
    "\n",
    "where $a_{i1}$, $a_{i2}$, $a_{i3}$, $a_{i4}$, $a_{i5}$, $a_{i6}$, and $a_{i7}$ are the numerical coefficients supplied in NASA thermodynamic files. "
   ]
  },
  {
   "cell_type": "markdown",
   "metadata": {},
   "source": [
    "### Some Notes on `thermo.txt`\n",
    "The first 7 numbers starting on the second line of each species entry (five of the second line and the first two of the third line) are the seven coefficients ($a_{i1}$ through $a_{i7}$, respectively) for the high-temperature range (above 1000 K, the upper boundary is specified on the first line of the species entry). \n",
    "\n",
    "The next seven numbers are the coefficients ($a_{i1}$ through $a_{i7}$, respectively) for the low-temperature range (below 1000 K, the lower boundary is specified on the first line of the species entry)."
   ]
  },
  {
   "cell_type": "markdown",
   "metadata": {},
   "source": [
    "### Additional Specifications\n",
    "Your final .xml file should contain the following specifications:\n",
    "\n",
    "1. A `speciesArray` field that contains a space-separated list of all of the species present in the file.\n",
    "2. Each species contains a `species` field with a `name` attribute as the species name.\n",
    "\n",
    "    1. For each temperature range, use a sub-field with the minimum and maximum temperature as attributes.\n",
    "    2. `floatArray` field that contains comma-separated string of each coefficient.\n",
    "    \n",
    "You can reference the `example_thermo.xml` file for an example .xml output."
   ]
  },
  {
   "cell_type": "markdown",
   "metadata": {},
   "source": [
    "**Hint**: First parse the file into a Python dictionary. "
   ]
  },
  {
   "cell_type": "code",
   "execution_count": 1,
   "metadata": {
    "collapsed": true
   },
   "outputs": [],
   "source": [
    "import xml.etree.ElementTree as ET\n",
    "from xml.dom.minidom import parseString"
   ]
  },
  {
   "cell_type": "code",
   "execution_count": 2,
   "metadata": {
    "collapsed": true
   },
   "outputs": [],
   "source": [
    "# input and output filenames\n",
    "f_in = 'thermo.txt'\n",
    "f_out = 'thermo.xml'\n",
    "\n",
    "# Parse the list of species in .txt to a list of dictionaries\n",
    "n_words = 5\n",
    "word_len = 15\n",
    "coef_set_size = 7\n",
    "leftover = coef_set_size-n_words\n",
    "start_offset = 5\n",
    "species_dict_list = []\n",
    "\n",
    "with open(f_in) as f:\n",
    "    species_dict = {}\n",
    "    high_coef = ''\n",
    "    low_coef = ''\n",
    "    lines = f.readlines()\n",
    "    for l in lines[start_offset:]:\n",
    "        last_c = l[-2]\n",
    "        \n",
    "        if l[:3] == 'END': # end of file\n",
    "            break\n",
    "        \n",
    "        if last_c == '1': # extract name, Tmin, Tmid, Tmax\n",
    "            species_dict['name'] = l[:word_len].strip()\n",
    "            T_thresholds = l[3*word_len:].strip().split('  ')[:3]\n",
    "            species_dict['T_min'] = T_thresholds[0]\n",
    "            species_dict['T_max'] = T_thresholds[1]\n",
    "            species_dict['T_mid'] = T_thresholds[2]\n",
    "        \n",
    "        elif last_c == '2': # extract the first 5 high-range NASA coefs \n",
    "            for i in range(n_words):\n",
    "                high_coef += l[i*word_len:(i+1)*word_len]\n",
    "                high_coef += ', '\n",
    "        \n",
    "        elif last_c == '3': \n",
    "            for i in range(n_words):\n",
    "                if i < leftover: # extract the last 2 high-range NASA coefs\n",
    "                    high_coef += l[i*word_len:(i+1)*word_len]\n",
    "                    high_coef += ', '\n",
    "                else: # extract the first 3 low-range NASA coefs\n",
    "                    low_coef += l[i*word_len:(i+1)*word_len]\n",
    "                    low_coef += ', '\n",
    "        else:\n",
    "            for i in range(n_words-1): # extract the last 4 low-range NASA coefs\n",
    "                low_coef += l[i*word_len:(i+1)*word_len]\n",
    "                low_coef += ', '\n",
    "            \n",
    "            # Store high & low temperature range NASA coefs and the species entry\n",
    "            species_dict['high_coef'] = high_coef[:-2]\n",
    "            species_dict['low_coef'] = low_coef[:-2]\n",
    "            species_dict_list.append(species_dict)\n",
    "            \n",
    "            # Clear species_dict and string for coefs for the next species entry \n",
    "            species_dict = {}\n",
    "            high_coef = ''\n",
    "            low_coef = ''\n",
    "            "
   ]
  },
  {
   "cell_type": "code",
   "execution_count": 3,
   "metadata": {
    "collapsed": true
   },
   "outputs": [],
   "source": [
    "# Build the XML Tree\n",
    "root = ET.Element('ctml')\n",
    "\n",
    "phase = ET.SubElement(root, 'phase', {'id': 'gri30'})\n",
    "speciesArray = ET.SubElement(phase, 'speciesArray', {'datasrc': '#species_data'})\n",
    "\n",
    "speciesData = ET.SubElement(root, 'speciesData', {'id': 'species_data'})"
   ]
  },
  {
   "cell_type": "code",
   "execution_count": 4,
   "metadata": {
    "collapsed": true
   },
   "outputs": [],
   "source": [
    "# Build the list of species tag as children of speciesData\n",
    "specie_arr_text = ''\n",
    "for dic in species_dict_list:\n",
    "    specie_arr_text += dic['name']+' '\n",
    "    \n",
    "    species = ET.SubElement(speciesData, 'species', {'name': dic['name']})\n",
    "    thermo = ET.SubElement(species, 'thermo')\n",
    "    \n",
    "    low_NASA = ET.SubElement(thermo, 'NASA', {'Tmin':dic['T_min'], 'Tmax':dic['T_mid'], 'P0':'100000.0'})\n",
    "    low_floatArray = ET.SubElement(low_NASA, 'floatArray', {'name':'coeffs', 'size':'7'})\n",
    "    low_floatArray.text = dic['low_coef']\n",
    "    \n",
    "    high_NASA = ET.SubElement(thermo, 'NASA', {'Tmin':dic['T_mid'], 'Tmax':dic['T_max'], 'P0':'100000.0'})\n",
    "    high_floatArray = ET.SubElement(high_NASA, 'floatArray', {'name':'coeffs', 'size':'7'})\n",
    "    high_floatArray.text = dic['high_coef']\n",
    "\n",
    "# Write the list of space separated species names in speciesArray.text\n",
    "speciesArray.text = specie_arr_text.strip()"
   ]
  },
  {
   "cell_type": "code",
   "execution_count": 5,
   "metadata": {
    "collapsed": true
   },
   "outputs": [],
   "source": [
    "# Print in pretty format to output file\n",
    "pretty_xml_str = parseString(ET.tostring(root)).toprettyxml(indent='  ')\n",
    "with open(f_out, 'w') as f:\n",
    "    f.write(pretty_xml_str)"
   ]
  },
  {
   "cell_type": "code",
   "execution_count": null,
   "metadata": {
    "collapsed": true
   },
   "outputs": [],
   "source": []
  }
 ],
 "metadata": {
  "kernelspec": {
   "display_name": "Python 3",
   "language": "python",
   "name": "python3"
  },
  "language_info": {
   "codemirror_mode": {
    "name": "ipython",
    "version": 3
   },
   "file_extension": ".py",
   "mimetype": "text/x-python",
   "name": "python",
   "nbconvert_exporter": "python",
   "pygments_lexer": "ipython3",
   "version": "3.6.1"
  }
 },
 "nbformat": 4,
 "nbformat_minor": 1
}
