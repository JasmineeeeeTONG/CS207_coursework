{
 "cells": [
  {
   "cell_type": "markdown",
   "metadata": {
    "collapsed": true
   },
   "source": [
    "## Problem 1"
   ]
  },
  {
   "cell_type": "code",
   "execution_count": 2,
   "metadata": {},
   "outputs": [
    {
     "name": "stderr",
     "output_type": "stream",
     "text": [
      "Cloning into 'playground'...\n"
     ]
    }
   ],
   "source": [
    "%%bash\n",
    "cd /Users/jasminetong/Documents/Master@Harvard-MIT/2017_Fall/CS207/cs207_Jiawen_Tong/homeworks/HW3/tmp\n",
    "git clone https://github.com/JasmineeeeeTONG/playground.git"
   ]
  },
  {
   "cell_type": "code",
   "execution_count": 3,
   "metadata": {},
   "outputs": [
    {
     "name": "stdout",
     "output_type": "stream",
     "text": [
      "Merge made by the 'recursive' strategy.\n",
      " books.md | 1 +\n",
      " 1 file changed, 1 insertion(+)\n",
      " create mode 100644 books.md\n",
      "README.md\n",
      "books.md\n",
      "feature.txt\n",
      "intro.md\n",
      "world.md\n"
     ]
    },
    {
     "name": "stderr",
     "output_type": "stream",
     "text": [
      "From https://github.com/JasmineeeeeTONG/playground\n",
      " * branch            mybranch1  -> FETCH_HEAD\n"
     ]
    }
   ],
   "source": [
    "%%bash\n",
    "cd /Users/jasminetong/Documents/Master@Harvard-MIT/2017_Fall/CS207/cs207_Jiawen_Tong/homeworks/HW3/tmp/playground\n",
    "git pull origin mybranch1\n",
    "ls"
   ]
  },
  {
   "cell_type": "code",
   "execution_count": 4,
   "metadata": {},
   "outputs": [
    {
     "name": "stdout",
     "output_type": "stream",
     "text": [
      "On branch master\n",
      "Your branch is ahead of 'origin/master' by 2 commits.\n",
      "  (use \"git push\" to publish your local commits)\n",
      "nothing to commit, working tree clean\n"
     ]
    }
   ],
   "source": [
    "%%bash\n",
    "cd /Users/jasminetong/Documents/Master@Harvard-MIT/2017_Fall/CS207/cs207_Jiawen_Tong/homeworks/HW3/tmp/playground\n",
    "git status"
   ]
  },
  {
   "cell_type": "code",
   "execution_count": 5,
   "metadata": {},
   "outputs": [
    {
     "name": "stdout",
     "output_type": "stream",
     "text": [
      "HEAD is now at d0635e7 Shared attribution between Joe and Sally.\n",
      "README.md\n",
      "feature.txt\n",
      "intro.md\n",
      "world.md\n"
     ]
    }
   ],
   "source": [
    "%%bash\n",
    "cd /Users/jasminetong/Documents/Master@Harvard-MIT/2017_Fall/CS207/cs207_Jiawen_Tong/homeworks/HW3/tmp/playground\n",
    "git reset --hard origin/master\n",
    "ls"
   ]
  },
  {
   "cell_type": "code",
   "execution_count": 6,
   "metadata": {},
   "outputs": [
    {
     "name": "stdout",
     "output_type": "stream",
     "text": [
      "On branch master\n",
      "Your branch is up-to-date with 'origin/master'.\n",
      "nothing to commit, working tree clean\n"
     ]
    }
   ],
   "source": [
    "%%bash\n",
    "cd /Users/jasminetong/Documents/Master@Harvard-MIT/2017_Fall/CS207/cs207_Jiawen_Tong/homeworks/HW3/tmp/playground\n",
    "git status"
   ]
  },
  {
   "cell_type": "markdown",
   "metadata": {
    "collapsed": true
   },
   "source": [
    "## Problem 2"
   ]
  },
  {
   "cell_type": "code",
   "execution_count": 1,
   "metadata": {},
   "outputs": [
    {
     "name": "stderr",
     "output_type": "stream",
     "text": [
      "From https://github.com/IACS-CS-207/playground\n",
      " * branch            master     -> FETCH_HEAD\n",
      " * [new branch]      master     -> course/master\n"
     ]
    }
   ],
   "source": [
    "%%bash\n",
    "cd /Users/jasminetong/Documents/Master@Harvard-MIT/2017_Fall/CS207/cs207_Jiawen_Tong/homeworks/HW3/tmp/playground\n",
    "git remote add course https://github.com/IACS-CS-207/playground.git\n",
    "git fetch course master"
   ]
  },
  {
   "cell_type": "code",
   "execution_count": 2,
   "metadata": {},
   "outputs": [
    {
     "name": "stdout",
     "output_type": "stream",
     "text": [
      "# Playground Repo\n",
      "\n",
      "For practicing.\n"
     ]
    }
   ],
   "source": [
    "%%bash\n",
    "cd /Users/jasminetong/Documents/Master@Harvard-MIT/2017_Fall/CS207/cs207_Jiawen_Tong/homeworks/HW3/tmp/playground\n",
    "git checkout course/master -- README.md\n",
    "cat README.md"
   ]
  },
  {
   "cell_type": "code",
   "execution_count": 4,
   "metadata": {},
   "outputs": [
    {
     "name": "stdout",
     "output_type": "stream",
     "text": [
      "On branch master\n",
      "Your branch is up-to-date with 'origin/master'.\n",
      "Changes to be committed:\n",
      "  (use \"git reset HEAD <file>...\" to unstage)\n",
      "\n",
      "\tmodified:   README.md\n",
      "\n",
      "[master 9c450b6] commit the new README.md\n",
      " 1 file changed, 2 insertions(+), 2 deletions(-)\n",
      "On branch master\n",
      "Your branch is ahead of 'origin/master' by 1 commit.\n",
      "  (use \"git push\" to publish your local commits)\n",
      "nothing to commit, working tree clean\n"
     ]
    },
    {
     "name": "stderr",
     "output_type": "stream",
     "text": [
      "To https://github.com/JasmineeeeeTONG/playground.git\n",
      "   d0635e7..9c450b6  master -> master\n"
     ]
    }
   ],
   "source": [
    "%%bash\n",
    "cd /Users/jasminetong/Documents/Master@Harvard-MIT/2017_Fall/CS207/cs207_Jiawen_Tong/homeworks/HW3/tmp/playground\n",
    "git status\n",
    "git add README.md\n",
    "git commit -m \"commit the new README.md\"\n",
    "git status\n",
    "git push"
   ]
  },
  {
   "cell_type": "markdown",
   "metadata": {
    "collapsed": true
   },
   "source": [
    "## Problem 3"
   ]
  },
  {
   "cell_type": "code",
   "execution_count": 3,
   "metadata": {
    "collapsed": true
   },
   "outputs": [],
   "source": [
    "%matplotlib inline\n",
    "import collections as col\n",
    "import matplotlib.pyplot as plt\n",
    "import numpy as np\n",
    "import math"
   ]
  },
  {
   "cell_type": "code",
   "execution_count": 6,
   "metadata": {},
   "outputs": [
    {
     "name": "stdout",
     "output_type": "stream",
     "text": [
      "['Python', 'C++', 'Java', 'Python', 'Python', 'Python', 'Python', 'C++', 'Python', 'C', 'Other', 'Python', 'Python', 'Python', 'C++', 'Other', 'Python', 'Python', 'Python', 'Java', 'Python', 'Python', 'C#', 'Python', 'SQL', 'C++', 'C++', 'Python', 'Java', 'Java', 'Java', 'Python', 'Python', 'Python', 'SQL', 'Java', 'Python', 'Python', 'C++', 'Java', 'Python', 'Python', 'VB', 'Python', 'Python']\n"
     ]
    }
   ],
   "source": [
    "def readlines_to_list(filename):\n",
    "    f = open(filename)\n",
    "    lines = f.readlines()\n",
    "    li_lines = []\n",
    "    for line in lines:\n",
    "        li_lines.append(line.replace('\\n', ''))\n",
    "    return li_lines\n",
    "\n",
    "languages = readlines_to_list('languages.txt')\n",
    "print(languages)"
   ]
  },
  {
   "cell_type": "code",
   "execution_count": 7,
   "metadata": {},
   "outputs": [
    {
     "data": {
      "text/plain": [
       "{'C': 1,\n",
       " 'C#': 1,\n",
       " 'C++': 6,\n",
       " 'Java': 7,\n",
       " 'Other': 2,\n",
       " 'Python': 25,\n",
       " 'SQL': 2,\n",
       " 'VB': 1}"
      ]
     },
     "execution_count": 7,
     "metadata": {},
     "output_type": "execute_result"
    }
   ],
   "source": [
    "counter_dict = dict(col.Counter(languages))\n",
    "counter_dict"
   ]
  },
  {
   "cell_type": "code",
   "execution_count": 8,
   "metadata": {},
   "outputs": [
    {
     "data": {
      "image/png": "[encoded data removed]",
      "text/plain": [
       "<matplotlib.figure.Figure at 0x108bd45c0>"
      ]
     },
     "metadata": {},
     "output_type": "display_data"
    }
   ],
   "source": [
    "language_types = []\n",
    "language_counts = []\n",
    "for key in counter_dict:\n",
    "    language_types.append(key)\n",
    "    language_counts.append(counter_dict[key])\n",
    "\n",
    "pos = np.arange(len(language_types))\n",
    "plt.bar(pos, language_counts, align='center', alpha=0.7)\n",
    "plt.xticks(pos, language_types)\n",
    "plt.xlabel('language')\n",
    "plt.ylabel('usage')\n",
    "plt.title('Usage of different programming languages of the class')\n",
    "plt.show()"
   ]
  },
  {
   "cell_type": "markdown",
   "metadata": {},
   "source": [
    "## Problem 4"
   ]
  },
  {
   "cell_type": "code",
   "execution_count": 27,
   "metadata": {},
   "outputs": [],
   "source": [
    "def get_reaction_rate_coefficient(T, params, R=8.314):\n",
    "    if T <= 0: \n",
    "        raise Exception('Temperature T must be positive.')\n",
    "    if len(params) != 3:\n",
    "        raise Exception('Length of params must be 3 in the order of [A, b, E].')\n",
    "    if params[0] <= 0:\n",
    "        raise Exception('A must be positive.')\n",
    "    A = params[0]\n",
    "    b = params[1]\n",
    "    E = params[2]\n",
    "    return A * pow(T, b) * math.exp((-1)*E/(R*T))\n"
   ]
  },
  {
   "cell_type": "code",
   "execution_count": 34,
   "metadata": {},
   "outputs": [
    {
     "data": {
      "image/png": "[encoded data removed]",
      "text/plain": [
       "<matplotlib.figure.Figure at 0x116e9b518>"
      ]
     },
     "metadata": {},
     "output_type": "display_data"
    }
   ],
   "source": [
    "# Generate results using 3 different sets of parameters A, b, E \n",
    "params_sets = [[4, 2, 100], [3, 2, 200],[1, 2, 300]]\n",
    "T_list = np.linspace(0, 5001, 10001)[1:]\n",
    "results = []\n",
    "for params in params_sets:\n",
    "    rate_list = []\n",
    "    for T in T_list:\n",
    "        rate_list.append(get_reaction_rate_coefficient(T, params))\n",
    "    results.append(rate_list)\n",
    "\n",
    "# Plot the three lines using 3 different sets of parameters A, b, E \n",
    "plot_styles = ['r', 'g', 'b']\n",
    "for i in range(len(results)):\n",
    "    label_str = 'A='+str(params_sets[i][0])+', b='+str(params_sets[i][1])+', E='+str(params_sets[i][2])\n",
    "    plt.plot(T_list, results[i], plot_styles[i], label=label_str)\n",
    "\n",
    "plt.xlabel('T (K)')\n",
    "plt.ylabel('reaction_rate_coefficient')\n",
    "plt.title('reaction_rate_coefficients for T in (0, 5000]')\n",
    "plt.legend()\n",
    "plt.show()"
   ]
  },
  {
   "cell_type": "code",
   "execution_count": null,
   "metadata": {
    "collapsed": true
   },
   "outputs": [],
   "source": []
  }
 ],
 "metadata": {
  "kernelspec": {
   "display_name": "Python 3",
   "language": "python",
   "name": "python3"
  },
  "language_info": {
   "codemirror_mode": {
    "name": "ipython",
    "version": 3
   },
   "file_extension": ".py",
   "mimetype": "text/x-python",
   "name": "python",
   "nbconvert_exporter": "python",
   "pygments_lexer": "ipython3",
   "version": "3.6.1"
  }
 },
 "nbformat": 4,
 "nbformat_minor": 2
}
