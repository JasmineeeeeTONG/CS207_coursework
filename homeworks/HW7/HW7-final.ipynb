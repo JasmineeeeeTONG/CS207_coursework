{
 "cells": [
  {
   "cell_type": "markdown",
   "metadata": {},
   "source": [
    "# Homework 7\n",
    "## Due Date:  Wednesday, October 25th at 11:59 PM"
   ]
  },
  {
   "cell_type": "markdown",
   "metadata": {},
   "source": [
    "# Problem 1:  Linked List Class\n",
    "Write a linked list class called `LinkedList`.  Remember, a singly linked list is made up of nodes each of which contain a value and a pointer.  The first node is called the \"head node\".\n",
    "\n",
    "Here are the required methods:\n",
    "* `__init__(self, head)` where `head` is the value of the head node.  You could make the head node an attribute.\n",
    "* `__len__(self)`: Returns the number of elements in the linked list.\n",
    "* `__getitem__(self, index)` returns the value of the node corresponding to `index`.  Include checks to make sure that `index` is not out of range and that the user is not trying to index and empty list.\n",
    "* `__repr__(self)` returns `LinkedList(head_node)`.\n",
    "* `insert_front(self, element)` inserts a new node with value `element` at the beginning of the list.\n",
    "* `insert_back(self, element)` inserts a new node with value `element` at the end of the list.\n",
    "\n",
    "Note:  An alternative implementation is to create a `Node` class.  You are not required to make a `Node` class but you may if you prefer that implementation.  Please don't steal that implementation from the online forums.  I've seen those too."
   ]
  },
  {
   "cell_type": "code",
   "execution_count": 1,
   "metadata": {
    "collapsed": true
   },
   "outputs": [],
   "source": [
    "# The Node class for nodes in the LinkedList\n",
    "class Node:\n",
    "    \n",
    "    def __init__(self, val):\n",
    "        self.val = val\n",
    "        self.next = None\n",
    "    \n",
    "    def __repr__(self):\n",
    "        return \"Node({})\".format(self.val)\n",
    "    \n",
    "\n",
    "# The LinkedList class\n",
    "class LinkedList:\n",
    "    \n",
    "    def __init__(self, head):\n",
    "        self.head_node = Node(head)\n",
    "        self.size = 1\n",
    "        \n",
    "    def __len__(self):\n",
    "        return self.size\n",
    "    \n",
    "    def __getitem__(self, index):\n",
    "        if index >= self.size or index < 0:\n",
    "            raise IndexError('LinkedList Index Out of Bound.')\n",
    "        p = self.head_node\n",
    "        idx = 0\n",
    "        while idx != index:\n",
    "            idx += 1\n",
    "            p = p.next    \n",
    "        return p.val\n",
    "    \n",
    "    \n",
    "    def __repr__(self):\n",
    "        return \"LinkedList({})\".format(self.head_node.val)\n",
    "    \n",
    "    def insert_front(self, element):\n",
    "        new_head = Node(element)\n",
    "        new_head.next = self.head_node\n",
    "        self.head_node = new_head\n",
    "        self.size += 1\n",
    "    \n",
    "    def insert_back(self, element):\n",
    "        p = self.head_node\n",
    "        while p.next != None:\n",
    "            p = p.next\n",
    "        p.next = Node(element)\n",
    "        self.size += 1\n",
    "    "
   ]
  },
  {
   "cell_type": "code",
   "execution_count": 2,
   "metadata": {},
   "outputs": [
    {
     "name": "stdout",
     "output_type": "stream",
     "text": [
      "Length of my_linked_list: 5\n",
      "-1\n",
      "0\n",
      "1\n",
      "2\n",
      "100\n"
     ]
    }
   ],
   "source": [
    "my_linked_list = LinkedList(1)\n",
    "my_linked_list.insert_front(0)\n",
    "my_linked_list.insert_back(2)\n",
    "my_linked_list.insert_front(-1)\n",
    "my_linked_list.insert_back(100)\n",
    "\n",
    "print('Length of my_linked_list: {}'.format(len(my_linked_list)))\n",
    "\n",
    "for v in my_linked_list:\n",
    "    print(v)"
   ]
  },
  {
   "cell_type": "code",
   "execution_count": 3,
   "metadata": {},
   "outputs": [
    {
     "data": {
      "text/plain": [
       "'LinkedList(-1)'"
      ]
     },
     "execution_count": 3,
     "metadata": {},
     "output_type": "execute_result"
    }
   ],
   "source": [
    "repr(my_linked_list)"
   ]
  },
  {
   "cell_type": "code",
   "execution_count": 4,
   "metadata": {},
   "outputs": [
    {
     "name": "stdout",
     "output_type": "stream",
     "text": [
      "Length of ll_from_repr: 3\n"
     ]
    }
   ],
   "source": [
    "ll = LinkedList(5)\n",
    "ll.insert_back(6)\n",
    "ll.insert_back(7)\n",
    "\n",
    "ll_from_repr = eval(repr(ll)) # Make another LinkedList with eval(repr(ll))\n",
    "ll_from_repr.insert_front(4)\n",
    "ll_from_repr.insert_back(6)\n",
    "print('Length of ll_from_repr: {}'.format(len(ll_from_repr)))"
   ]
  },
  {
   "cell_type": "markdown",
   "metadata": {},
   "source": [
    "# Problem 2:  Binary Tree Class\n",
    "A binary search tree is a binary tree with the invariant that for any particular node the left child is smaller and the right child is larger. Create the class `BinaryTree` with the following specifications:\n",
    "\n",
    "`__init__(self)`: Constructor takes no additional arguments\n",
    "\n",
    "`insert(self, val)`: This method will insert `val` into the tree\n",
    "\n",
    "(Optional) `remove(self, val)`: This will remove `val` from the tree.\n",
    "1. If the node to be deleted has no children then just remove it.\n",
    "2. If the node to be deleted has only one child, remove the node and replace it with its child.\n",
    "3. If the node to be deleted has two children, replace the node to be deleted with the maximum value in the left subtree.  Finally, delete the node with the maximum value in the left-subtree.\n",
    "\n",
    "`getValues(self. depth)`: Return a list of the entire row of nodes at the specified depth with `None` at the index if there is no value in the tree. The length of the list should therefore be $2^{\\text{depth}}$. "
   ]
  },
  {
   "cell_type": "markdown",
   "metadata": {},
   "source": [
    "Here is a sample output:\n",
    "\n",
    "```python\n",
    "bt = BinaryTree()\n",
    "arr = [20, 10, 17, 14, 3, 0]\n",
    "for i in arr:\n",
    "    bt.insert(i)\n",
    "\n",
    "print(\"Height of binary tree is {}.\\n\".format(len(bt)))\n",
    "for i in range(len(bt)):\n",
    "    print(\"Level {0} values: {1}\".format(i, bt.getValues(i)))\n",
    "```\n",
    "\n",
    "```\n",
    "Height of binary tree is 4.\n",
    "\n",
    "Level 0 values: [20]\n",
    "Level 1 values: [10, None]\n",
    "Level 2 values: [3, 17, None, None]\n",
    "Level 3 values: [0, None, 14, None, None, None, None, None]\n",
    "```\n",
    "\n",
    "Note that you do not need to format your output in this way.  Nor are you required to implement a `__len__` method to compute the height of the tree.  I did this because it was convenient for illustration purposes.  This example is simply meant to show you some output at each level of the tree."
   ]
  },
  {
   "cell_type": "markdown",
   "metadata": {},
   "source": [
    "## Note of Reference\n",
    "**I referred to Chapter 3 - 12 Binary Search Tree of the book \"Introduction to Algorithms 3-ED\". **\n",
    "http://ressources.unisciel.fr/algoprog/s00aaroot/aa00module1/res/%5BCormen-AL2011%5DIntroduction_To_Algorithms-A3.pdf"
   ]
  },
  {
   "cell_type": "code",
   "execution_count": 5,
   "metadata": {
    "collapsed": true
   },
   "outputs": [],
   "source": [
    "import warnings\n",
    "\n",
    "# The BinaryNode class for nodes in the BinaryTree\n",
    "class BinaryNode:\n",
    "    \n",
    "    def __init__(self, val):\n",
    "        self.val = val\n",
    "        self.p = None\n",
    "        self.left = None\n",
    "        self.right = None\n",
    "    \n",
    "    def __repr__(self):\n",
    "        return \"BinaryNode({})\".format(self.val)\n",
    "    \n",
    "    def count_child(self): # count the number of children of this node\n",
    "        if self.left == None and self.right == None:\n",
    "            return 0\n",
    "        elif self.left != None and self.right != None:\n",
    "            return 2\n",
    "        else:\n",
    "            return 1\n",
    "\n",
    "# The BinaryTree class\n",
    "class BinaryTree:\n",
    "    \n",
    "    def __init__(self):\n",
    "        self.root = None\n",
    "    \n",
    "    def __repr__(self):\n",
    "        return \"BinaryTree()\"\n",
    "    \n",
    "    # The height of the BinaryTree\n",
    "    def __len__(self):\n",
    "        return self.maxDepth(self.root)\n",
    "    \n",
    "    # The height of the BinaryTree\n",
    "    def maxDepth(self, root): \n",
    "        if root == None:\n",
    "            return 0\n",
    "        else:\n",
    "            return max(self.maxDepth(root.left), self.maxDepth(root.right))+1\n",
    "    \n",
    "    \n",
    "    # Insert\n",
    "    def insert(self, val):\n",
    "        bi_node = BinaryNode(val) # create a new BinaryNode for the value to be inserted\n",
    "        \n",
    "        if self.root == None: # if the tree is empty, we just need to insert it at root\n",
    "            self.root = bi_node\n",
    "            return\n",
    "        \n",
    "        current_node = self.root # walk thru the tree to find the right position to insert\n",
    "        while current_node != None:\n",
    "            current_p = current_node\n",
    "            if val > current_node.val:\n",
    "                current_node = current_node.right\n",
    "            else:\n",
    "                current_node = current_node.left\n",
    "        \n",
    "        if val > current_p.val: \n",
    "            current_p.right = bi_node # is a right child\n",
    "        else:\n",
    "            current_p.left = bi_node # is a left child\n",
    "        bi_node.p = current_p # set parent\n",
    "    \n",
    "    \n",
    "    # Print out nodes sorted ascendingly\n",
    "    def inOrderWalk(self, node):\n",
    "        if node != None:\n",
    "            self.inOrderWalk(node.left)\n",
    "            print(node.val)\n",
    "            self.inOrderWalk(node.right)\n",
    "    \n",
    "    # Delete the nodes with 'None' as value\n",
    "    def clearNoneNodes(self, node):\n",
    "        if node != None:\n",
    "            if node.val == 'None':\n",
    "                if node == node.p.right:\n",
    "                    node.p.right = None\n",
    "                else:\n",
    "                    node.p.left = None\n",
    "            self.clearNoneNodes(node.left)\n",
    "            self.clearNoneNodes(node.right)\n",
    "    \n",
    "    # GetValues: calling getValuesNode(self.root, 0, depth, values)\n",
    "    def getValues(self, depth):\n",
    "        values = []\n",
    "        self.getValuesNode(self.root, 0, depth, values)\n",
    "        self.clearNoneNodes(self.root)\n",
    "        return values\n",
    "    \n",
    "    # GetValues from the subtree rooted at node, store in values\n",
    "    def getValuesNode(self, node, current_depth, depth, values):\n",
    "        if node != None:\n",
    "            if current_depth == depth:\n",
    "                values.append(node.val)\n",
    "            else:\n",
    "                if node.left == None:\n",
    "                    none_node = BinaryNode('None')\n",
    "                    none_node.p = node\n",
    "                    node.left = none_node\n",
    "                if node.right == None:\n",
    "                    none_node = BinaryNode('None')\n",
    "                    none_node.p = node\n",
    "                    node.right = none_node\n",
    "                self.getValuesNode(node.left, current_depth+1, depth, values)\n",
    "                self.getValuesNode(node.right, current_depth+1, depth, values)\n",
    "    \n",
    "    # Return the right-most node from the subtree rooted at node\n",
    "    def tree_max(self, node): \n",
    "        while node.right != None:\n",
    "            node = node.right\n",
    "        return node\n",
    "    \n",
    "    # Return the predecessor of a certain node (Not Used in the HW)\n",
    "    def tree_predecessor(self, node):\n",
    "        if node.left != None:\n",
    "            return self.tree_max(node.left)\n",
    "        parent = node.p\n",
    "        while parent != None and node == parent.left:\n",
    "            node = parent\n",
    "            parent = parent.p\n",
    "        return parent\n",
    "\n",
    "    # Replace the subtree rooted at u with the subtree rooted at v\n",
    "    def transplant(self, u, v): \n",
    "        if u.p == None:\n",
    "            self.root = v\n",
    "        elif u == u.p.left:\n",
    "            u.p.left = v\n",
    "        else:\n",
    "            u.p.right = v\n",
    "        if v != None:\n",
    "            v.p = u.p\n",
    "    \n",
    "    # Search for the value=key thru the subtree rooted at node\n",
    "    def search(self, node, key):\n",
    "        while node != None and key != node.val:\n",
    "            if key > node.val:\n",
    "                node = node.right\n",
    "            else:\n",
    "                node = node.left\n",
    "        return node\n",
    "    \n",
    "    # Remove\n",
    "    def remove(self, val):\n",
    "        rm_node = self.search(self.root, val)\n",
    "        if rm_node == None: # invalid remove node\n",
    "            warnings.warn('The value to be removed does not has a node associated.')\n",
    "            return\n",
    "        if rm_node.left == None:\n",
    "            self.transplant(rm_node, rm_node.right)\n",
    "        elif rm_node.right == None:\n",
    "            self.transplant(rm_node, rm_node.left)\n",
    "        else:\n",
    "            left_max = self.tree_max(rm_node.left)\n",
    "            if left_max.p != rm_node:\n",
    "                self.transplant(left_max, left_max.left)\n",
    "                left_max.left = rm_node.left\n",
    "                left_max.left.p = left_max\n",
    "            self.transplant(rm_node, left_max)\n",
    "            left_max.right = rm_node.right\n",
    "            left_max.right.p = left_max\n"
   ]
  },
  {
   "cell_type": "code",
   "execution_count": 6,
   "metadata": {
    "collapsed": true
   },
   "outputs": [],
   "source": [
    "tree1 = BinaryTree()\n",
    "arr1 = [20, 10, 17, 14, 3, 0]\n",
    "for a1 in arr1:\n",
    "    tree1.insert(a1)\n"
   ]
  },
  {
   "cell_type": "code",
   "execution_count": 7,
   "metadata": {},
   "outputs": [
    {
     "data": {
      "text/plain": [
       "BinaryTree()"
      ]
     },
     "execution_count": 7,
     "metadata": {},
     "output_type": "execute_result"
    }
   ],
   "source": [
    "tree1"
   ]
  },
  {
   "cell_type": "code",
   "execution_count": 8,
   "metadata": {},
   "outputs": [
    {
     "data": {
      "text/plain": [
       "BinaryNode(20)"
      ]
     },
     "execution_count": 8,
     "metadata": {},
     "output_type": "execute_result"
    }
   ],
   "source": [
    "tree1.root"
   ]
  },
  {
   "cell_type": "code",
   "execution_count": 9,
   "metadata": {},
   "outputs": [
    {
     "name": "stdout",
     "output_type": "stream",
     "text": [
      "Height of tree1:  4\n",
      "Level 0 values:  [20]\n",
      "Level 1 values:  [10, 'None']\n",
      "Level 2 values:  [3, 17, 'None', 'None']\n",
      "Level 3 values:  [0, 'None', 14, 'None', 'None', 'None', 'None', 'None']\n",
      "0\n",
      "3\n",
      "10\n",
      "14\n",
      "17\n",
      "20\n"
     ]
    }
   ],
   "source": [
    "print('Height of tree1: ', len(tree1))\n",
    "for i in range(len(tree1)):\n",
    "    print('Level %d values: ' % i, tree1.getValues(i))\n",
    "\n",
    "tree1.inOrderWalk(tree1.root)"
   ]
  },
  {
   "cell_type": "code",
   "execution_count": 10,
   "metadata": {},
   "outputs": [
    {
     "name": "stdout",
     "output_type": "stream",
     "text": [
      "Remove 17\n",
      "Height of tree1:  4\n",
      "Level 0 values:  [20]\n",
      "Level 1 values:  [10, 'None']\n",
      "Level 2 values:  [3, 14, 'None', 'None']\n",
      "Level 3 values:  [0, 'None', 'None', 'None', 'None', 'None', 'None', 'None']\n",
      "0\n",
      "3\n",
      "10\n",
      "14\n",
      "20\n"
     ]
    }
   ],
   "source": [
    "print('Remove 17')\n",
    "tree1.remove(17)\n",
    "print('Height of tree1: ', len(tree1))\n",
    "\n",
    "for i in range(len(tree1)):\n",
    "    print('Level %d values: ' % i, tree1.getValues(i))\n",
    "\n",
    "tree1.inOrderWalk(tree1.root)"
   ]
  },
  {
   "cell_type": "code",
   "execution_count": 11,
   "metadata": {},
   "outputs": [
    {
     "name": "stdout",
     "output_type": "stream",
     "text": [
      "Remove 0\n",
      "Height of tree1:  3\n",
      "Level 0 values:  [20]\n",
      "Level 1 values:  [10, 'None']\n",
      "Level 2 values:  [3, 14, 'None', 'None']\n",
      "3\n",
      "10\n",
      "14\n",
      "20\n"
     ]
    }
   ],
   "source": [
    "print('Remove 0')\n",
    "tree1.remove(0)\n",
    "print('Height of tree1: ', len(tree1))\n",
    "\n",
    "for i in range(len(tree1)):\n",
    "    print('Level %d values: ' % i, tree1.getValues(i))\n",
    "\n",
    "tree1.inOrderWalk(tree1.root)"
   ]
  },
  {
   "cell_type": "code",
   "execution_count": 12,
   "metadata": {},
   "outputs": [
    {
     "name": "stdout",
     "output_type": "stream",
     "text": [
      "Remove 10\n",
      "Height of tree1:  3\n",
      "Level 0 values:  [20]\n",
      "Level 1 values:  [3, 'None']\n",
      "Level 2 values:  ['None', 14, 'None', 'None']\n",
      "3\n",
      "14\n",
      "20\n"
     ]
    }
   ],
   "source": [
    "print('Remove 10')\n",
    "tree1.remove(10)\n",
    "print('Height of tree1: ', len(tree1))\n",
    "\n",
    "for i in range(len(tree1)):\n",
    "    print('Level %d values: ' % i, tree1.getValues(i))\n",
    "\n",
    "tree1.inOrderWalk(tree1.root)"
   ]
  },
  {
   "cell_type": "code",
   "execution_count": 13,
   "metadata": {},
   "outputs": [
    {
     "name": "stdout",
     "output_type": "stream",
     "text": [
      "Remove 20\n",
      "Height of tree1:  2\n",
      "Level 0 values:  [3]\n",
      "Level 1 values:  ['None', 14]\n",
      "3\n",
      "14\n"
     ]
    }
   ],
   "source": [
    "print('Remove 20')\n",
    "tree1.remove(20)\n",
    "print('Height of tree1: ', len(tree1))\n",
    "\n",
    "for i in range(len(tree1)):\n",
    "    print('Level %d values: ' % i, tree1.getValues(i))\n",
    "    \n",
    "tree1.inOrderWalk(tree1.root)"
   ]
  },
  {
   "cell_type": "code",
   "execution_count": 14,
   "metadata": {},
   "outputs": [
    {
     "name": "stdout",
     "output_type": "stream",
     "text": [
      "Height of tree2:  4\n",
      "Level 0 values:  [13]\n",
      "Level 1 values:  [7, 19]\n",
      "Level 2 values:  [3, 11, 17, 29]\n",
      "Level 3 values:  [2, 5, 'None', 'None', 'None', 'None', 'None', 31]\n",
      "2\n",
      "3\n",
      "5\n",
      "7\n",
      "11\n",
      "13\n",
      "17\n",
      "19\n",
      "29\n",
      "31\n"
     ]
    }
   ],
   "source": [
    "tree2 = BinaryTree()\n",
    "arr2 = [13, 7, 19, 17, 3, 29, 5, 31, 2, 11]\n",
    "for a2 in arr2:\n",
    "    tree2.insert(a2)\n",
    "\n",
    "print('Height of tree2: ', len(tree2))\n",
    "for i in range(len(tree2)):\n",
    "    print('Level %d values: ' % i, tree2.getValues(i))\n",
    "\n",
    "tree2.inOrderWalk(tree2.root)"
   ]
  },
  {
   "cell_type": "code",
   "execution_count": 15,
   "metadata": {},
   "outputs": [
    {
     "name": "stdout",
     "output_type": "stream",
     "text": [
      "Remove 13\n",
      "Height of tree2:  4\n",
      "Level 0 values:  [11]\n",
      "Level 1 values:  [7, 19]\n",
      "Level 2 values:  [3, 'None', 17, 29]\n",
      "Level 3 values:  [2, 5, 'None', 'None', 'None', 'None', 'None', 31]\n",
      "2\n",
      "3\n",
      "5\n",
      "7\n",
      "11\n",
      "17\n",
      "19\n",
      "29\n",
      "31\n"
     ]
    }
   ],
   "source": [
    "print('Remove 13')\n",
    "tree2.remove(13)\n",
    "print('Height of tree2: ', len(tree2))\n",
    "for i in range(len(tree2)):\n",
    "    print('Level %d values: ' % i, tree2.getValues(i))\n",
    "\n",
    "tree2.inOrderWalk(tree2.root)"
   ]
  },
  {
   "cell_type": "markdown",
   "metadata": {},
   "source": [
    "# Problem 3:  Peer Evaluations\n",
    "Evaluate the members of your group for Milestone 1.  Please follow the instructions in the provided survey.  The survey can be found here:  [Milestone 1 Peer Evaluation](https://harvard.az1.qualtrics.com/jfe/form/SV_0JnuXbE5QjLCrKB)."
   ]
  },
  {
   "cell_type": "markdown",
   "metadata": {},
   "source": [
    "# Problem 4:  Course Evaluation\n",
    "Please take the [Course Evaluation](https://docs.google.com/forms/d/e/1FAIpQLSdDyrtf_aByU4xNeLMSmDrFCJ2OLDrK1Q7ZoeTd2Whf_cdRrw/viewform?usp=sf_link)."
   ]
  }
 ],
 "metadata": {
  "kernelspec": {
   "display_name": "Python 3",
   "language": "python",
   "name": "python3"
  },
  "language_info": {
   "codemirror_mode": {
    "name": "ipython",
    "version": 3
   },
   "file_extension": ".py",
   "mimetype": "text/x-python",
   "name": "python",
   "nbconvert_exporter": "python",
   "pygments_lexer": "ipython3",
   "version": "3.6.1"
  }
 },
 "nbformat": 4,
 "nbformat_minor": 2
}
