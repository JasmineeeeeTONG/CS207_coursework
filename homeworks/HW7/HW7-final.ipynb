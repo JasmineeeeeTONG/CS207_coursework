{
 "cells": [
  {
   "cell_type": "markdown",
   "metadata": {},
   "source": [
    "# Homework 7\n",
    "## Due Date:  Wednesday, October 25th at 11:59 PM"
   ]
  },
  {
   "cell_type": "markdown",
   "metadata": {},
   "source": [
    "# Problem 1:  Linked List Class\n",
    "Write a linked list class called `LinkedList`.  Remember, a singly linked list is made up of nodes each of which contain a value and a pointer.  The first node is called the \"head node\".\n",
    "\n",
    "Here are the required methods:\n",
    "* `__init__(self, head)` where `head` is the value of the head node.  You could make the head node an attribute.\n",
    "* `__len__(self)`: Returns the number of elements in the linked list.\n",
    "* `__getitem__(self, index)` returns the value of the node corresponding to `index`.  Include checks to make sure that `index` is not out of range and that the user is not trying to index and empty list.\n",
    "* `__repr__(self)` returns `LinkedList(head_node)`.\n",
    "* `insert_front(self, element)` inserts a new node with value `element` at the beginning of the list.\n",
    "* `insert_back(self, element)` inserts a new node with value `element` at the end of the list.\n",
    "\n",
    "Note:  An alternative implementation is to create a `Node` class.  You are not required to make a `Node` class but you may if you prefer that implementation.  Please don't steal that implementation from the online forums.  I've seen those too."
   ]
  },
  {
   "cell_type": "code",
   "execution_count": null,
   "metadata": {
    "collapsed": true
   },
   "outputs": [],
   "source": [
    "class Node:\n",
    "    \n",
    "    def __init__(self, val):\n",
    "        self.val = val\n",
    "        self.next = None\n",
    "    \n",
    "    def __repr__(self):\n",
    "        return \"Node(val={}, next={})\".format(self.val, self.next)\n",
    "    \n",
    "\n",
    "class LinkedList:\n",
    "    \n",
    "    def __init__(self, head):\n",
    "        self.head = Node(head)\n",
    "        self.size = 1\n",
    "        \n",
    "    def __len__(self):\n",
    "        return self.size\n",
    "    \n",
    "    def __getitem__(self, index):\n",
    "        if index >= self.size or index < 0:\n",
    "            raise Exception('LinkedList Error: Index Out of Bound')\n",
    "        p = self.head\n",
    "        idx = 0\n",
    "        while idx != index:\n",
    "            idx += 1\n",
    "            p = p.next    \n",
    "        return p.val\n",
    "    \n",
    "    def __repr__(self):\n",
    "        return \"LinkedList(head={})\".format(self.head)\n",
    "    \n",
    "    def insert_front(self, element):\n",
    "        new_head = Node(element)\n",
    "        new_head.next = self.head\n",
    "        self.head = new_head\n",
    "        self.size += 1\n",
    "    \n",
    "    def insert_back(self, element):\n",
    "        p = self.head\n",
    "        while p.next != None:\n",
    "            p = p.next\n",
    "        p.next = Node(element)\n",
    "        self.size += 1\n",
    "    "
   ]
  },
  {
   "cell_type": "code",
   "execution_count": null,
   "metadata": {
    "collapsed": true
   },
   "outputs": [],
   "source": [
    "my_linked_list = LinkedList(1)\n",
    "my_linked_list.insert_front(0)\n",
    "my_linked_list.insert_back(2)\n",
    "my_linked_list.insert_front(-1)\n",
    "\n",
    "for v in range(len(my_linked_list)):\n",
    "    print(my_linked_list[v])"
   ]
  },
  {
   "cell_type": "markdown",
   "metadata": {},
   "source": [
    "# Problem 2:  Binary Tree Class\n",
    "A binary search tree is a binary tree with the invariant that for any particular node the left child is smaller and the right child is larger. Create the class `BinaryTree` with the following specifications:\n",
    "\n",
    "`__init__(self)`: Constructor takes no additional arguments\n",
    "\n",
    "`insert(self, val)`: This method will insert `val` into the tree\n",
    "\n",
    "(Optional) `remove(self, val)`: This will remove `val` from the tree.\n",
    "1. If the node to be deleted has no children then just remove it.\n",
    "2. If the node to be deleted has only one child, remove the node and replace it with its child.\n",
    "3. If the node to be deleted has two children, replace the node to be deleted with the maximum value in the left subtree.  Finally, delete the node with the maximum value in the left-subtree.\n",
    "\n",
    "`getValues(self. depth)`: Return a list of the entire row of nodes at the specified depth with `None` at the index if there is no value in the tree. The length of the list should therefore be $2^{\\text{depth}}$. "
   ]
  },
  {
   "cell_type": "markdown",
   "metadata": {},
   "source": [
    "Here is a sample output:\n",
    "\n",
    "```python\n",
    "bt = BinaryTree()\n",
    "arr = [20, 10, 17, 14, 3, 0]\n",
    "for i in arr:\n",
    "    bt.insert(i)\n",
    "\n",
    "print(\"Height of binary tree is {}.\\n\".format(len(bt)))\n",
    "for i in range(len(bt)):\n",
    "    print(\"Level {0} values: {1}\".format(i, bt.getValues(i)))\n",
    "```\n",
    "\n",
    "```\n",
    "Height of binary tree is 4.\n",
    "\n",
    "Level 0 values: [20]\n",
    "Level 1 values: [10, None]\n",
    "Level 2 values: [3, 17, None, None]\n",
    "Level 3 values: [0, None, 14, None, None, None, None, None]\n",
    "```\n",
    "\n",
    "Note that you do not need to format your output in this way.  Nor are you required to implement a `__len__` method to compute the height of the tree.  I did this because it was convenient for illustration purposes.  This example is simply meant to show you some output at each level of the tree."
   ]
  },
  {
   "cell_type": "code",
   "execution_count": 1,
   "metadata": {
    "collapsed": true
   },
   "outputs": [],
   "source": [
    "import warnings\n",
    "\n",
    "class BinaryNode:\n",
    "    \n",
    "    def __init__(self, val):\n",
    "        self.val = val\n",
    "        self.p = None\n",
    "        self.left = None\n",
    "        self.right = None\n",
    "    \n",
    "    def __repr__(self):\n",
    "        return \"BinaryNode(val={}, left={}, right={})\".format(self.val, self.left, self.right)\n",
    "    \n",
    "    def count_child(self):\n",
    "        if self.left == None and self.right == None:\n",
    "            return 0\n",
    "        elif self.left != None and self.right != None:\n",
    "            return 2\n",
    "        else:\n",
    "            return 1\n",
    "\n",
    "class BinaryTree:\n",
    "    \n",
    "    def __init__(self):\n",
    "        self.root = None\n",
    "    \n",
    "    def __repr__(self):\n",
    "        return \"BinaryTree(root={}, depth={})\".format(self.root, self.maxDepth(self.root))\n",
    "    \n",
    "    def __len__(self):\n",
    "        return self.maxDepth(self.root)\n",
    "    \n",
    "    def insert(self, val):\n",
    "        bi_node = BinaryNode(val) # create a new BinaryNode for the value to be inserted\n",
    "        \n",
    "        if self.root == None: # if the tree is empty, we just need to insert it at root\n",
    "            self.root = bi_node\n",
    "            return\n",
    "        \n",
    "        current_node = self.root # walk thru the tree to find the right position to insert\n",
    "        while current_node != None:\n",
    "            current_p = current_node\n",
    "            if val > current_node.val:\n",
    "                current_node = current_node.right\n",
    "            else:\n",
    "                current_node = current_node.left\n",
    "        \n",
    "        if val > current_p.val: \n",
    "            current_p.right = bi_node # is a right child\n",
    "        else:\n",
    "            current_p.left = bi_node # is a left child\n",
    "        bi_node.p = current_p # set parent\n",
    "    \n",
    "    def maxDepth(self, root):\n",
    "        if root == None:\n",
    "            return 0\n",
    "        else:\n",
    "            return max(self.maxDepth(root.left), self.maxDepth(root.right))+1\n",
    "    \n",
    "\n",
    "    def inOrderWalk(self, node):\n",
    "        if node != None:\n",
    "            self.inOrderWalk(node.left)\n",
    "            print(node.val)\n",
    "            self.inOrderWalk(node.right)\n",
    "    \n",
    "    def clearNoneNodes(self, node):\n",
    "        if node != None:\n",
    "            if node.val == 'None':\n",
    "                if node == node.p.right:\n",
    "                    node.p.right = None\n",
    "                else:\n",
    "                    node.p.left = None\n",
    "            self.clearNoneNodes(node.left)\n",
    "            self.clearNoneNodes(node.right)\n",
    "    \n",
    "    def getValues(self, depth):\n",
    "        values = []\n",
    "        self.getValuesNode(self.root, 0, depth, values)\n",
    "        self.clearNoneNodes(self.root)\n",
    "        return values\n",
    "\n",
    "    \n",
    "    def getValuesNode(self, node, current_depth, depth, values):\n",
    "        if node != None:\n",
    "            if current_depth == depth:\n",
    "                values.append(node.val)\n",
    "            else:\n",
    "                if node.left == None:\n",
    "                    none_node = BinaryNode('None')\n",
    "                    none_node.p = node\n",
    "                    node.left = none_node\n",
    "                if node.right == None:\n",
    "                    none_node = BinaryNode('None')\n",
    "                    none_node.p = node\n",
    "                    node.right = none_node\n",
    "                self.getValuesNode(node.left, current_depth+1, depth, values)\n",
    "                self.getValuesNode(node.right, current_depth+1, depth, values)\n",
    "    \n",
    "    def tree_max(self, node): # the right-most node from the subtree rooted at node\n",
    "        while node.right != None:\n",
    "            node = node.right\n",
    "        return node\n",
    "\n",
    "    def tree_predecessor(self, node):\n",
    "        if node.left != None:\n",
    "            return self.tree_max(node.left)\n",
    "        parent = node.p\n",
    "        while parent != None and node == parent.left:\n",
    "            node = parent\n",
    "            parent = parent.p\n",
    "        return parent\n",
    "\n",
    "    def transplant(self, u, v): # Replace the subtree rooted at u with the subtree rooted at v\n",
    "        if u.p == None:\n",
    "            self.root = v\n",
    "        elif u == u.p.left:\n",
    "            u.p.left = v\n",
    "        else:\n",
    "            u.p.right = v\n",
    "        if v != None:\n",
    "            v.p = u.p\n",
    "    \n",
    "    def search(self, node, key):\n",
    "        while node != None and key != node.val:\n",
    "            if key > node.val:\n",
    "                node = node.right\n",
    "            else:\n",
    "                node = node.left\n",
    "        return node\n",
    "    \n",
    "    def remove(self, val):\n",
    "        rm_node = self.search(self.root, val)\n",
    "        if rm_node == None: # invalid remove node\n",
    "            warnings.warn('The value to be removed does not has a node associated.')\n",
    "            return\n",
    "        if rm_node.left == None:\n",
    "            self.transplant(rm_node, rm_node.right)\n",
    "        elif rm_node.right == None:\n",
    "            self.transplant(rm_node, rm_node.left)\n",
    "        else:\n",
    "            left_max = self.tree_max(rm_node.left)\n",
    "            if left_max.p != rm_node:\n",
    "                self.transplant(left_max, left_max.left)\n",
    "                left_max.left = rm_node.left\n",
    "                left_max.left.p = left_max\n",
    "            self.transplant(rm_node, left_max)\n",
    "            left_max.right = rm_node.right\n",
    "            left_max.right.p = left_max\n"
   ]
  },
  {
   "cell_type": "code",
   "execution_count": 2,
   "metadata": {
    "collapsed": true
   },
   "outputs": [],
   "source": [
    "tree1 = BinaryTree()\n",
    "arr1 = [20, 10, 17, 14, 3, 0]\n",
    "for a1 in arr1:\n",
    "    tree1.insert(a1)\n"
   ]
  },
  {
   "cell_type": "code",
   "execution_count": 3,
   "metadata": {},
   "outputs": [
    {
     "data": {
      "text/plain": [
       "BinaryTree(root=BinaryNode(val=20, left=BinaryNode(val=10, left=BinaryNode(val=3, left=BinaryNode(val=0, left=None, right=None), right=None), right=BinaryNode(val=17, left=BinaryNode(val=14, left=None, right=None), right=None)), right=None), depth=4)"
      ]
     },
     "execution_count": 3,
     "metadata": {},
     "output_type": "execute_result"
    }
   ],
   "source": [
    "tree1"
   ]
  },
  {
   "cell_type": "code",
   "execution_count": 4,
   "metadata": {},
   "outputs": [
    {
     "name": "stdout",
     "output_type": "stream",
     "text": [
      "Level 0 values:  [20]\n",
      "Level 1 values:  [10, 'None']\n",
      "Level 2 values:  [3, 17, 'None', 'None']\n",
      "Level 3 values:  [0, 'None', 14, 'None', 'None', 'None', 'None', 'None']\n"
     ]
    }
   ],
   "source": [
    "for i in range(len(tree1)):\n",
    "    print('Level %d values: ' % i, tree1.getValues(i))"
   ]
  },
  {
   "cell_type": "code",
   "execution_count": 5,
   "metadata": {},
   "outputs": [
    {
     "name": "stdout",
     "output_type": "stream",
     "text": [
      "4\n"
     ]
    }
   ],
   "source": [
    "tree1.remove(17)\n",
    "print(len(tree1))"
   ]
  },
  {
   "cell_type": "code",
   "execution_count": 6,
   "metadata": {},
   "outputs": [
    {
     "name": "stdout",
     "output_type": "stream",
     "text": [
      "Level 0 values:  [20]\n",
      "Level 1 values:  [10, 'None']\n",
      "Level 2 values:  [3, 14, 'None', 'None']\n",
      "Level 3 values:  [0, 'None', 'None', 'None', 'None', 'None', 'None', 'None']\n"
     ]
    }
   ],
   "source": [
    "for i in range(len(tree1)):\n",
    "    print('Level %d values: ' % i, tree1.getValues(i))"
   ]
  },
  {
   "cell_type": "code",
   "execution_count": 7,
   "metadata": {},
   "outputs": [
    {
     "name": "stdout",
     "output_type": "stream",
     "text": [
      "3\n"
     ]
    }
   ],
   "source": [
    "tree1.remove(0)\n",
    "print(len(tree1))"
   ]
  },
  {
   "cell_type": "code",
   "execution_count": 8,
   "metadata": {},
   "outputs": [
    {
     "name": "stdout",
     "output_type": "stream",
     "text": [
      "Level 0 values:  [20]\n",
      "Level 1 values:  [10, 'None']\n",
      "Level 2 values:  [3, 14, 'None', 'None']\n"
     ]
    }
   ],
   "source": [
    "for i in range(len(tree1)):\n",
    "    print('Level %d values: ' % i, tree1.getValues(i))"
   ]
  },
  {
   "cell_type": "code",
   "execution_count": 9,
   "metadata": {},
   "outputs": [
    {
     "name": "stdout",
     "output_type": "stream",
     "text": [
      "3\n"
     ]
    }
   ],
   "source": [
    "tree1.remove(10)\n",
    "print(len(tree1))"
   ]
  },
  {
   "cell_type": "code",
   "execution_count": 10,
   "metadata": {},
   "outputs": [
    {
     "name": "stdout",
     "output_type": "stream",
     "text": [
      "Level 0 values:  [20]\n",
      "Level 1 values:  [3, 'None']\n",
      "Level 2 values:  ['None', 14, 'None', 'None']\n"
     ]
    }
   ],
   "source": [
    "for i in range(len(tree1)):\n",
    "    print('Level %d values: ' % i, tree1.getValues(i))"
   ]
  },
  {
   "cell_type": "code",
   "execution_count": 11,
   "metadata": {},
   "outputs": [
    {
     "name": "stdout",
     "output_type": "stream",
     "text": [
      "2\n"
     ]
    }
   ],
   "source": [
    "tree1.remove(20)\n",
    "print(len(tree1))"
   ]
  },
  {
   "cell_type": "code",
   "execution_count": 12,
   "metadata": {},
   "outputs": [
    {
     "name": "stdout",
     "output_type": "stream",
     "text": [
      "Level 0 values:  [3]\n",
      "Level 1 values:  ['None', 14]\n"
     ]
    }
   ],
   "source": [
    "for i in range(len(tree1)):\n",
    "    print('Level %d values: ' % i, tree1.getValues(i))"
   ]
  },
  {
   "cell_type": "markdown",
   "metadata": {},
   "source": [
    "# Problem 3:  Peer Evaluations\n",
    "Evaluate the members of your group for Milestone 1.  Please follow the instructions in the provided survey.  The survey can be found here:  [Milestone 1 Peer Evaluation](https://harvard.az1.qualtrics.com/jfe/form/SV_0JnuXbE5QjLCrKB)."
   ]
  },
  {
   "cell_type": "markdown",
   "metadata": {},
   "source": [
    "# Problem 4:  Course Evaluation\n",
    "Please take the [Course Evaluation](https://docs.google.com/forms/d/e/1FAIpQLSdDyrtf_aByU4xNeLMSmDrFCJ2OLDrK1Q7ZoeTd2Whf_cdRrw/viewform?usp=sf_link)."
   ]
  }
 ],
 "metadata": {
  "kernelspec": {
   "display_name": "Python 3",
   "language": "python",
   "name": "python3"
  },
  "language_info": {
   "codemirror_mode": {
    "name": "ipython",
    "version": 3
   },
   "file_extension": ".py",
   "mimetype": "text/x-python",
   "name": "python",
   "nbconvert_exporter": "python",
   "pygments_lexer": "ipython3",
   "version": "3.6.1"
  }
 },
 "nbformat": 4,
 "nbformat_minor": 2
}
