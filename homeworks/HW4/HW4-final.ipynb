{
 "cells": [
  {
   "cell_type": "markdown",
   "metadata": {},
   "source": [
    "## Problem 1"
   ]
  },
  {
   "cell_type": "code",
   "execution_count": 1,
   "metadata": {
    "collapsed": true
   },
   "outputs": [],
   "source": [
    "from math import *\n",
    "import numpy as np"
   ]
  },
  {
   "cell_type": "code",
   "execution_count": 2,
   "metadata": {
    "collapsed": true
   },
   "outputs": [],
   "source": [
    "def readlines_to_float_list(filename):\n",
    "    f = open(filename)\n",
    "    lines = f.readlines()\n",
    "    li_lines = []\n",
    "    for line in lines:\n",
    "        li_lines.append(float(line.replace('\\n', '')))\n",
    "    return li_lines\n",
    "\n",
    "def compute_circle_area(r):\n",
    "    return pi*r*r\n",
    "\n",
    "def myave(radii, compute_area):\n",
    "    count = len(radii)\n",
    "    total_area = 0\n",
    "    for r in radii:\n",
    "        total_area += compute_area(r)\n",
    "    return total_area/count\n"
   ]
  },
  {
   "cell_type": "code",
   "execution_count": 3,
   "metadata": {},
   "outputs": [
    {
     "data": {
      "text/plain": [
       "3.1958990970819956"
      ]
     },
     "execution_count": 3,
     "metadata": {},
     "output_type": "execute_result"
    }
   ],
   "source": [
    "# Read radii in circles.txt to a list of floats    \n",
    "radii = readlines_to_float_list('circles.txt')\n",
    "\n",
    "# Calculate the average area of the circles\n",
    "avg_area = myave(radii, compute_circle_area)\n",
    "avg_area"
   ]
  },
  {
   "cell_type": "markdown",
   "metadata": {},
   "source": [
    "## Problem 2"
   ]
  },
  {
   "cell_type": "markdown",
   "metadata": {},
   "source": [
    "### Part 1"
   ]
  },
  {
   "cell_type": "code",
   "execution_count": 4,
   "metadata": {},
   "outputs": [
    {
     "name": "stdout",
     "output_type": "stream",
     "text": [
      "Initial balance is 100.00: \n",
      "After 1st widthdraw of 10.00, balance is 90.00: \n",
      "After 2nd widthdraw of 20.00, balance is 80.00: \n"
     ]
    }
   ],
   "source": [
    "def make_withdraw(balance):\n",
    "    def wd_inner(amount):\n",
    "        if amount > balance:\n",
    "            raise Exception(\"Error: Attempting to withdraw more than the current balance.\")\n",
    "        new_bal = balance - amount\n",
    "        return new_bal\n",
    "    return wd_inner\n",
    "\n",
    "bal0 = 100\n",
    "wd1_amount = 10\n",
    "wd2_amount = 20\n",
    "print(\"Initial balance is %2.2f: \" % bal0)\n",
    "wd = make_withdraw(bal0)\n",
    "bal1 = wd(wd1_amount)\n",
    "print(\"After 1st widthdraw of %2.2f, balance is %2.2f: \" % (wd1_amount, bal1))\n",
    "bal2 = wd(wd2_amount)\n",
    "print(\"After 2nd widthdraw of %2.2f, balance is %2.2f: \" % (wd2_amount, bal2))"
   ]
  },
  {
   "cell_type": "markdown",
   "metadata": {},
   "source": [
    "### Answer\n",
    "**\n",
    "The 2nd withdraw did not count upon the balance after the 1st withdraw. Both withdraws deduct from the initial balance (100) since the inner withdraw function captures the same outer `balance`.\n",
    "**"
   ]
  },
  {
   "cell_type": "markdown",
   "metadata": {},
   "source": [
    "### Part 2"
   ]
  },
  {
   "cell_type": "code",
   "execution_count": 5,
   "metadata": {},
   "outputs": [
    {
     "name": "stdout",
     "output_type": "stream",
     "text": [
      "Initial balance is 100.00: \n"
     ]
    },
    {
     "ename": "UnboundLocalError",
     "evalue": "local variable 'balance' referenced before assignment",
     "output_type": "error",
     "traceback": [
      "\u001b[0;31m---------------------------------------------------------------------------\u001b[0m",
      "\u001b[0;31mUnboundLocalError\u001b[0m                         Traceback (most recent call last)",
      "\u001b[0;32m<ipython-input-5-812a8b07548d>\u001b[0m in \u001b[0;36m<module>\u001b[0;34m()\u001b[0m\n\u001b[1;32m     12\u001b[0m \u001b[0mprint\u001b[0m\u001b[0;34m(\u001b[0m\u001b[0;34m\"Initial balance is %2.2f: \"\u001b[0m \u001b[0;34m%\u001b[0m \u001b[0mbal0\u001b[0m\u001b[0;34m)\u001b[0m\u001b[0;34m\u001b[0m\u001b[0m\n\u001b[1;32m     13\u001b[0m \u001b[0mwd\u001b[0m \u001b[0;34m=\u001b[0m \u001b[0mmake_withdraw\u001b[0m\u001b[0;34m(\u001b[0m\u001b[0mbal0\u001b[0m\u001b[0;34m)\u001b[0m\u001b[0;34m\u001b[0m\u001b[0m\n\u001b[0;32m---> 14\u001b[0;31m \u001b[0mbal1\u001b[0m \u001b[0;34m=\u001b[0m \u001b[0mwd\u001b[0m\u001b[0;34m(\u001b[0m\u001b[0;36m10\u001b[0m\u001b[0;34m)\u001b[0m\u001b[0;34m\u001b[0m\u001b[0m\n\u001b[0m\u001b[1;32m     15\u001b[0m \u001b[0mprint\u001b[0m\u001b[0;34m(\u001b[0m\u001b[0;34m\"After 1st widthdraw of %2.2f, balance is %2.2f: \"\u001b[0m \u001b[0;34m%\u001b[0m \u001b[0;34m(\u001b[0m\u001b[0mwd1_amount\u001b[0m\u001b[0;34m,\u001b[0m \u001b[0mbal1\u001b[0m\u001b[0;34m)\u001b[0m\u001b[0;34m)\u001b[0m\u001b[0;34m\u001b[0m\u001b[0m\n\u001b[1;32m     16\u001b[0m \u001b[0mbal2\u001b[0m \u001b[0;34m=\u001b[0m \u001b[0mwd\u001b[0m\u001b[0;34m(\u001b[0m\u001b[0;36m20\u001b[0m\u001b[0;34m)\u001b[0m\u001b[0;34m\u001b[0m\u001b[0m\n",
      "\u001b[0;32m<ipython-input-5-812a8b07548d>\u001b[0m in \u001b[0;36mwd_inner\u001b[0;34m(amount)\u001b[0m\n\u001b[1;32m      1\u001b[0m \u001b[0;32mdef\u001b[0m \u001b[0mmake_withdraw\u001b[0m\u001b[0;34m(\u001b[0m\u001b[0mbalance\u001b[0m\u001b[0;34m)\u001b[0m\u001b[0;34m:\u001b[0m\u001b[0;34m\u001b[0m\u001b[0m\n\u001b[1;32m      2\u001b[0m     \u001b[0;32mdef\u001b[0m \u001b[0mwd_inner\u001b[0m\u001b[0;34m(\u001b[0m\u001b[0mamount\u001b[0m\u001b[0;34m)\u001b[0m\u001b[0;34m:\u001b[0m\u001b[0;34m\u001b[0m\u001b[0m\n\u001b[0;32m----> 3\u001b[0;31m         \u001b[0;32mif\u001b[0m \u001b[0mamount\u001b[0m \u001b[0;34m>\u001b[0m \u001b[0mbalance\u001b[0m\u001b[0;34m:\u001b[0m\u001b[0;34m\u001b[0m\u001b[0m\n\u001b[0m\u001b[1;32m      4\u001b[0m             \u001b[0;32mraise\u001b[0m \u001b[0mExeption\u001b[0m\u001b[0;34m(\u001b[0m\u001b[0;34m\"Error: Attempting to withdraw more than the current balance.\"\u001b[0m\u001b[0;34m)\u001b[0m\u001b[0;34m\u001b[0m\u001b[0m\n\u001b[1;32m      5\u001b[0m         \u001b[0mbalance\u001b[0m \u001b[0;34m=\u001b[0m \u001b[0mbalance\u001b[0m \u001b[0;34m-\u001b[0m \u001b[0mamount\u001b[0m\u001b[0;34m\u001b[0m\u001b[0m\n",
      "\u001b[0;31mUnboundLocalError\u001b[0m: local variable 'balance' referenced before assignment"
     ]
    }
   ],
   "source": [
    "def make_withdraw(balance):\n",
    "    def wd_inner(amount):\n",
    "        if amount > balance:\n",
    "            raise Exeption(\"Error: Attempting to withdraw more than the current balance.\")\n",
    "        balance = balance - amount\n",
    "        return balance\n",
    "    return wd_inner\n",
    "\n",
    "bal0 = 100\n",
    "wd1_amount = 10\n",
    "wd2_amount = 20\n",
    "print(\"Initial balance is %2.2f: \" % bal0)\n",
    "wd = make_withdraw(bal0)\n",
    "bal1 = wd(10)\n",
    "print(\"After 1st widthdraw of %2.2f, balance is %2.2f: \" % (wd1_amount, bal1))\n",
    "bal2 = wd(20)\n",
    "print(\"After 2nd widthdraw of %2.2f, balance is %2.2f: \" % (wd2_amount, bal2))"
   ]
  },
  {
   "cell_type": "markdown",
   "metadata": {},
   "source": [
    "### Answer\n",
    "**\n",
    "The inner function `wd_inner` has knowledge of the name bindings in the scope of the outer function `md_withdraw`. Thus, it can judge whether the withdraw is more than the current balance and can also return the new balance by deducting the withdraw amount from the current balance.\n",
    "**\n",
    "  \n",
    "**\n",
    "However, when we are about to assign a new value to the `balance` variable, we want to access the actual location where it is stored. Within the inner function's scope, python cannot find a local variable called `balance`. Since `balance` is defined outside of the inner function, it is not local. But Python interpreter assumes that we are trying to modify a local variable called `balance`. It cannot find it and raises an error:**\n",
    "\n",
    "`UnboundLocalError: local variable 'balance' referenced before assignment`\n"
   ]
  },
  {
   "cell_type": "markdown",
   "metadata": {},
   "source": [
    "### Part 3"
   ]
  },
  {
   "cell_type": "code",
   "execution_count": 6,
   "metadata": {},
   "outputs": [
    {
     "name": "stdout",
     "output_type": "stream",
     "text": [
      "Initial balance is 100.00: \n",
      "After 1st widthdraw of 10.00, balance is 90.00: \n",
      "After 2nd widthdraw of 20.00, balance is 70.00: \n"
     ]
    }
   ],
   "source": [
    "def make_withdraw(balance):\n",
    "    def wd_inner(amount):\n",
    "        nonlocal balance\n",
    "        if amount > balance:\n",
    "            raise Exeption(\"Error: Attempting to withdraw more than the current balance.\")\n",
    "        balance = balance - amount\n",
    "        return balance\n",
    "    return wd_inner\n",
    "\n",
    "bal0 = 100\n",
    "wd1_amount = 10\n",
    "wd2_amount = 20\n",
    "print(\"Initial balance is %2.2f: \" % bal0)\n",
    "wd = make_withdraw(bal0)\n",
    "bal1 = wd(10)\n",
    "print(\"After 1st widthdraw of %2.2f, balance is %2.2f: \" % (wd1_amount, bal1))\n",
    "bal2 = wd(20)\n",
    "print(\"After 2nd widthdraw of %2.2f, balance is %2.2f: \" % (wd2_amount, bal2))"
   ]
  },
  {
   "cell_type": "markdown",
   "metadata": {},
   "source": [
    "**\n",
    "Now, the inner function can modify `balance` because python can find it's location _nonlocally_.\n",
    "**"
   ]
  },
  {
   "cell_type": "markdown",
   "metadata": {},
   "source": [
    "### Part 4"
   ]
  },
  {
   "cell_type": "code",
   "execution_count": 7,
   "metadata": {},
   "outputs": [
    {
     "data": {
      "text/html": [
       "<iframe width=\"800\" height=\"500\" frameborder=\"0\" src=\"http://pythontutor.com/iframe-embed.html#code=def%20make_withdraw%28balance%29%3A%0A%20%20%20%20def%20wd_inner%28amount%29%3A%0A%20%20%20%20%20%20%20%20nonlocal%20balance%0A%20%20%20%20%20%20%20%20if%20amount%20%3E%20balance%3A%0A%20%20%20%20%20%20%20%20%20%20%20%20raise%20Exeption%28%22Error%3A%20Attempting%20to%20withdraw%20more%20than%20the%20current%20balance.%22%29%0A%20%20%20%20%20%20%20%20balance%20%3D%20balance%20-%20amount%0A%20%20%20%20%20%20%20%20return%20balance%0A%20%20%20%20return%20wd_inner%0A%0Abal0%20%3D%20100%0Awd1_amount%20%3D%2010%0Awd2_amount%20%3D%2020%0Aprint%28%22Initial%20balance%20is%20%252.2f%3A%20%22%20%25%20bal0%29%0Awd%20%3D%20make_withdraw%28bal0%29%0Abal1%20%3D%20wd%2810%29%0Aprint%28%22After%201st%20widthdraw%20of%20%252.2f,%20balance%20is%20%252.2f%3A%20%22%20%25%20%28wd1_amount,%20bal1%29%29%0Abal2%20%3D%20wd%2820%29%0Aprint%28%22After%202nd%20widthdraw%20of%20%252.2f,%20balance%20is%20%252.2f%3A%20%22%20%25%20%28wd2_amount,%20bal2%29%29&codeDivHeight=400&codeDivWidth=350&cumulative=false&curInstr=0&heapPrimitives=false&origin=opt-frontend.js&py=3&rawInputLstJSON=%5B%5D&textReferences=false\"> </iframe>"
      ],
      "text/plain": [
       "<IPython.core.display.HTML object>"
      ]
     },
     "execution_count": 7,
     "metadata": {},
     "output_type": "execute_result"
    }
   ],
   "source": [
    "# Embed HTML visualization\n",
    "from IPython.core.display import HTML\n",
    "html_str = '<iframe width=\"800\" height=\"500\" frameborder=\"0\" src=\"http://pythontutor.com/iframe-embed.html#code=def%20make_withdraw%28balance%29%3A%0A%20%20%20%20def%20wd_inner%28amount%29%3A%0A%20%20%20%20%20%20%20%20nonlocal%20balance%0A%20%20%20%20%20%20%20%20if%20amount%20%3E%20balance%3A%0A%20%20%20%20%20%20%20%20%20%20%20%20raise%20Exeption%28%22Error%3A%20Attempting%20to%20withdraw%20more%20than%20the%20current%20balance.%22%29%0A%20%20%20%20%20%20%20%20balance%20%3D%20balance%20-%20amount%0A%20%20%20%20%20%20%20%20return%20balance%0A%20%20%20%20return%20wd_inner%0A%0Abal0%20%3D%20100%0Awd1_amount%20%3D%2010%0Awd2_amount%20%3D%2020%0Aprint%28%22Initial%20balance%20is%20%252.2f%3A%20%22%20%25%20bal0%29%0Awd%20%3D%20make_withdraw%28bal0%29%0Abal1%20%3D%20wd%2810%29%0Aprint%28%22After%201st%20widthdraw%20of%20%252.2f,%20balance%20is%20%252.2f%3A%20%22%20%25%20%28wd1_amount,%20bal1%29%29%0Abal2%20%3D%20wd%2820%29%0Aprint%28%22After%202nd%20widthdraw%20of%20%252.2f,%20balance%20is%20%252.2f%3A%20%22%20%25%20%28wd2_amount,%20bal2%29%29&codeDivHeight=400&codeDivWidth=350&cumulative=false&curInstr=0&heapPrimitives=false&origin=opt-frontend.js&py=3&rawInputLstJSON=%5B%5D&textReferences=false\"> </iframe>'\n",
    "HTML(html_str)"
   ]
  },
  {
   "cell_type": "markdown",
   "metadata": {},
   "source": [
    "### Some screenshots during python execution:"
   ]
  },
  {
   "cell_type": "markdown",
   "metadata": {},
   "source": [
    "\n",
    "![p2_part4_1](p2_part4_1.PNG)\n",
    "===\n",
    "** Starting from the initial balanace = 100**\n",
    "```python\n",
    "balance = 100\n",
    "```"
   ]
  },
  {
   "cell_type": "markdown",
   "metadata": {
    "collapsed": true
   },
   "source": [
    "![p2_part4_2](p2_part4_2.PNG)\n",
    "----\n",
    "** By accessing nonlocal balance, we deducted 10 from balance. Now, balance = 90.**\n",
    "```python\n",
    "balance = 90\n",
    "```"
   ]
  },
  {
   "cell_type": "markdown",
   "metadata": {},
   "source": [
    "![p2_part4_3](p2_part4_3.PNG)\n",
    "===\n",
    "** Return the new balance 90.**\n",
    "```python\n",
    "balance = 90\n",
    "```"
   ]
  },
  {
   "cell_type": "markdown",
   "metadata": {},
   "source": [
    "![p2_part4_4](p2_part4_4.PNG)\n",
    "===\n",
    "** Do the same thing for a second withdraw, deducting 20 from current balance which is 90. Now, balance = 70.**\n",
    "```python\n",
    "balance = 70\n",
    "```"
   ]
  },
  {
   "cell_type": "markdown",
   "metadata": {},
   "source": [
    "## Problem 3"
   ]
  },
  {
   "cell_type": "code",
   "execution_count": 8,
   "metadata": {},
   "outputs": [
    {
     "name": "stdout",
     "output_type": "stream",
     "text": [
      "my_ave : Time Elapsed 7.510185241699219e-05\n",
      "np_ave : Time Elapsed 0.00015592575073242188\n"
     ]
    }
   ],
   "source": [
    "# Use timer function from Lecture 6\n",
    "import time\n",
    "def timer(f, label):\n",
    "    def inner(*args):\n",
    "        t0 = time.time()\n",
    "        output = f(*args)\n",
    "        elapsed = time.time() - t0\n",
    "        print(label, \": Time Elapsed\", elapsed)\n",
    "        return output\n",
    "    return inner\n",
    "\n",
    "def my_ave(areas):\n",
    "    total_area = 0\n",
    "    for a in areas:\n",
    "        total_area += a\n",
    "    return total_area/len(areas)\n",
    "\n",
    "def np_ave(areas):\n",
    "    return np.mean(areas)\n",
    "    \n",
    "# Read radii in circles.txt to a list of floats    \n",
    "radii = readlines_to_float_list('circles.txt')\n",
    "N = len(radii)\n",
    "areas_li = [0.0] * N\n",
    "areas_np = np.zeros(N)\n",
    "\n",
    "# Calculate the list of areas for my_ave and np_ave\n",
    "for i in range(N):\n",
    "    s = compute_circle_area(radii[i])\n",
    "    areas_li[i] = s\n",
    "    areas_np[i] = s\n",
    "    \n",
    "# Get the timers\n",
    "my_ave_inner = timer(my_ave, 'my_ave')\n",
    "np_ave_inner = timer(np_ave, 'np_ave')\n",
    "\n",
    "# Evaluate the time for the two avg mean funtion calls\n",
    "avg1 = my_ave_inner(areas_li)\n",
    "avg2 = np_ave_inner(areas_np)\n"
   ]
  },
  {
   "cell_type": "markdown",
   "metadata": {},
   "source": [
    "## Problem 4"
   ]
  },
  {
   "cell_type": "code",
   "execution_count": 9,
   "metadata": {},
   "outputs": [
    {
     "name": "stdout",
     "output_type": "stream",
     "text": [
      "5\n",
      "2\n",
      "2\n"
     ]
    }
   ],
   "source": [
    "# Decorator to check if a quantity returned from a function is positive\n",
    "def positivity_check(f, label):\n",
    "    def inner(*args):\n",
    "        output = f(*args)\n",
    "        if output <= 0:\n",
    "            raise Exception('Exception: the quantity returned from function %s is not positive.' % label)\n",
    "        return output\n",
    "    return inner\n",
    "\n",
    "def f1(a, b, c): # return b^2-4ac\n",
    "    return b*b-4*a*c\n",
    "\n",
    "def f2(a): # abs(a)\n",
    "    if a >= 0:\n",
    "        return a\n",
    "    else:\n",
    "        return -a\n",
    "\n",
    "def f3(a, b): # max(a, b)\n",
    "    if a > b:\n",
    "        return a\n",
    "    else:\n",
    "        return b\n",
    "    \n",
    "# Get positivity check decorators for f1, f2, f3\n",
    "f1_check = positivity_check(f1, 'f1')\n",
    "f2_check = positivity_check(f2, 'f2')\n",
    "f3_check = positivity_check(f3, 'f3')\n",
    "\n",
    "# Cases where positivity is not violated\n",
    "o1_normal = f1_check(1, 3, 1)\n",
    "print(o1_normal)\n",
    "\n",
    "o2_normal = f2_check(2)\n",
    "print(o2_normal)\n",
    "\n",
    "o3_normal = f3_check(2, -2)\n",
    "print(o3_normal)\n"
   ]
  },
  {
   "cell_type": "code",
   "execution_count": 10,
   "metadata": {},
   "outputs": [
    {
     "ename": "Exception",
     "evalue": "Exception: the quantity returned from function f1 is not positive.",
     "output_type": "error",
     "traceback": [
      "\u001b[0;31m---------------------------------------------------------------------------\u001b[0m",
      "\u001b[0;31mException\u001b[0m                                 Traceback (most recent call last)",
      "\u001b[0;32m<ipython-input-10-1990ad936f24>\u001b[0m in \u001b[0;36m<module>\u001b[0;34m()\u001b[0m\n\u001b[1;32m      1\u001b[0m \u001b[0;31m# Case for f1 where positivity is violated\u001b[0m\u001b[0;34m\u001b[0m\u001b[0;34m\u001b[0m\u001b[0m\n\u001b[0;32m----> 2\u001b[0;31m \u001b[0mo1_err\u001b[0m \u001b[0;34m=\u001b[0m \u001b[0mf1_check\u001b[0m\u001b[0;34m(\u001b[0m\u001b[0;36m1\u001b[0m\u001b[0;34m,\u001b[0m \u001b[0;36m2\u001b[0m\u001b[0;34m,\u001b[0m \u001b[0;36m2\u001b[0m\u001b[0;34m)\u001b[0m\u001b[0;34m\u001b[0m\u001b[0m\n\u001b[0m",
      "\u001b[0;32m<ipython-input-9-75c50b0d67e9>\u001b[0m in \u001b[0;36minner\u001b[0;34m(*args)\u001b[0m\n\u001b[1;32m      4\u001b[0m         \u001b[0moutput\u001b[0m \u001b[0;34m=\u001b[0m \u001b[0mf\u001b[0m\u001b[0;34m(\u001b[0m\u001b[0;34m*\u001b[0m\u001b[0margs\u001b[0m\u001b[0;34m)\u001b[0m\u001b[0;34m\u001b[0m\u001b[0m\n\u001b[1;32m      5\u001b[0m         \u001b[0;32mif\u001b[0m \u001b[0moutput\u001b[0m \u001b[0;34m<=\u001b[0m \u001b[0;36m0\u001b[0m\u001b[0;34m:\u001b[0m\u001b[0;34m\u001b[0m\u001b[0m\n\u001b[0;32m----> 6\u001b[0;31m             \u001b[0;32mraise\u001b[0m \u001b[0mException\u001b[0m\u001b[0;34m(\u001b[0m\u001b[0;34m'Exception: the quantity returned from function %s is not positive.'\u001b[0m \u001b[0;34m%\u001b[0m \u001b[0mlabel\u001b[0m\u001b[0;34m)\u001b[0m\u001b[0;34m\u001b[0m\u001b[0m\n\u001b[0m\u001b[1;32m      7\u001b[0m         \u001b[0;32mreturn\u001b[0m \u001b[0moutput\u001b[0m\u001b[0;34m\u001b[0m\u001b[0m\n\u001b[1;32m      8\u001b[0m     \u001b[0;32mreturn\u001b[0m \u001b[0minner\u001b[0m\u001b[0;34m\u001b[0m\u001b[0m\n",
      "\u001b[0;31mException\u001b[0m: Exception: the quantity returned from function f1 is not positive."
     ]
    }
   ],
   "source": [
    "# Case for f1 where positivity is violated\n",
    "o1_err = f1_check(1, 2, 2)"
   ]
  },
  {
   "cell_type": "code",
   "execution_count": 11,
   "metadata": {},
   "outputs": [
    {
     "ename": "Exception",
     "evalue": "Exception: the quantity returned from function f2 is not positive.",
     "output_type": "error",
     "traceback": [
      "\u001b[0;31m---------------------------------------------------------------------------\u001b[0m",
      "\u001b[0;31mException\u001b[0m                                 Traceback (most recent call last)",
      "\u001b[0;32m<ipython-input-11-15231557a9d3>\u001b[0m in \u001b[0;36m<module>\u001b[0;34m()\u001b[0m\n\u001b[1;32m      1\u001b[0m \u001b[0;31m# Case for f2 where positivity is violated\u001b[0m\u001b[0;34m\u001b[0m\u001b[0;34m\u001b[0m\u001b[0m\n\u001b[0;32m----> 2\u001b[0;31m \u001b[0mo2_err\u001b[0m \u001b[0;34m=\u001b[0m \u001b[0mf2_check\u001b[0m\u001b[0;34m(\u001b[0m\u001b[0;36m0\u001b[0m\u001b[0;34m)\u001b[0m\u001b[0;34m\u001b[0m\u001b[0m\n\u001b[0m",
      "\u001b[0;32m<ipython-input-9-75c50b0d67e9>\u001b[0m in \u001b[0;36minner\u001b[0;34m(*args)\u001b[0m\n\u001b[1;32m      4\u001b[0m         \u001b[0moutput\u001b[0m \u001b[0;34m=\u001b[0m \u001b[0mf\u001b[0m\u001b[0;34m(\u001b[0m\u001b[0;34m*\u001b[0m\u001b[0margs\u001b[0m\u001b[0;34m)\u001b[0m\u001b[0;34m\u001b[0m\u001b[0m\n\u001b[1;32m      5\u001b[0m         \u001b[0;32mif\u001b[0m \u001b[0moutput\u001b[0m \u001b[0;34m<=\u001b[0m \u001b[0;36m0\u001b[0m\u001b[0;34m:\u001b[0m\u001b[0;34m\u001b[0m\u001b[0m\n\u001b[0;32m----> 6\u001b[0;31m             \u001b[0;32mraise\u001b[0m \u001b[0mException\u001b[0m\u001b[0;34m(\u001b[0m\u001b[0;34m'Exception: the quantity returned from function %s is not positive.'\u001b[0m \u001b[0;34m%\u001b[0m \u001b[0mlabel\u001b[0m\u001b[0;34m)\u001b[0m\u001b[0;34m\u001b[0m\u001b[0m\n\u001b[0m\u001b[1;32m      7\u001b[0m         \u001b[0;32mreturn\u001b[0m \u001b[0moutput\u001b[0m\u001b[0;34m\u001b[0m\u001b[0m\n\u001b[1;32m      8\u001b[0m     \u001b[0;32mreturn\u001b[0m \u001b[0minner\u001b[0m\u001b[0;34m\u001b[0m\u001b[0m\n",
      "\u001b[0;31mException\u001b[0m: Exception: the quantity returned from function f2 is not positive."
     ]
    }
   ],
   "source": [
    "# Case for f2 where positivity is violated\n",
    "o2_err = f2_check(0)"
   ]
  },
  {
   "cell_type": "code",
   "execution_count": 12,
   "metadata": {},
   "outputs": [
    {
     "ename": "Exception",
     "evalue": "Exception: the quantity returned from function f3 is not positive.",
     "output_type": "error",
     "traceback": [
      "\u001b[0;31m---------------------------------------------------------------------------\u001b[0m",
      "\u001b[0;31mException\u001b[0m                                 Traceback (most recent call last)",
      "\u001b[0;32m<ipython-input-12-0f98b5577b27>\u001b[0m in \u001b[0;36m<module>\u001b[0;34m()\u001b[0m\n\u001b[1;32m      1\u001b[0m \u001b[0;31m# Case for f3 where positivity is violated\u001b[0m\u001b[0;34m\u001b[0m\u001b[0;34m\u001b[0m\u001b[0m\n\u001b[0;32m----> 2\u001b[0;31m \u001b[0mo3_err\u001b[0m \u001b[0;34m=\u001b[0m \u001b[0mf3_check\u001b[0m\u001b[0;34m(\u001b[0m\u001b[0;34m-\u001b[0m\u001b[0;36m1\u001b[0m\u001b[0;34m,\u001b[0m \u001b[0;34m-\u001b[0m\u001b[0;36m2\u001b[0m\u001b[0;34m)\u001b[0m\u001b[0;34m\u001b[0m\u001b[0m\n\u001b[0m",
      "\u001b[0;32m<ipython-input-9-75c50b0d67e9>\u001b[0m in \u001b[0;36minner\u001b[0;34m(*args)\u001b[0m\n\u001b[1;32m      4\u001b[0m         \u001b[0moutput\u001b[0m \u001b[0;34m=\u001b[0m \u001b[0mf\u001b[0m\u001b[0;34m(\u001b[0m\u001b[0;34m*\u001b[0m\u001b[0margs\u001b[0m\u001b[0;34m)\u001b[0m\u001b[0;34m\u001b[0m\u001b[0m\n\u001b[1;32m      5\u001b[0m         \u001b[0;32mif\u001b[0m \u001b[0moutput\u001b[0m \u001b[0;34m<=\u001b[0m \u001b[0;36m0\u001b[0m\u001b[0;34m:\u001b[0m\u001b[0;34m\u001b[0m\u001b[0m\n\u001b[0;32m----> 6\u001b[0;31m             \u001b[0;32mraise\u001b[0m \u001b[0mException\u001b[0m\u001b[0;34m(\u001b[0m\u001b[0;34m'Exception: the quantity returned from function %s is not positive.'\u001b[0m \u001b[0;34m%\u001b[0m \u001b[0mlabel\u001b[0m\u001b[0;34m)\u001b[0m\u001b[0;34m\u001b[0m\u001b[0m\n\u001b[0m\u001b[1;32m      7\u001b[0m         \u001b[0;32mreturn\u001b[0m \u001b[0moutput\u001b[0m\u001b[0;34m\u001b[0m\u001b[0m\n\u001b[1;32m      8\u001b[0m     \u001b[0;32mreturn\u001b[0m \u001b[0minner\u001b[0m\u001b[0;34m\u001b[0m\u001b[0m\n",
      "\u001b[0;31mException\u001b[0m: Exception: the quantity returned from function f3 is not positive."
     ]
    }
   ],
   "source": [
    "# Case for f3 where positivity is violated\n",
    "o3_err = f3_check(-1, -2)"
   ]
  },
  {
   "cell_type": "code",
   "execution_count": null,
   "metadata": {
    "collapsed": true
   },
   "outputs": [],
   "source": []
  }
 ],
 "metadata": {
  "kernelspec": {
   "display_name": "Python 3",
   "language": "python",
   "name": "python3"
  },
  "language_info": {
   "codemirror_mode": {
    "name": "ipython",
    "version": 3
   },
   "file_extension": ".py",
   "mimetype": "text/x-python",
   "name": "python",
   "nbconvert_exporter": "python",
   "pygments_lexer": "ipython3",
   "version": "3.6.1"
  }
 },
 "nbformat": 4,
 "nbformat_minor": 2
}
