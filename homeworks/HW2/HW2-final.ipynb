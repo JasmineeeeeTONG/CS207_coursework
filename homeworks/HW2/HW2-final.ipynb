{
 "cells": [
  {
   "cell_type": "markdown",
   "metadata": {},
   "source": [
    "# CS207 HW2 -Jiawen Tong\n",
    "\n",
    "### Enjoy Saturday!!!\n",
    "\n",
    "1. What I am doing today:\n",
    "* study\n",
    "* study\n",
    "* study\n",
    "* sleep\n",
    "\n",
    "[Markdown Cheetsheet link here](https://github.com/adam-p/markdown-here/wiki/Markdown-Cheatsheet)\n",
    "\n",
    "Table: \n",
    "\n",
    " Table|\n",
    " ---|---\n",
    " hello|world!"
   ]
  },
  {
   "cell_type": "code",
   "execution_count": null,
   "metadata": {
    "collapsed": true
   },
   "outputs": [],
   "source": []
  }
 ],
 "metadata": {
  "kernelspec": {
   "display_name": "Python 3",
   "language": "python",
   "name": "python3"
  },
  "language_info": {
   "codemirror_mode": {
    "name": "ipython",
    "version": 3
   },
   "file_extension": ".py",
   "mimetype": "text/x-python",
   "name": "python",
   "nbconvert_exporter": "python",
   "pygments_lexer": "ipython3",
   "version": "3.6.1"
  }
 },
 "nbformat": 4,
 "nbformat_minor": 2
}
