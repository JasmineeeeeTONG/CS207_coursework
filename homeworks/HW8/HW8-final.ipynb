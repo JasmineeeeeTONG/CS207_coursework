{
 "cells": [
  {
   "cell_type": "markdown",
   "metadata": {},
   "source": [
    "# Homework 8\n",
    "## Due Date:  Tuesday, October 31st at 11:59 PM"
   ]
  },
  {
   "cell_type": "markdown",
   "metadata": {},
   "source": [
    "# Problem 1:  BST Traversal\n",
    "This problem builds on Problem 1 of Homework 7 in which you wrote a binary search tree.\n",
    "\n",
    "### Part 1\n",
    "\n",
    "As discussed in lecture, three different types to do a depth-first traversal are: preorder, inorder, and postorder. Here is a reference: [Tree Traversal](https://en.wikipedia.org/wiki/Tree_traversal#Depth-first_search).\n",
    "\n",
    "Write an iterator class called `DFSTraversal` with the following specifications:\n",
    "\n",
    "* `__init__(self, tree, traversalType)`: Constructor takes a `BinaryTree` object and one of the enums from `DFSTraversalTypes`\n",
    "\n",
    "```python\n",
    "from enum import Enum\n",
    "\n",
    "class DFSTraversalTypes(Enum):\n",
    "    PREORDER = 1\n",
    "    INORDER = 2\n",
    "    POSTORDER = 3\n",
    "```\n",
    "\n",
    "* `changeTraversalType(self, traversalType)`: Change the traversal type\n",
    "* `__iter__(self)`: This is the initialization of an iterator\n",
    "* `__next__(self)`: This is called in the iterator for getting the next value\n",
    "\n",
    "Here's how you might use your `DFSTraversal` class:\n",
    "\n",
    "```python\n",
    "input_array = [3, 9, 2, 11]\n",
    "bt = BinaryTree()\n",
    "for val in input_array:\n",
    "    bt.insert(val)\n",
    "traversal = DFSTraversal(bt, DFSTraversalTypes.INORDER)\n",
    "for val in traversal:\n",
    "    print(val)\n",
    "2\n",
    "3\n",
    "9\n",
    "11\n",
    "```\n",
    "\n",
    "### Part 2\n",
    "Put your `BinaryTree` class (from homework 7) and your `DFSTraversal` class (from Part 1 of this homework) in a file titled `TreeTraversal.py`."
   ]
  },
  {
   "cell_type": "code",
   "execution_count": null,
   "metadata": {
    "collapsed": true
   },
   "outputs": [],
   "source": [
    "import warnings\n",
    "\n",
    "# The BinaryNode class for nodes in the BinaryTree\n",
    "class BinaryNode:\n",
    "    \n",
    "    def __init__(self, val):\n",
    "        self.val = val\n",
    "        self.p = None\n",
    "        self.left = None\n",
    "        self.right = None\n",
    "    \n",
    "    def __repr__(self):\n",
    "        return \"BinaryNode({})\".format(self.val)\n",
    "    \n",
    "    def count_child(self): # count the number of children of this node\n",
    "        if self.left == None and self.right == None:\n",
    "            return 0\n",
    "        elif self.left != None and self.right != None:\n",
    "            return 2\n",
    "        else:\n",
    "            return 1\n",
    "\n",
    "# The BinaryTree class\n",
    "class BinaryTree:\n",
    "    \n",
    "    def __init__(self):\n",
    "        self.root = None\n",
    "    \n",
    "    def __repr__(self):\n",
    "        return \"BinaryTree()\"\n",
    "    \n",
    "    # The height of the BinaryTree\n",
    "    def __len__(self):\n",
    "        return self.maxDepth(self.root)\n",
    "    \n",
    "    # The height of the BinaryTree\n",
    "    def maxDepth(self, root): \n",
    "        if root == None:\n",
    "            return 0\n",
    "        else:\n",
    "            return max(self.maxDepth(root.left), self.maxDepth(root.right))+1\n",
    "    \n",
    "    \n",
    "    # Insert\n",
    "    def insert(self, val):\n",
    "        bi_node = BinaryNode(val) # create a new BinaryNode for the value to be inserted\n",
    "        \n",
    "        if self.root == None: # if the tree is empty, we just need to insert it at root\n",
    "            self.root = bi_node\n",
    "            return\n",
    "        \n",
    "        current_node = self.root # walk thru the tree to find the right position to insert\n",
    "        while current_node != None:\n",
    "            current_p = current_node\n",
    "            if val > current_node.val:\n",
    "                current_node = current_node.right\n",
    "            else:\n",
    "                current_node = current_node.left\n",
    "        \n",
    "        if val > current_p.val: \n",
    "            current_p.right = bi_node # is a right child\n",
    "        else:\n",
    "            current_p.left = bi_node # is a left child\n",
    "        bi_node.p = current_p # set parent\n",
    "    \n",
    "    def inOrderWalk(self, node, ordered_nodes):\n",
    "        if node != None:\n",
    "            self.inOrderWalk(node.left, ordered_nodes)\n",
    "            ordered_nodes.append(node.val)\n",
    "            self.inOrderWalk(node.right, ordered_nodes)\n",
    "            return ordered_nodes\n",
    "    \n",
    "    def preOrderWalk(self, node, ordered_nodes):\n",
    "        if node != None:\n",
    "            ordered_nodes.append(node.val)\n",
    "            self.preOrderWalk(node.left, ordered_nodes)\n",
    "            self.preOrderWalk(node.right, ordered_nodes)\n",
    "            return ordered_nodes\n",
    "    \n",
    "    def postOrderWalk(self, node, ordered_nodes):\n",
    "        if node != None:\n",
    "            self.postOrderWalk(node.left, ordered_nodes)\n",
    "            self.postOrderWalk(node.right, ordered_nodes)\n",
    "            ordered_nodes.append(node.val)\n",
    "            return ordered_nodes\n",
    "    \n",
    "    # Delete the nodes with 'None' as value\n",
    "    def clearNoneNodes(self, node):\n",
    "        if node != None:\n",
    "            if node.val == 'None':\n",
    "                if node == node.p.right:\n",
    "                    node.p.right = None\n",
    "                else:\n",
    "                    node.p.left = None\n",
    "            self.clearNoneNodes(node.left)\n",
    "            self.clearNoneNodes(node.right)\n",
    "    \n",
    "    # GetValues: calling getValuesNode(self.root, 0, depth, values)\n",
    "    def getValues(self, depth):\n",
    "        values = []\n",
    "        self.getValuesNode(self.root, 0, depth, values)\n",
    "        self.clearNoneNodes(self.root)\n",
    "        return values\n",
    "    \n",
    "    # GetValues from the subtree rooted at node, store in values\n",
    "    def getValuesNode(self, node, current_depth, depth, values):\n",
    "        if node != None:\n",
    "            if current_depth == depth:\n",
    "                values.append(node.val)\n",
    "            else:\n",
    "                if node.left == None:\n",
    "                    none_node = BinaryNode('None')\n",
    "                    none_node.p = node\n",
    "                    node.left = none_node\n",
    "                if node.right == None:\n",
    "                    none_node = BinaryNode('None')\n",
    "                    none_node.p = node\n",
    "                    node.right = none_node\n",
    "                self.getValuesNode(node.left, current_depth+1, depth, values)\n",
    "                self.getValuesNode(node.right, current_depth+1, depth, values)\n",
    "    \n",
    "    # Return the right-most node from the subtree rooted at node\n",
    "    def tree_max(self, node): \n",
    "        while node.right != None:\n",
    "            node = node.right\n",
    "        return node\n",
    "\n",
    "    # Replace the subtree rooted at u with the subtree rooted at v\n",
    "    def transplant(self, u, v): \n",
    "        if u.p == None:\n",
    "            self.root = v\n",
    "        elif u == u.p.left:\n",
    "            u.p.left = v\n",
    "        else:\n",
    "            u.p.right = v\n",
    "        if v != None:\n",
    "            v.p = u.p\n",
    "    \n",
    "    # Search for the value=key thru the subtree rooted at node\n",
    "    def search(self, node, key):\n",
    "        while node != None and key != node.val:\n",
    "            if key > node.val:\n",
    "                node = node.right\n",
    "            else:\n",
    "                node = node.left\n",
    "        return node\n",
    "    \n",
    "    # Remove\n",
    "    def remove(self, val):\n",
    "        rm_node = self.search(self.root, val)\n",
    "        if rm_node == None: # invalid remove node\n",
    "            warnings.warn('The value to be removed does not has a node associated.')\n",
    "            return\n",
    "        if rm_node.left == None:\n",
    "            self.transplant(rm_node, rm_node.right)\n",
    "        elif rm_node.right == None:\n",
    "            self.transplant(rm_node, rm_node.left)\n",
    "        else:\n",
    "            left_max = self.tree_max(rm_node.left)\n",
    "            if left_max.p != rm_node:\n",
    "                self.transplant(left_max, left_max.left)\n",
    "                left_max.left = rm_node.left\n",
    "                left_max.left.p = left_max\n",
    "            self.transplant(rm_node, left_max)\n",
    "            left_max.right = rm_node.right\n",
    "            left_max.right.p = left_max\n"
   ]
  },
  {
   "cell_type": "code",
   "execution_count": null,
   "metadata": {
    "collapsed": true
   },
   "outputs": [],
   "source": [
    "from enum import Enum\n",
    "\n",
    "class DFSTraversalTypes(Enum):\n",
    "    PREORDER = 1\n",
    "    INORDER = 2\n",
    "    POSTORDER = 3\n",
    "\n",
    "class DFSTraversal:\n",
    "    \n",
    "    # DFSTraversal Constructor\n",
    "    def __init__(self, tree, traversalType):\n",
    "        if traversalType == DFSTraversalTypes.INORDER:\n",
    "            self.ordered_nodes = tree.inOrderWalk(tree.root, list())\n",
    "        elif traversalType == DFSTraversalTypes.PREORDER:\n",
    "            self.ordered_nodes = tree.preOrderWalk(tree.root, list())\n",
    "        elif traversalType == DFSTraversalTypes.POSTORDER:\n",
    "            self.ordered_nodes = tree.postOrderWalk(tree.root, list())\n",
    "        else:\n",
    "            raise TypeError('TraversalType Wrong: must be DFSTraversalTypes.INORDER/PREORDER/POSTORDER')\n",
    "        # set attributes\n",
    "        self.tree = tree \n",
    "        self.type = traversalType\n",
    "        self.index = 0\n",
    "    \n",
    "    # Change Traversal Type\n",
    "    def changeTraversalType(self, traversalType):\n",
    "        if self.type == traversalType: # nothing changed\n",
    "            return\n",
    "        else:\n",
    "            if traversalType == DFSTraversalTypes.INORDER: # change to INORDER\n",
    "                self.ordered_nodes = self.tree.inOrderWalk(self.tree.root, list())\n",
    "            elif traversalType == DFSTraversalTypes.PREORDER: # change to PREORDER\n",
    "                self.ordered_nodes = self.tree.preOrderWalk(self.tree.root, list())\n",
    "            elif traversalType == DFSTraversalTypes.POSTORDER: # change to POSTORDER\n",
    "                self.ordered_nodes = self.tree.postOrderWalk(self.tree.root, list())\n",
    "            else:\n",
    "                raise TypeError('TraversalType Wrong: must be DFSTraversalTypes.INORDER/PREORDER/POSTORDER')\n",
    "            print('Changed traversalType to be {}'.format(traversalType))\n",
    "            self.type = traversalType\n",
    "            self.index = 0\n",
    "    \n",
    "    # Initialize the iterator\n",
    "    def __iter__(self):\n",
    "        return self\n",
    "    \n",
    "    # Called by __iter__ to get the next value\n",
    "    def __next__(self):\n",
    "        try:\n",
    "            node = self.ordered_nodes[self.index] \n",
    "        except IndexError:\n",
    "            raise StopIteration() \n",
    "        self.index += 1\n",
    "        return node \n",
    "            \n",
    "            \n",
    "    "
   ]
  },
  {
   "cell_type": "code",
   "execution_count": 1,
   "metadata": {},
   "outputs": [
    {
     "data": {
      "text/plain": [
       "[0, 3, 14, 17, 10, 20]"
      ]
     },
     "execution_count": 1,
     "metadata": {},
     "output_type": "execute_result"
    }
   ],
   "source": [
    "# Using codes from imported modules\n",
    "from TreeTraversal import *\n",
    "\n",
    "tree1 = BinaryTree()\n",
    "arr1 = [20, 10, 17, 14, 3, 0]\n",
    "for a1 in arr1:\n",
    "    tree1.insert(a1)\n",
    "\n",
    "tree1.postOrderWalk(tree1.root, list())"
   ]
  },
  {
   "cell_type": "code",
   "execution_count": 2,
   "metadata": {},
   "outputs": [
    {
     "name": "stdout",
     "output_type": "stream",
     "text": [
      "Height of tree1:  4\n",
      "Level 0 values:  [20]\n",
      "Level 1 values:  [10, 'None']\n",
      "Level 2 values:  [3, 17, 'None', 'None']\n",
      "Level 3 values:  [0, 'None', 14, 'None', 'None', 'None', 'None', 'None']\n"
     ]
    }
   ],
   "source": [
    "print('Height of tree1: ', len(tree1))\n",
    "for i in range(len(tree1)):\n",
    "    print('Level %d values: ' % i, tree1.getValues(i))"
   ]
  },
  {
   "cell_type": "code",
   "execution_count": 3,
   "metadata": {},
   "outputs": [
    {
     "name": "stdout",
     "output_type": "stream",
     "text": [
      "0\n",
      "3\n",
      "10\n",
      "14\n",
      "17\n",
      "20\n"
     ]
    }
   ],
   "source": [
    "input_array = [20, 10, 17, 14, 3, 0]\n",
    "bt = BinaryTree()\n",
    "for val in input_array:\n",
    "    bt.insert(val)\n",
    "traversal = DFSTraversal(bt, DFSTraversalTypes.INORDER)\n",
    "\n",
    "for val in traversal:\n",
    "    print(val)"
   ]
  },
  {
   "cell_type": "code",
   "execution_count": 4,
   "metadata": {},
   "outputs": [
    {
     "name": "stdout",
     "output_type": "stream",
     "text": [
      "Changed traversalType to be DFSTraversalTypes.PREORDER\n",
      "20\n",
      "10\n",
      "3\n",
      "0\n",
      "17\n",
      "14\n"
     ]
    }
   ],
   "source": [
    "traversal.changeTraversalType(DFSTraversalTypes.PREORDER)\n",
    "for val in traversal:\n",
    "    print(val)"
   ]
  },
  {
   "cell_type": "code",
   "execution_count": 5,
   "metadata": {},
   "outputs": [
    {
     "name": "stdout",
     "output_type": "stream",
     "text": [
      "Changed traversalType to be DFSTraversalTypes.POSTORDER\n",
      "0\n",
      "3\n",
      "14\n",
      "17\n",
      "10\n",
      "20\n"
     ]
    }
   ],
   "source": [
    "traversal.changeTraversalType(DFSTraversalTypes.POSTORDER)\n",
    "for val in traversal:\n",
    "    print(val)"
   ]
  },
  {
   "cell_type": "markdown",
   "metadata": {},
   "source": [
    "---"
   ]
  },
  {
   "cell_type": "markdown",
   "metadata": {},
   "source": [
    "## Problem 2: Markov Chains\n",
    "\n",
    "[Markov Chains](https://en.wikipedia.org/wiki/Markov_chain) are widely used to model and predict discrete events. Underlying Markov chains are Markov processes which make the assumption that the outcome of a future event only depends on the event immediately preceeding it. In this exercise, we will be assuming that weather has Markov properties (e.g. today's weather is dependent only on yesterday's weather). We will use the Markov assumption to create a basic model for predicting weather."
   ]
  },
  {
   "cell_type": "markdown",
   "metadata": {},
   "source": [
    "To begin, let's categorize weather into 7 types: ['sunny', 'cloudy', 'rainy', 'snowy', 'windy', 'hailing'].\n",
    "\n",
    "In the `weather.csv` file accompanying this homework, each row corresponds to one type of weather (in the order given above) and each column is the probability of one type of weather occurring the following day (also in the order given above).\n",
    "\n",
    "The $ij$th element is the probability that the $j$th weather type occurs after the $i$th weather type. So for example, (1,2) is the probability a cloudy day occurs after a sunny day.\n",
    "\n",
    "Take a look at the data. Make sure you see how if the previous day was sunny, the following day will have a 0.4 probability of being sunny as well. If the previous day was raining (index $i = 3$), then the following day (index $j$) has a 0.05 probability of being windy ($j = 5$)."
   ]
  },
  {
   "cell_type": "markdown",
   "metadata": {},
   "source": [
    "### Part 1:  Parse the `.csv` file into a `Numpy` array"
   ]
  },
  {
   "cell_type": "code",
   "execution_count": 6,
   "metadata": {},
   "outputs": [
    {
     "data": {
      "text/plain": [
       "array([[ 0.4 ,  0.3 ,  0.1 ,  0.05,  0.1 ,  0.05],\n",
       "       [ 0.3 ,  0.4 ,  0.1 ,  0.1 ,  0.08,  0.02],\n",
       "       [ 0.2 ,  0.3 ,  0.35,  0.05,  0.05,  0.05],\n",
       "       [ 0.1 ,  0.2 ,  0.25,  0.3 ,  0.1 ,  0.05],\n",
       "       [ 0.15,  0.2 ,  0.1 ,  0.15,  0.3 ,  0.1 ],\n",
       "       [ 0.1 ,  0.2 ,  0.35,  0.1 ,  0.05,  0.2 ]])"
      ]
     },
     "execution_count": 6,
     "metadata": {},
     "output_type": "execute_result"
    }
   ],
   "source": [
    "import numpy as np\n",
    "\n",
    "#Load CSV file -- hint: you can use np.genfromtxt()\n",
    "weather_arr = np.genfromtxt('weather.csv', delimiter=',')\n",
    "weather_arr"
   ]
  },
  {
   "cell_type": "markdown",
   "metadata": {},
   "source": [
    "### Part 2:  Create a class called `Markov` that has the following methods:\n",
    "\n",
    "* `load_data(array)`: loads the Numpy 2D array and stores it as a class variable.\n",
    "* `get_prob(previous_day, following_day)`: returns the probability of `following_day` weather given `previous_day` weather. \n",
    "\n",
    "**Note:** `previous_day` and `following_day` should be passed in string form (e.g. \"sunny\"), as opposed to an index (e.g. 0). \n",
    "\n",
    "\n"
   ]
  },
  {
   "cell_type": "code",
   "execution_count": 7,
   "metadata": {
    "collapsed": true
   },
   "outputs": [],
   "source": [
    "class Markov:\n",
    "    \n",
    "    def __init__(self, state0='sunny'): # Initial state default to sunny\n",
    "        self.data = None\n",
    "        self.weather_types = ['sunny', 'cloudy', 'rainy', 'snowy', 'windy', 'hailing']\n",
    "        self.weather_dict = {t : i for i, t in enumerate(self.weather_types)}\n",
    "        self.index = self.weather_dict[state0]\n",
    "        \n",
    "    def load_data(self, array):\n",
    "        self.data = array\n",
    "        \n",
    "    def get_prob(self, previous_day, following_day):\n",
    "        try:\n",
    "            p_i, f_i = self.weather_dict[previous_day], self.weather_dict[following_day]\n",
    "            return float(\"{0:.4f}\".format(self.data[p_i, f_i]))\n",
    "        except KeyError as e:\n",
    "            print('KeyError {}: Key must in set([sunny, cloudy, rainy, snowy, windy, hailing])'.format(e))"
   ]
  },
  {
   "cell_type": "code",
   "execution_count": 8,
   "metadata": {},
   "outputs": [
    {
     "name": "stdout",
     "output_type": "stream",
     "text": [
      "KeyError 's': Key must in set([sunny, cloudy, rainy, snowy, windy, hailing])\n"
     ]
    }
   ],
   "source": [
    "mk2 = Markov()\n",
    "mk2.load_data(weather_arr)\n",
    "mk2.get_prob('sunny', 's')"
   ]
  },
  {
   "cell_type": "code",
   "execution_count": 9,
   "metadata": {},
   "outputs": [
    {
     "data": {
      "text/plain": [
       "0.4"
      ]
     },
     "execution_count": 9,
     "metadata": {},
     "output_type": "execute_result"
    }
   ],
   "source": [
    "mk2.get_prob('sunny', 'sunny')"
   ]
  },
  {
   "cell_type": "code",
   "execution_count": 10,
   "metadata": {},
   "outputs": [
    {
     "data": {
      "text/plain": [
       "0.05"
      ]
     },
     "execution_count": 10,
     "metadata": {},
     "output_type": "execute_result"
    }
   ],
   "source": [
    "mk2.get_prob('rainy', 'windy')"
   ]
  },
  {
   "cell_type": "code",
   "execution_count": 11,
   "metadata": {},
   "outputs": [
    {
     "data": {
      "text/plain": [
       "0.1"
      ]
     },
     "execution_count": 11,
     "metadata": {},
     "output_type": "execute_result"
    }
   ],
   "source": [
    "mk2.get_prob('hailing', 'sunny')"
   ]
  },
  {
   "cell_type": "markdown",
   "metadata": {},
   "source": [
    "---"
   ]
  },
  {
   "cell_type": "markdown",
   "metadata": {},
   "source": [
    "## Problem 3: Iterators"
   ]
  },
  {
   "cell_type": "markdown",
   "metadata": {},
   "source": [
    "Iterators are a convenient way to walk along your Markov chain.\n",
    "\n",
    "#### Part 1: Using your `Markov` class from Problem 3, write `Markov` as an iterator by implementing the `__iter__()` and `__next__()` methods.\n",
    "\n",
    "Remember:  \n",
    "* `__iter__()` should return the iterator object and should be implicitly called when the loop begins\n",
    "* The `__next()__` method should return the next value and is implicitly called at each step in the loop.\n",
    "\n",
    "Each 'next' step should be stochastic (i.e. randomly selected based on the relative probabilities of the following day weather types) and should return the next day's weather as a string (e.g. \"sunny\") rather than an index (e.g. 0)."
   ]
  },
  {
   "cell_type": "code",
   "execution_count": 12,
   "metadata": {
    "collapsed": true
   },
   "outputs": [],
   "source": [
    "# Class of Markov as an iterator\n",
    "class Markov:\n",
    "    \n",
    "    # Constructor of the Markov Iterator\n",
    "    def __init__(self, state0='sunny'): # Initial state default to sunny\n",
    "        self.data = None\n",
    "        self.weather_types = ['sunny', 'cloudy', 'rainy', 'snowy', 'windy', 'hailing']\n",
    "        self.weather_dict = {t : i for i, t in enumerate(self.weather_types)}\n",
    "        self.index = self.weather_dict[state0]\n",
    "        #print(self.weather_types, '\\n')\n",
    "    \n",
    "    # Load weather.csv \n",
    "    def load_data(self, array):\n",
    "        self.data = array\n",
    "    \n",
    "    # Get probability of the following_day weather given the previous_day weather\n",
    "    def get_prob(self, previous_day, following_day):\n",
    "        try:\n",
    "            p_i, f_i = self.weather_dict[previous_day], self.weather_dict[following_day]\n",
    "            return float(\"{0:.4f}\".format(self.data[p_i, f_i]))\n",
    "        except KeyError as e:\n",
    "            print('KeyError {}: Key must in set([sunny, cloudy, rainy, snowy, windy, hailing])'.format(e))\n",
    "    \n",
    "    # Return the Markov iterator itself\n",
    "    def __iter__():\n",
    "        return self\n",
    "    \n",
    "    # Called by __iter__ to get the next value\n",
    "    def __next__(self):\n",
    "        next_probs = self.data[self.index, :]\n",
    "        next_probs_int = (next_probs * 100).astype(np.int8)\n",
    "        next_cum_int = np.zeros(next_probs_int.shape).astype(np.int8)\n",
    "        \n",
    "        # Randomly choosing the nextday's weather using cumulant probabilities as boundaries\n",
    "        for i, next_prob in enumerate(next_probs_int):\n",
    "            if i == 0:\n",
    "                next_cum_int[i] = next_prob\n",
    "            else:\n",
    "                next_cum_int[i] = next_cum_int[i-1] + next_prob\n",
    "        r = np.random.choice(100)\n",
    "        print('------------------ r={}, next_cum_int={}'.format(r, next_cum_int))\n",
    "        if r < next_cum_int[0]:\n",
    "            self.index = 0\n",
    "        else:\n",
    "            idx = 1\n",
    "            while idx < len(next_cum_int):\n",
    "                if r >= next_cum_int[idx-1] and r < next_cum_int[idx]:\n",
    "                    break\n",
    "                idx += 1\n",
    "            self.index = idx\n",
    "        print('------------------ the_next_index = {}, {}'.format(self.index, self.weather_types[self.index]))\n",
    "        return self.weather_types[self.index]\n",
    "    "
   ]
  },
  {
   "cell_type": "code",
   "execution_count": 13,
   "metadata": {},
   "outputs": [
    {
     "name": "stdout",
     "output_type": "stream",
     "text": [
      "------------------ r=98, next_cum_int=[ 40  70  80  85  95 100]\n",
      "------------------ the_next_index = 5, hailing\n",
      "hailing\n",
      "------------------ r=29, next_cum_int=[ 10  30  65  75  80 100]\n",
      "------------------ the_next_index = 1, cloudy\n",
      "cloudy\n",
      "------------------ r=1, next_cum_int=[ 30  70  80  90  98 100]\n",
      "------------------ the_next_index = 0, sunny\n",
      "sunny\n",
      "------------------ r=36, next_cum_int=[ 40  70  80  85  95 100]\n",
      "------------------ the_next_index = 0, sunny\n",
      "sunny\n",
      "------------------ r=41, next_cum_int=[ 40  70  80  85  95 100]\n",
      "------------------ the_next_index = 1, cloudy\n",
      "cloudy\n",
      "------------------ r=34, next_cum_int=[ 30  70  80  90  98 100]\n",
      "------------------ the_next_index = 1, cloudy\n",
      "cloudy\n",
      "------------------ r=29, next_cum_int=[ 30  70  80  90  98 100]\n",
      "------------------ the_next_index = 0, sunny\n",
      "sunny\n",
      "------------------ r=1, next_cum_int=[ 40  70  80  85  95 100]\n",
      "------------------ the_next_index = 0, sunny\n",
      "sunny\n",
      "------------------ r=59, next_cum_int=[ 40  70  80  85  95 100]\n",
      "------------------ the_next_index = 1, cloudy\n",
      "cloudy\n",
      "------------------ r=14, next_cum_int=[ 30  70  80  90  98 100]\n",
      "------------------ the_next_index = 0, sunny\n",
      "sunny\n"
     ]
    }
   ],
   "source": [
    "np.random.seed(12345)\n",
    "mk = Markov('sunny')\n",
    "mk.load_data(weather_arr)\n",
    "for i in range(10):\n",
    "    print(next(mk))"
   ]
  },
  {
   "cell_type": "markdown",
   "metadata": {},
   "source": [
    "## Note of Discussion\n",
    "> After discussion with Michelle (Chia Chi Ho), I tried using \n",
    "\n",
    "> **`np.random.choice(list, size=1, p=specified_probs)[0]` **\n",
    "\n",
    "> to directly implement the random choice by specified probabilities. The codes get shorter and cleaner.\n",
    "\n",
    "> Codes below this part use `__next__(self)` implemented with **`np.random.choice(list, size=1, p=specified_probs)[0]`**"
   ]
  },
  {
   "cell_type": "code",
   "execution_count": 14,
   "metadata": {
    "collapsed": true
   },
   "outputs": [],
   "source": [
    "# Class of Markov as an iterator\n",
    "class Markov:\n",
    "    \n",
    "    # Constructor of the Markov Iterator\n",
    "    def __init__(self, state0='sunny'): # Initial state default to sunny\n",
    "        self.data = None\n",
    "        self.weather_types = ['sunny', 'cloudy', 'rainy', 'snowy', 'windy', 'hailing']\n",
    "        self.weather_dict = {t : i for i, t in enumerate(self.weather_types)}\n",
    "        self.index = self.weather_dict[state0]\n",
    "        #print(self.weather_types, '\\n')\n",
    "    \n",
    "    # Load weather.csv \n",
    "    def load_data(self, array):\n",
    "        self.data = array\n",
    "    \n",
    "    # Get probability of the following_day weather given the previous_day weather\n",
    "    def get_prob(self, previous_day, following_day):\n",
    "        try:\n",
    "            p_i, f_i = self.weather_dict[previous_day], self.weather_dict[following_day]\n",
    "            return float(\"{0:.4f}\".format(self.data[p_i, f_i]))\n",
    "        except KeyError as e:\n",
    "            print('KeyError {}: Key must in set([sunny, cloudy, rainy, snowy, windy, hailing])'.format(e))\n",
    "    \n",
    "    # Return the Markov iterator itself\n",
    "    def __iter__():\n",
    "        return self\n",
    "    \n",
    "    # Called by __iter__ to get the next value, using np.random.choice\n",
    "    def __next__(self):\n",
    "        next_probs = self.data[self.index, :]\n",
    "        next_weather = np.random.choice(self.weather_types, size=1, p=next_probs)[0]\n",
    "        self.index = self.weather_dict[next_weather]\n",
    "        return next_weather\n",
    "    "
   ]
  },
  {
   "cell_type": "code",
   "execution_count": 15,
   "metadata": {},
   "outputs": [
    {
     "name": "stdout",
     "output_type": "stream",
     "text": [
      "windy\n",
      "cloudy\n",
      "sunny\n",
      "sunny\n",
      "cloudy\n",
      "cloudy\n",
      "windy\n",
      "windy\n",
      "windy\n",
      "windy\n"
     ]
    }
   ],
   "source": [
    "# Using __next__ implemented with np.random.choice(self.weather_types, size=1, p=next_probs)[0]\n",
    "np.random.seed(12345)\n",
    "mk = Markov('sunny')\n",
    "mk.load_data(weather_arr)\n",
    "for i in range(10):\n",
    "    print(next(mk))"
   ]
  },
  {
   "cell_type": "markdown",
   "metadata": {},
   "source": [
    "#### Part 2: We want to predict what weather will be like in a week for 5 different cities.\n",
    "\n",
    "Now that we have our `Markov` iterator, we can try to predict what the weather will be like in seven days from now.\n",
    "\n",
    "Given each city's current weather in the dictionary `city_weather` (see below), simulate what the weather will be like in 7 days from now.  Rather than just producing one prediction per city, simulate 100 such predictions per city and store the most commonly occuring prediction.\n",
    "\n",
    "In your submission, print a dictionary `city_weather_predictions` that has each city as a key and the most commonly predicted weather as the corresponding value.\n",
    "\n",
    "**Note**: Don't worry if your values don't seem to make intuitive sense.  We made up the weather probabilities."
   ]
  },
  {
   "cell_type": "code",
   "execution_count": 16,
   "metadata": {},
   "outputs": [
    {
     "name": "stdout",
     "output_type": "stream",
     "text": [
      "The weather in 7 days from now in New York: cloudy\n",
      "\n",
      "The weather in 7 days from now in Chicago: cloudy\n",
      "\n",
      "The weather in 7 days from now in Seattle: sunny\n",
      "\n",
      "The weather in 7 days from now in Boston: sunny\n",
      "\n",
      "The weather in 7 days from now in Miami: sunny\n",
      "\n",
      "The weather in 7 days from now in Los Angeles: cloudy\n",
      "\n",
      "The weather in 7 days from now in San Fransisco: sunny\n",
      "\n"
     ]
    }
   ],
   "source": [
    "city_weather = {\n",
    "    'New York': 'rainy',\n",
    "    'Chicago': 'snowy',\n",
    "    'Seattle': 'rainy',\n",
    "    'Boston': 'hailing',\n",
    "    'Miami': 'windy',\n",
    "    'Los Angeles': 'cloudy',\n",
    "    'San Fransisco': 'windy'\n",
    "}\n",
    "\n",
    "np.random.seed(12345)\n",
    "n_days = 7\n",
    "n_sim = 100\n",
    "city_weather_predictions = {}\n",
    "city_weather_predictions_sims = {}\n",
    "\n",
    "for city, w0 in city_weather.items():\n",
    "    sim_preds_count = np.zeros(6).astype(np.int8)\n",
    "    for i in range(n_sim): # In each simulation,\n",
    "        mk = Markov(w0) # Initialize the Markov Chain\n",
    "        mk.load_data(weather_arr) # Load the transfer probs\n",
    "        for ii in range(n_days): # Predict for 7 consecutive days\n",
    "            w_pred = next(mk)\n",
    "        sim_preds_count[mk.index] += 1\n",
    "        \n",
    "#     print('~~~~~~~ sim_preds: {}, np.argmax(sim_preds_count): {}'.format(sim_preds_count, np.argmax(sim_preds_count)))\n",
    "    \n",
    "    predicted = mk.weather_types[np.argmax(sim_preds_count)]\n",
    "    city_weather_predictions[city] = predicted\n",
    "    city_weather_predictions_sims[city] = sim_preds_count\n",
    "#     print('np.sum(sim_preds_count) = {}'.format(np.sum(sim_preds_count)))\n",
    "    print('The weather in 7 days from now in {}: {}\\n'.format(city, predicted))\n",
    "    \n"
   ]
  },
  {
   "cell_type": "code",
   "execution_count": 17,
   "metadata": {},
   "outputs": [
    {
     "name": "stdout",
     "output_type": "stream",
     "text": [
      "New York: cloudy  [25 32 22 13  7  1]\n",
      "Chicago: cloudy  [29 32 18  4 12  5]\n",
      "Seattle: sunny  [30 21 22 12 10  5]\n",
      "Boston: sunny  [30 28 11 10 15  6]\n",
      "Miami: sunny  [33 30 14 10  9  4]\n",
      "Los Angeles: cloudy  [26 31 14 10  8 11]\n",
      "San Fransisco: sunny  [29 28 16 10  6 11]\n"
     ]
    }
   ],
   "source": [
    "for (city, w_pred), (c, counts) in zip(city_weather_predictions.items(), city_weather_predictions_sims.items()):\n",
    "    print('{}: {}  {}'.format(city, w_pred, counts))"
   ]
  },
  {
   "cell_type": "code",
   "execution_count": 18,
   "metadata": {},
   "outputs": [
    {
     "name": "stdout",
     "output_type": "stream",
     "text": [
      "{'New York': 'cloudy', 'Chicago': 'cloudy', 'Seattle': 'sunny', 'Boston': 'sunny', 'Miami': 'sunny', 'Los Angeles': 'cloudy', 'San Fransisco': 'sunny'}\n"
     ]
    }
   ],
   "source": [
    "# Print the dictionary  city_weather_predictions\n",
    "print(city_weather_predictions)"
   ]
  },
  {
   "cell_type": "code",
   "execution_count": null,
   "metadata": {
    "collapsed": true
   },
   "outputs": [],
   "source": []
  }
 ],
 "metadata": {
  "kernelspec": {
   "display_name": "Python 3",
   "language": "python",
   "name": "python3"
  },
  "language_info": {
   "codemirror_mode": {
    "name": "ipython",
    "version": 3
   },
   "file_extension": ".py",
   "mimetype": "text/x-python",
   "name": "python",
   "nbconvert_exporter": "python",
   "pygments_lexer": "ipython3",
   "version": "3.6.1"
  }
 },
 "nbformat": 4,
 "nbformat_minor": 2
}
