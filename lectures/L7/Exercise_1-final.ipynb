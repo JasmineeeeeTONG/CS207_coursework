{
 "cells": [
  {
   "cell_type": "markdown",
   "metadata": {},
   "source": [
    "# Exercise 1:  Documentation and Testing\n",
    "The following little program needs some documentation and some tests.  Since you didn't write it, I'll tell you what it's supposed to do.  You'll need to document it.  Feel free to test for additional exceptions if you have time but start with it as it is.\n",
    "\n",
    "The point of the program is to compute the $L_{2}$ norm of a vector $v$.  A second argument, if provided, will be interpreted as a vector of weights.  The second argument must have the same length as the input vector.\n",
    "\n",
    "**NOTE:** The input type of the vectors for this program should be a list of numbers.\n",
    "\n",
    "As a reminder, the weighted $L_2$ norm of a vector $v$ is given by \n",
    "\\begin{align*}\n",
    "  \\|v\\|_{W} = \\sqrt{\\sum_{i=1}^{N}{\\left(w_{i}v_{i}\\right)^2}}\n",
    "\\end{align*}\n",
    "where $N$ is the length of the vector $v$, $v_{i}$ is the i-th component of the vector $v$ and $w_{i}$ is the i-th component of the weight vector.\n",
    "\n",
    "You must write the documentation and a decent test suite.  Try to include some doctests as well!\n",
    "\n",
    "Next, use the `pytest` module to run the doctests and unit tests and to assess the code coverage.\n",
    "\n",
    "If you don't already have `pytest`, you can install it using `pip install pytest`.  If you have trouble installing, here's the website: [`pytest` installation](https://docs.pytest.org/en/latest/getting-started.html)."
   ]
  },
  {
   "cell_type": "code",
   "execution_count": 1,
   "metadata": {
    "collapsed": true
   },
   "outputs": [],
   "source": [
    "import numpy as np\n",
    "\n",
    "def L2(v, *args):\n",
    "    \"\"\"Returns the L2 norm (weighted if weights specified) of a vector v.\n",
    "    \n",
    "    INPUTS\n",
    "    =======\n",
    "    v: list\n",
    "       Components of the vector v = [v1, v2, ..., vn]\n",
    "    *args: list, optional\n",
    "       Weights for each component of v\n",
    "    \n",
    "    RETURNS\n",
    "    ========\n",
    "    the L2 norm: float\n",
    "       Weighted L2 norm of the vector using the weight values specified by *args\n",
    "       A value exception is raised when the vector and the weights have different length\n",
    "\n",
    "    NOTES\n",
    "    =====\n",
    "    PRE: \n",
    "         - v is a list of numeric type values\n",
    "         - w is a list of numeric type values\n",
    "    POST:\n",
    "         - v and *args are not changed by this function\n",
    "         - raises a ValueError exception if the vector and the weights have different length\n",
    "         - returns weighted L2 norm of the vector\n",
    "\n",
    "    EXAMPLES\n",
    "    =========\n",
    "    >>> L2([4, 3], [1, 1])\n",
    "    5\n",
    "    \"\"\"\n",
    "    s = 0.0 # Initialize sum\n",
    "    if len(args) == 0: # No weight vector\n",
    "        for vi in v:\n",
    "            s += vi * vi\n",
    "    else: # Weight vector present\n",
    "        w = args[0] # Get the weight vector\n",
    "        if (len(w) != len(v)): # Check lengths of lists\n",
    "            raise ValueError(\"Length of list of weights must match length of target list.\")\n",
    "        for i, vi in enumerate(v):\n",
    "            s += w[i] * w[i] * vi * vi\n",
    "    return np.sqrt(s)"
   ]
  },
  {
   "cell_type": "code",
   "execution_count": 2,
   "metadata": {},
   "outputs": [
    {
     "data": {
      "text/plain": [
       "['Returns the L2 norm (weighted if weights specified) of a vector v.',\n",
       " '    ',\n",
       " '    INPUTS',\n",
       " '    =======',\n",
       " '    v: list',\n",
       " '       Components of the vector v = [v1, v2, ..., vn]',\n",
       " '    *args: list, optional',\n",
       " '       Weights for each component of v',\n",
       " '    ',\n",
       " '    RETURNS',\n",
       " '    ========',\n",
       " '    the L2 norm: float',\n",
       " '       Weighted L2 norm of the vector using the weight values specified by *args',\n",
       " '       A value exception is raised when the vector and the weights have different length',\n",
       " '',\n",
       " '    NOTES',\n",
       " '    =====',\n",
       " '    PRE: ',\n",
       " '         - v is a list of numeric type values',\n",
       " '         - w is a list of numeric type values',\n",
       " '    POST:',\n",
       " '         - v and *args are not changed by this function',\n",
       " '         - raises a ValueError exception if the vector and the weights have different length',\n",
       " '         - returns weighted L2 norm of the vector',\n",
       " '',\n",
       " '    EXAMPLES',\n",
       " '    =========',\n",
       " '    >>> L2([4, 3], [1, 1])',\n",
       " '    5',\n",
       " '    ']"
      ]
     },
     "execution_count": 2,
     "metadata": {},
     "output_type": "execute_result"
    }
   ],
   "source": [
    "# doctest using '__doc__'\n",
    "L2.__doc__.splitlines()"
   ]
  },
  {
   "cell_type": "code",
   "execution_count": 3,
   "metadata": {},
   "outputs": [
    {
     "name": "stdout",
     "output_type": "stream",
     "text": [
      "Python Library Documentation: function L2 in module __main__\n",
      "\n",
      "L2(v, *args)\n",
      "    Returns the L2 norm (weighted if weights specified) of a vector v.\n",
      "    \n",
      "    INPUTS\n",
      "    =======\n",
      "    v: list\n",
      "       Components of the vector v = [v1, v2, ..., vn]\n",
      "    *args: list, optional\n",
      "       Weights for each component of v\n",
      "    \n",
      "    RETURNS\n",
      "    ========\n",
      "    the L2 norm: float\n",
      "       Weighted L2 norm of the vector using the weight values specified by *args\n",
      "       A value exception is raised when the vector and the weights have different length\n",
      "    \n",
      "    NOTES\n",
      "    =====\n",
      "    PRE: \n",
      "         - v is a list of numeric type values\n",
      "         - w is a list of numeric type values\n",
      "    POST:\n",
      "         - v and *args are not changed by this function\n",
      "         - raises a ValueError exception if the vector and the weights have different length\n",
      "         - returns weighted L2 norm of the vector\n",
      "    \n",
      "    EXAMPLES\n",
      "    =========\n",
      "    >>> L2([4, 3], [1, 1])\n",
      "    5\n"
     ]
    }
   ],
   "source": [
    "# doctest using pydoc\n",
    "import pydoc\n",
    "pydoc.doc(L2)"
   ]
  },
  {
   "cell_type": "code",
   "execution_count": 4,
   "metadata": {},
   "outputs": [
    {
     "name": "stdout",
     "output_type": "stream",
     "text": [
      "Writing L2.py\n"
     ]
    }
   ],
   "source": [
    "%%file L2.py\n",
    "import numpy as np\n",
    "\n",
    "def L2(v, *args):\n",
    "    \"\"\"Returns the L2 norm (weighted if weights specified) of a vector v.\n",
    "    \n",
    "    INPUTS\n",
    "    =======\n",
    "    v: list\n",
    "       Components of the vector v = [v1, v2, ..., vn]\n",
    "    *args: list, optional\n",
    "       Weights for each component of v\n",
    "    \n",
    "    RETURNS\n",
    "    ========\n",
    "    L2 norm: float\n",
    "       Weighted L2 norm of the vector using the weight values specified by *args\n",
    "       A value exception is raised when the vector and the weights have different length\n",
    "\n",
    "    NOTES\n",
    "    =====\n",
    "    PRE: \n",
    "         - v is a list of numeric type values\n",
    "         - w is a list of numeric type values\n",
    "    POST:\n",
    "         - v and *args are not changed by this function\n",
    "         - raises a ValueError exception if the vector and the weights have different length\n",
    "         - returns weighted L2 norm of the vector\n",
    "\n",
    "    EXAMPLES\n",
    "    =========\n",
    "    >>> L2([4, 3], [1, 1])\n",
    "    5\n",
    "    \"\"\"\n",
    "    s = 0.0 # Initialize sum\n",
    "    if len(args) == 0: # No weight vector\n",
    "        for vi in v:\n",
    "            s += vi * vi\n",
    "    else: # Weight vector present\n",
    "        w = args[0] # Get the weight vector\n",
    "        if (len(w) != len(v)): # Check lengths of lists\n",
    "            raise ValueError(\"Length of list of weights must match length of target list.\")\n",
    "        for i, vi in enumerate(v):\n",
    "            s += w[i] * w[i] * vi * vi\n",
    "    return np.sqrt(s)"
   ]
  },
  {
   "cell_type": "code",
   "execution_count": 5,
   "metadata": {},
   "outputs": [
    {
     "name": "stdout",
     "output_type": "stream",
     "text": [
      "Writing test_L2.py\n"
     ]
    }
   ],
   "source": [
    "%%file test_L2.py\n",
    "import L2\n",
    "\n",
    "def test_L2_result_1():\n",
    "    assert L2.L2([4, 3], [1, 1]) == 5\n",
    "\n",
    "def test_L2_result_2():\n",
    "    assert L2.L2([5., 12.]) == 13\n",
    "\n",
    "def test_L2_sameLength():\n",
    "    try:\n",
    "        L2.L2([4, 3], [1])\n",
    "    except ValueError as err:\n",
    "        assert(type(err) == ValueError)\n",
    "\n",
    "def test_L2_types():\n",
    "    try:\n",
    "        L2.L2('hahahaha')\n",
    "    except TypeError as err:\n",
    "        assert(type(err) == TypeError)\n"
   ]
  },
  {
   "cell_type": "code",
   "execution_count": 7,
   "metadata": {},
   "outputs": [
    {
     "name": "stdout",
     "output_type": "stream",
     "text": [
      "\u001b[1m============================= test session starts ==============================\u001b[0m\n",
      "platform darwin -- Python 3.6.1, pytest-3.0.7, py-1.4.33, pluggy-0.4.0\n",
      "rootdir: /Users/jasminetong/Documents/Master@Harvard-MIT/2017_Fall/CS207/cs207_Jiawen_Tong/lectures/L7, inifile:\n",
      "collected 4 items \u001b[0m\u001b[1m\n",
      "\u001b[0m\n",
      "test_L2.py ....\n",
      "\n",
      "\u001b[32m\u001b[1m=========================== 4 passed in 0.20 seconds ===========================\u001b[0m\n"
     ]
    }
   ],
   "source": [
    "!pytest test_L2.py"
   ]
  },
  {
   "cell_type": "code",
   "execution_count": null,
   "metadata": {
    "collapsed": true
   },
   "outputs": [],
   "source": []
  }
 ],
 "metadata": {
  "kernelspec": {
   "display_name": "Python 3",
   "language": "python",
   "name": "python3"
  },
  "language_info": {
   "codemirror_mode": {
    "name": "ipython",
    "version": 3
   },
   "file_extension": ".py",
   "mimetype": "text/x-python",
   "name": "python",
   "nbconvert_exporter": "python",
   "pygments_lexer": "ipython3",
   "version": "3.6.1"
  }
 },
 "nbformat": 4,
 "nbformat_minor": 2
}
