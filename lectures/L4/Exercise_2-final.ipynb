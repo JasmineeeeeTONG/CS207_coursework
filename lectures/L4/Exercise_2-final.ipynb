{
 "cells": [
  {
   "cell_type": "markdown",
   "metadata": {},
   "source": [
    "## Exercise 2\n",
    "This exercise will walk you through the creation of a dictionary.\n",
    "1. First, load the data in the `names.txt` file.  This file contains common names of some species.  Load this into a list.\n",
    "2. Do the same thing with the `species.txt` file.  This file contains chemical formulae for some species.\n",
    "3. Now create a dictionary where the data from `names.txt` are the values and the data from `species.txt` are the keys.\n",
    "  + You should automate the creation of the dictionary by using a `for` loop\n",
    "  + The `for` loop should iterate over the representation created by the `zip` function. You can refer to the example around line 32 in Lecture 4 for guidance.\n",
    "  + **HINT:** Initialize the dictionary by with `my_new_dict = {}` just before executing the `for` loop.\n",
    "4. Access a value from the dictonary and print it to the screen.\n",
    "\n",
    "**Note:** The same dictionary can be created by executing the following one-liner:  `species_dict_2 = dict(zip(species, names))`."
   ]
  },
  {
   "cell_type": "code",
   "execution_count": 1,
   "metadata": {},
   "outputs": [
    {
     "name": "stdout",
     "output_type": "stream",
     "text": [
      "['Hydrogen', 'Oxygen', 'Hydroxyl', 'Water', 'Hydrogen Peroxide']\n",
      "['H2', 'O2', 'OH', 'H2O', 'H2O2']\n"
     ]
    }
   ],
   "source": [
    "def readlines_to_list(filename):\n",
    "    f = open(filename)\n",
    "    lines = f.readlines()\n",
    "    li_lines = []\n",
    "    for line in lines:\n",
    "        li_lines.append(line.replace('\\n', ''))\n",
    "    return li_lines\n",
    "\n",
    "li_names = readlines_to_list('names.txt')\n",
    "print(li_names)\n",
    "li_species = readlines_to_list('species.txt')\n",
    "print(li_species)"
   ]
  },
  {
   "cell_type": "code",
   "execution_count": 2,
   "metadata": {},
   "outputs": [
    {
     "name": "stdout",
     "output_type": "stream",
     "text": [
      "{'H2': 'Hydrogen', 'O2': 'Oxygen', 'OH': 'Hydroxyl', 'H2O': 'Water', 'H2O2': 'Hydrogen Peroxide'}\n"
     ]
    }
   ],
   "source": [
    "# my redundant way of trying zip and create the dict...\n",
    "zipped_list = list(zip(li_names, li_species))\n",
    "my_new_dict_v0 = {}\n",
    "length = len(li_names)\n",
    "for item in zipped_list:\n",
    "    my_new_dict_v0[item[1]] = item[0]\n",
    "print(my_new_dict_v0)"
   ]
  },
  {
   "cell_type": "code",
   "execution_count": 3,
   "metadata": {},
   "outputs": [
    {
     "name": "stdout",
     "output_type": "stream",
     "text": [
      "{'H2': 'Hydrogen', 'O2': 'Oxygen', 'OH': 'Hydroxyl', 'H2O': 'Water', 'H2O2': 'Hydrogen Peroxide'}\n"
     ]
    }
   ],
   "source": [
    "# better way\n",
    "my_new_dict = {}\n",
    "for s, name in zip(li_species, li_names):\n",
    "    my_new_dict[s] = name\n",
    "print(my_new_dict)"
   ]
  },
  {
   "cell_type": "code",
   "execution_count": 4,
   "metadata": {},
   "outputs": [
    {
     "name": "stdout",
     "output_type": "stream",
     "text": [
      "Accessing my_new_dict with key=H2O:  Water\n"
     ]
    }
   ],
   "source": [
    "print('Accessing my_new_dict with key=H2O: ',my_new_dict['H2O'])"
   ]
  },
  {
   "cell_type": "code",
   "execution_count": null,
   "metadata": {
    "collapsed": true
   },
   "outputs": [],
   "source": []
  }
 ],
 "metadata": {
  "kernelspec": {
   "display_name": "Python 3",
   "language": "python",
   "name": "python3"
  },
  "language_info": {
   "codemirror_mode": {
    "name": "ipython",
    "version": 3
   },
   "file_extension": ".py",
   "mimetype": "text/x-python",
   "name": "python",
   "nbconvert_exporter": "python",
   "pygments_lexer": "ipython3",
   "version": "3.6.1"
  }
 },
 "nbformat": 4,
 "nbformat_minor": 2
}
