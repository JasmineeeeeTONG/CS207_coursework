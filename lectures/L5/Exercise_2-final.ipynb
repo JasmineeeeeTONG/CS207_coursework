{
 "cells": [
  {
   "cell_type": "markdown",
   "metadata": {},
   "source": [
    "# Exercise 2\n",
    "Write a function to compute the roots of a mathematical equation of the form\n",
    "\\begin{align}\n",
    "  ax^{2} + bx + c = 0.\n",
    "\\end{align}\n",
    "Your function should be sensitive enough to adapt to situations in which a user might accidentally set $a=0$, or $b=0$, or even $a=b=0$.  For example, if $a=0, b\\neq 0$, your function should print a warning and compute the roots of the resulting linear function.  It is up to you on how to handle the function header: feel free to use default keyword arguments, variable positional arguments, variable keyword arguments, or something else as you see fit.  Try to make it user friendly.\n",
    "\n",
    "Your function should return a tuple containing the roots of the provided equation.\n",
    "\n",
    "**Hint:** Quadratic equations can have complex roots of the form $r = a + ib$ where $i=\\sqrt{-1}$ (Python uses the notation $j=\\sqrt{-1}$).  To deal with complex roots, you should import the `cmath` library and use `cmath.sqrt` when computing square roots.  `cmath` will return a complex number for you.  You could handle complex roots yourself if you want, but you might as well use available libraries to save some work."
   ]
  },
  {
   "cell_type": "code",
   "execution_count": 20,
   "metadata": {
    "collapsed": true
   },
   "outputs": [],
   "source": [
    "import cmath\n",
    "\n",
    "def solve_quadratic(a, b, c):\n",
    "    if a == 0: \n",
    "        if b == 0: \n",
    "            if c == 0: # infinetly many roots for c = 0\n",
    "                raise Exception('The input equation is \"0=0\". Any value is a solution!')\n",
    "            else : # no root for c != 0\n",
    "                raise Exception('The input equation is c=0 for your c != 0. No solutions！')\n",
    "        else:\n",
    "            print('Soving a linear equation bx+c=0...')\n",
    "            return ((-c/b),)\n",
    "    delta = b*b - 4*a*c\n",
    "    if delta >= 0: # 2 real roots\n",
    "        r1 = (-b + math.sqrt(delta))/(2*a)\n",
    "        r2 = (-b - math.sqrt(delta))/(2*a)\n",
    "    else: # 2 complex roots\n",
    "        r1 = (-b + cmath.sqrt(delta))/(2*a)\n",
    "        r2 = (-b - cmath.sqrt(delta))/(2*a)\n",
    "    return (r1, r2)\n",
    "        "
   ]
  },
  {
   "cell_type": "code",
   "execution_count": 23,
   "metadata": {},
   "outputs": [
    {
     "name": "stdout",
     "output_type": "stream",
     "text": [
      "Soving a linear equation bx+c=0...\n"
     ]
    },
    {
     "data": {
      "text/plain": [
       "(-2.0,)"
      ]
     },
     "execution_count": 23,
     "metadata": {},
     "output_type": "execute_result"
    }
   ],
   "source": [
    "results = solve_quadratic(0,1,2)\n",
    "results"
   ]
  },
  {
   "cell_type": "code",
   "execution_count": null,
   "metadata": {
    "collapsed": true
   },
   "outputs": [],
   "source": []
  }
 ],
 "metadata": {
  "kernelspec": {
   "display_name": "Python 3",
   "language": "python",
   "name": "python3"
  },
  "language_info": {
   "codemirror_mode": {
    "name": "ipython",
    "version": 3
   },
   "file_extension": ".py",
   "mimetype": "text/x-python",
   "name": "python",
   "nbconvert_exporter": "python",
   "pygments_lexer": "ipython3",
   "version": "3.6.1"
  }
 },
 "nbformat": 4,
 "nbformat_minor": 2
}
