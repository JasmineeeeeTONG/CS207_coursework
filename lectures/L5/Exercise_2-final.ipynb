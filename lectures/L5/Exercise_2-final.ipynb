{
 "cells": [
  {
   "cell_type": "markdown",
   "metadata": {},
   "source": [
    "# Exercise 2\n",
    "Write a function to compute the roots of a mathematical equation of the form\n",
    "\\begin{align}\n",
    "  ax^{2} + bx + c = 0.\n",
    "\\end{align}\n",
    "Your function should be sensitive enough to adapt to situations in which a user might accidentally set $a=0$, or $b=0$, or even $a=b=0$.  For example, if $a=0, b\\neq 0$, your function should print a warning and compute the roots of the resulting linear function.  It is up to you on how to handle the function header: feel free to use default keyword arguments, variable positional arguments, variable keyword arguments, or something else as you see fit.  Try to make it user friendly.\n",
    "\n",
    "Your function should return a tuple containing the roots of the provided equation.\n",
    "\n",
    "**Hint:** Quadratic equations can have complex roots of the form $r = a + ib$ where $i=\\sqrt{-1}$ (Python uses the notation $j=\\sqrt{-1}$).  To deal with complex roots, you should import the `cmath` library and use `cmath.sqrt` when computing square roots.  `cmath` will return a complex number for you.  You could handle complex roots yourself if you want, but you might as well use available libraries to save some work."
   ]
  },
  {
   "cell_type": "code",
   "execution_count": 27,
   "metadata": {
    "collapsed": true
   },
   "outputs": [],
   "source": [
    "import cmath\n",
    "import warnings\n",
    "\n",
    "def solve_quadratic(a, b, c):\n",
    "    if a == 0: \n",
    "        if b == 0: \n",
    "            if c == 0: # infinetly many roots for c = 0\n",
    "                raise Exception('The input equation is \"0=0\". Any value is a solution!')\n",
    "            else : # no root for c != 0\n",
    "                raise Exception('The input equation is c=0 for your c != 0. No solutions！')\n",
    "        else:\n",
    "            warnings.warn('Soving a linear equation bx+c=0. You only get one root.')\n",
    "            return (-c/b)\n",
    "    delta = b*b - 4*a*c\n",
    "    if delta >= 0: # 2 real roots\n",
    "        r1 = (-b + math.sqrt(delta))/(2*a)\n",
    "        r2 = (-b - math.sqrt(delta))/(2*a)\n",
    "    else: # 2 complex roots\n",
    "        r1 = (-b + cmath.sqrt(delta))/(2*a)\n",
    "        r2 = (-b - cmath.sqrt(delta))/(2*a)\n",
    "    return (r1, r2)\n",
    "        "
   ]
  },
  {
   "cell_type": "code",
   "execution_count": 29,
   "metadata": {},
   "outputs": [
    {
     "name": "stderr",
     "output_type": "stream",
     "text": [
      "/Users/jasminetong/anaconda/lib/python3.6/site-packages/ipykernel_launcher.py:12: UserWarning: Soving a linear equation bx+c=0. You only get one root.\n",
      "  if sys.path[0] == '':\n"
     ]
    },
    {
     "data": {
      "text/plain": [
       "2.0"
      ]
     },
     "execution_count": 29,
     "metadata": {},
     "output_type": "execute_result"
    }
   ],
   "source": [
    "# solve the linear equation\n",
    "solve_quadratic(0,2,-4)"
   ]
  },
  {
   "cell_type": "code",
   "execution_count": 31,
   "metadata": {},
   "outputs": [
    {
     "data": {
      "text/plain": [
       "(-2.0, -2.0)"
      ]
     },
     "execution_count": 31,
     "metadata": {},
     "output_type": "execute_result"
    }
   ],
   "source": [
    "# solve the most normal quadratic equation\n",
    "solve_quadratic(1,4,4)"
   ]
  },
  {
   "cell_type": "code",
   "execution_count": 32,
   "metadata": {},
   "outputs": [
    {
     "ename": "Exception",
     "evalue": "The input equation is c=0 for your c != 0. No solutions！",
     "output_type": "error",
     "traceback": [
      "\u001b[0;31m---------------------------------------------------------------------------\u001b[0m",
      "\u001b[0;31mException\u001b[0m                                 Traceback (most recent call last)",
      "\u001b[0;32m<ipython-input-32-12ad5f37eb03>\u001b[0m in \u001b[0;36m<module>\u001b[0;34m()\u001b[0m\n\u001b[0;32m----> 1\u001b[0;31m \u001b[0msolve_quadratic\u001b[0m\u001b[0;34m(\u001b[0m\u001b[0;36m0\u001b[0m\u001b[0;34m,\u001b[0m\u001b[0;36m0\u001b[0m\u001b[0;34m,\u001b[0m\u001b[0;36m4\u001b[0m\u001b[0;34m)\u001b[0m\u001b[0;34m\u001b[0m\u001b[0m\n\u001b[0m",
      "\u001b[0;32m<ipython-input-27-b7691fb68727>\u001b[0m in \u001b[0;36msolve_quadratic\u001b[0;34m(a, b, c)\u001b[0m\n\u001b[1;32m      8\u001b[0m                 \u001b[0;32mraise\u001b[0m \u001b[0mException\u001b[0m\u001b[0;34m(\u001b[0m\u001b[0;34m'The input equation is \"0=0\". Any value is a solution!'\u001b[0m\u001b[0;34m)\u001b[0m\u001b[0;34m\u001b[0m\u001b[0m\n\u001b[1;32m      9\u001b[0m             \u001b[0;32melse\u001b[0m \u001b[0;34m:\u001b[0m \u001b[0;31m# no root for c != 0\u001b[0m\u001b[0;34m\u001b[0m\u001b[0m\n\u001b[0;32m---> 10\u001b[0;31m                 \u001b[0;32mraise\u001b[0m \u001b[0mException\u001b[0m\u001b[0;34m(\u001b[0m\u001b[0;34m'The input equation is c=0 for your c != 0. No solutions！'\u001b[0m\u001b[0;34m)\u001b[0m\u001b[0;34m\u001b[0m\u001b[0m\n\u001b[0m\u001b[1;32m     11\u001b[0m         \u001b[0;32melse\u001b[0m\u001b[0;34m:\u001b[0m\u001b[0;34m\u001b[0m\u001b[0m\n\u001b[1;32m     12\u001b[0m             \u001b[0mwarnings\u001b[0m\u001b[0;34m.\u001b[0m\u001b[0mwarn\u001b[0m\u001b[0;34m(\u001b[0m\u001b[0;34m'Soving a linear equation bx+c=0. You only get one root.'\u001b[0m\u001b[0;34m)\u001b[0m\u001b[0;34m\u001b[0m\u001b[0m\n",
      "\u001b[0;31mException\u001b[0m: The input equation is c=0 for your c != 0. No solutions！"
     ]
    }
   ],
   "source": [
    "# No solutions for the equation \"4=0\"\n",
    "solve_quadratic(0,0,4)"
   ]
  },
  {
   "cell_type": "code",
   "execution_count": null,
   "metadata": {
    "collapsed": true
   },
   "outputs": [],
   "source": []
  }
 ],
 "metadata": {
  "kernelspec": {
   "display_name": "Python 3",
   "language": "python",
   "name": "python3"
  },
  "language_info": {
   "codemirror_mode": {
    "name": "ipython",
    "version": 3
   },
   "file_extension": ".py",
   "mimetype": "text/x-python",
   "name": "python",
   "nbconvert_exporter": "python",
   "pygments_lexer": "ipython3",
   "version": "3.6.1"
  }
 },
 "nbformat": 4,
 "nbformat_minor": 2
}
