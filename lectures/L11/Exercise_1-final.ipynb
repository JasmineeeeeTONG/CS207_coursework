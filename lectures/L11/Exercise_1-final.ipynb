{
 "cells": [
  {
   "cell_type": "markdown",
   "metadata": {},
   "source": [
    "# Exercise 1\n",
    "Read and parse the chemical reactions `.xml` input file `rxns.xml`.\n",
    "\n",
    "\n",
    "1. Collect the species into a species list.  My output is `['H', 'O', 'OH', 'H2', 'O2']`.\n",
    "    \n",
    "    Some notes and hints:\n",
    "    * **Hint:**  For this `.xml` format you should have a loop over the `phase` element.\n",
    "    * **Hint:** You can use the `find()` method to get the species array.\n",
    "\n",
    "2. Calculate and print out the Arrhenius reaction rate coefficients using $R = 8.314$ and $T = 1500$.\n",
    "\n",
    "    Some notes and hints:\n",
    "    * **Hint:**  For this `.xml` format you should have loops over the `reactionData` element, the `reaction` element, the `rateCoeff` element, and the `Arrhenius` element using the `findall()` method discussed in lecture.\n",
    "    * **Hint:** You can use the `find()` method to get the reaction rate coefficients.\n",
    "    * My solution is:\n",
    "    \n",
    "        `k for reaction01 =    6.8678391864294477e+05\n",
    "    k for reaction02 =    2.3105559199959813e+06`"
   ]
  },
  {
   "cell_type": "code",
   "execution_count": 1,
   "metadata": {},
   "outputs": [
    {
     "data": {
      "text/plain": [
       "['H', 'O', 'OH', 'H2', 'O2']"
      ]
     },
     "execution_count": 1,
     "metadata": {},
     "output_type": "execute_result"
    }
   ],
   "source": [
    "import xml.etree.ElementTree as ET\n",
    "import math\n",
    "\n",
    "tree = ET.parse('rxns.xml')\n",
    "\n",
    "phase = tree.find('phase')\n",
    "species_arr = tree.find('speciesArray')\n",
    "\n",
    "for child in phase:\n",
    "    species_list = child.text.strip().split(' ')\n",
    "\n",
    "species_list"
   ]
  },
  {
   "cell_type": "code",
   "execution_count": 2,
   "metadata": {
    "collapsed": true
   },
   "outputs": [],
   "source": [
    "def get_reaction_rate_coeff(T, params, R=8.314): \n",
    "    \n",
    "    if T <= 0: \n",
    "        raise ValueError('Temperature T must be positive.')\n",
    "    if len(params) != 3:\n",
    "        raise Exception('To get modified Arrhenius reaction rate, the length of params must be 3 in the order of [A, b, E].')\n",
    "    if params[0] <= 0:\n",
    "        raise ValueError('The Arrhenius prefactor A must be positive.')\n",
    "    if isinstance(params[1], complex) and params[1].imag != 0:\n",
    "        raise ValueError('The modified Arrhenius parameter b must be real.')\n",
    "    if R != 8.314:\n",
    "        warnings.warn('Warning: R = 8.314, the ideal gas constant should never be changed except to convert units.')\n",
    "    A = params[0]\n",
    "    b = params[1]\n",
    "    E = params[2]\n",
    "    \n",
    "    try:\n",
    "        ans = A * pow(T, b) * math.exp((-1)*E/(R*T))\n",
    "        if ans == 0: \n",
    "            warnings.warn('Underflow: k is too close to 0, return value is set to 0.')\n",
    "    except OverflowError:\n",
    "        warnings.warn('Overflow: k is too large, return value is set to float(\\'inf\\').')\n",
    "        ans = float('inf')\n",
    "    return ans"
   ]
  },
  {
   "cell_type": "code",
   "execution_count": 3,
   "metadata": {},
   "outputs": [
    {
     "name": "stdout",
     "output_type": "stream",
     "text": [
      "k for reaction01 = 6.8678391864294477e+5\n",
      "k for reaction02 = 2.3105559199959813e+6\n"
     ]
    }
   ],
   "source": [
    "from decimal import Decimal\n",
    "\n",
    "T = 1500\n",
    "reaction_data = tree.find('reactionData')\n",
    "reactions = reaction_data.findall('reaction')\n",
    "for reaction in reactions:\n",
    "    rateCoeffs = reaction.findall('rateCoeff')\n",
    "    for rateCoeff in rateCoeffs:\n",
    "        arrheniuses = rateCoeff.findall('Arrhenius')\n",
    "        for arrhenius in arrheniuses:\n",
    "            A = float(arrhenius.find('A').text)\n",
    "            b = float(arrhenius.find('b').text)\n",
    "            E = float(arrhenius.find('E').text)\n",
    "            params = [A, b, E]\n",
    "            print('k for {} = {:.16e}'.format(reaction.get('id'), Decimal(get_reaction_rate_coeff(T, params))))\n",
    "\n"
   ]
  },
  {
   "cell_type": "code",
   "execution_count": null,
   "metadata": {
    "collapsed": true
   },
   "outputs": [],
   "source": []
  }
 ],
 "metadata": {
  "kernelspec": {
   "display_name": "Python 3",
   "language": "python",
   "name": "python3"
  },
  "language_info": {
   "codemirror_mode": {
    "name": "ipython",
    "version": 3
   },
   "file_extension": ".py",
   "mimetype": "text/x-python",
   "name": "python",
   "nbconvert_exporter": "python",
   "pygments_lexer": "ipython3",
   "version": "3.6.1"
  }
 },
 "nbformat": 4,
 "nbformat_minor": 2
}
